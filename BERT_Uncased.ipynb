{
  "nbformat": 4,
  "nbformat_minor": 0,
  "metadata": {
    "colab": {
      "name": "BERT_Uncased.ipynb",
      "provenance": [],
      "collapsed_sections": []
    },
    "kernelspec": {
      "name": "python3",
      "display_name": "Python 3"
    },
    "accelerator": "GPU",
    "widgets": {
      "application/vnd.jupyter.widget-state+json": {
        "f2865da279944c2ab36c2e330483a10f": {
          "model_module": "@jupyter-widgets/controls",
          "model_name": "HBoxModel",
          "state": {
            "_view_name": "HBoxView",
            "_dom_classes": [],
            "_model_name": "HBoxModel",
            "_view_module": "@jupyter-widgets/controls",
            "_model_module_version": "1.5.0",
            "_view_count": null,
            "_view_module_version": "1.5.0",
            "box_style": "",
            "layout": "IPY_MODEL_014ff6fcce9c424aba12bae12de08dfa",
            "_model_module": "@jupyter-widgets/controls",
            "children": [
              "IPY_MODEL_e5f4e974162f47248ef23580b5a9f063",
              "IPY_MODEL_0a31284ecf67453eacab64d72c6c9432"
            ]
          }
        },
        "014ff6fcce9c424aba12bae12de08dfa": {
          "model_module": "@jupyter-widgets/base",
          "model_name": "LayoutModel",
          "state": {
            "_view_name": "LayoutView",
            "grid_template_rows": null,
            "right": null,
            "justify_content": null,
            "_view_module": "@jupyter-widgets/base",
            "overflow": null,
            "_model_module_version": "1.2.0",
            "_view_count": null,
            "flex_flow": null,
            "width": null,
            "min_width": null,
            "border": null,
            "align_items": null,
            "bottom": null,
            "_model_module": "@jupyter-widgets/base",
            "top": null,
            "grid_column": null,
            "overflow_y": null,
            "overflow_x": null,
            "grid_auto_flow": null,
            "grid_area": null,
            "grid_template_columns": null,
            "flex": null,
            "_model_name": "LayoutModel",
            "justify_items": null,
            "grid_row": null,
            "max_height": null,
            "align_content": null,
            "visibility": null,
            "align_self": null,
            "height": null,
            "min_height": null,
            "padding": null,
            "grid_auto_rows": null,
            "grid_gap": null,
            "max_width": null,
            "order": null,
            "_view_module_version": "1.2.0",
            "grid_template_areas": null,
            "object_position": null,
            "object_fit": null,
            "grid_auto_columns": null,
            "margin": null,
            "display": null,
            "left": null
          }
        },
        "e5f4e974162f47248ef23580b5a9f063": {
          "model_module": "@jupyter-widgets/controls",
          "model_name": "FloatProgressModel",
          "state": {
            "_view_name": "ProgressView",
            "style": "IPY_MODEL_e1d2581257014e2b90276481ab233f0b",
            "_dom_classes": [],
            "description": "Downloading: 100%",
            "_model_name": "FloatProgressModel",
            "bar_style": "success",
            "max": 231508,
            "_view_module": "@jupyter-widgets/controls",
            "_model_module_version": "1.5.0",
            "value": 231508,
            "_view_count": null,
            "_view_module_version": "1.5.0",
            "orientation": "horizontal",
            "min": 0,
            "description_tooltip": null,
            "_model_module": "@jupyter-widgets/controls",
            "layout": "IPY_MODEL_8441b85d09474569886a2283bb2471cb"
          }
        },
        "0a31284ecf67453eacab64d72c6c9432": {
          "model_module": "@jupyter-widgets/controls",
          "model_name": "HTMLModel",
          "state": {
            "_view_name": "HTMLView",
            "style": "IPY_MODEL_6eeb62675c9847d19e9c49b2595da831",
            "_dom_classes": [],
            "description": "",
            "_model_name": "HTMLModel",
            "placeholder": "​",
            "_view_module": "@jupyter-widgets/controls",
            "_model_module_version": "1.5.0",
            "value": " 232k/232k [00:00&lt;00:00, 728kB/s]",
            "_view_count": null,
            "_view_module_version": "1.5.0",
            "description_tooltip": null,
            "_model_module": "@jupyter-widgets/controls",
            "layout": "IPY_MODEL_4a40451531f94262b25332deb617f6ed"
          }
        },
        "e1d2581257014e2b90276481ab233f0b": {
          "model_module": "@jupyter-widgets/controls",
          "model_name": "ProgressStyleModel",
          "state": {
            "_view_name": "StyleView",
            "_model_name": "ProgressStyleModel",
            "description_width": "initial",
            "_view_module": "@jupyter-widgets/base",
            "_model_module_version": "1.5.0",
            "_view_count": null,
            "_view_module_version": "1.2.0",
            "bar_color": null,
            "_model_module": "@jupyter-widgets/controls"
          }
        },
        "8441b85d09474569886a2283bb2471cb": {
          "model_module": "@jupyter-widgets/base",
          "model_name": "LayoutModel",
          "state": {
            "_view_name": "LayoutView",
            "grid_template_rows": null,
            "right": null,
            "justify_content": null,
            "_view_module": "@jupyter-widgets/base",
            "overflow": null,
            "_model_module_version": "1.2.0",
            "_view_count": null,
            "flex_flow": null,
            "width": null,
            "min_width": null,
            "border": null,
            "align_items": null,
            "bottom": null,
            "_model_module": "@jupyter-widgets/base",
            "top": null,
            "grid_column": null,
            "overflow_y": null,
            "overflow_x": null,
            "grid_auto_flow": null,
            "grid_area": null,
            "grid_template_columns": null,
            "flex": null,
            "_model_name": "LayoutModel",
            "justify_items": null,
            "grid_row": null,
            "max_height": null,
            "align_content": null,
            "visibility": null,
            "align_self": null,
            "height": null,
            "min_height": null,
            "padding": null,
            "grid_auto_rows": null,
            "grid_gap": null,
            "max_width": null,
            "order": null,
            "_view_module_version": "1.2.0",
            "grid_template_areas": null,
            "object_position": null,
            "object_fit": null,
            "grid_auto_columns": null,
            "margin": null,
            "display": null,
            "left": null
          }
        },
        "6eeb62675c9847d19e9c49b2595da831": {
          "model_module": "@jupyter-widgets/controls",
          "model_name": "DescriptionStyleModel",
          "state": {
            "_view_name": "StyleView",
            "_model_name": "DescriptionStyleModel",
            "description_width": "",
            "_view_module": "@jupyter-widgets/base",
            "_model_module_version": "1.5.0",
            "_view_count": null,
            "_view_module_version": "1.2.0",
            "_model_module": "@jupyter-widgets/controls"
          }
        },
        "4a40451531f94262b25332deb617f6ed": {
          "model_module": "@jupyter-widgets/base",
          "model_name": "LayoutModel",
          "state": {
            "_view_name": "LayoutView",
            "grid_template_rows": null,
            "right": null,
            "justify_content": null,
            "_view_module": "@jupyter-widgets/base",
            "overflow": null,
            "_model_module_version": "1.2.0",
            "_view_count": null,
            "flex_flow": null,
            "width": null,
            "min_width": null,
            "border": null,
            "align_items": null,
            "bottom": null,
            "_model_module": "@jupyter-widgets/base",
            "top": null,
            "grid_column": null,
            "overflow_y": null,
            "overflow_x": null,
            "grid_auto_flow": null,
            "grid_area": null,
            "grid_template_columns": null,
            "flex": null,
            "_model_name": "LayoutModel",
            "justify_items": null,
            "grid_row": null,
            "max_height": null,
            "align_content": null,
            "visibility": null,
            "align_self": null,
            "height": null,
            "min_height": null,
            "padding": null,
            "grid_auto_rows": null,
            "grid_gap": null,
            "max_width": null,
            "order": null,
            "_view_module_version": "1.2.0",
            "grid_template_areas": null,
            "object_position": null,
            "object_fit": null,
            "grid_auto_columns": null,
            "margin": null,
            "display": null,
            "left": null
          }
        },
        "1c83df503105446694f5b1a4859d6062": {
          "model_module": "@jupyter-widgets/controls",
          "model_name": "HBoxModel",
          "state": {
            "_view_name": "HBoxView",
            "_dom_classes": [],
            "_model_name": "HBoxModel",
            "_view_module": "@jupyter-widgets/controls",
            "_model_module_version": "1.5.0",
            "_view_count": null,
            "_view_module_version": "1.5.0",
            "box_style": "",
            "layout": "IPY_MODEL_4c57876fab7f4e709a15f05f0f4da217",
            "_model_module": "@jupyter-widgets/controls",
            "children": [
              "IPY_MODEL_c23cd4e69cdb462581fdc483a93bad01",
              "IPY_MODEL_da1e472397dd42d9bacf0a01ad7482af"
            ]
          }
        },
        "4c57876fab7f4e709a15f05f0f4da217": {
          "model_module": "@jupyter-widgets/base",
          "model_name": "LayoutModel",
          "state": {
            "_view_name": "LayoutView",
            "grid_template_rows": null,
            "right": null,
            "justify_content": null,
            "_view_module": "@jupyter-widgets/base",
            "overflow": null,
            "_model_module_version": "1.2.0",
            "_view_count": null,
            "flex_flow": null,
            "width": null,
            "min_width": null,
            "border": null,
            "align_items": null,
            "bottom": null,
            "_model_module": "@jupyter-widgets/base",
            "top": null,
            "grid_column": null,
            "overflow_y": null,
            "overflow_x": null,
            "grid_auto_flow": null,
            "grid_area": null,
            "grid_template_columns": null,
            "flex": null,
            "_model_name": "LayoutModel",
            "justify_items": null,
            "grid_row": null,
            "max_height": null,
            "align_content": null,
            "visibility": null,
            "align_self": null,
            "height": null,
            "min_height": null,
            "padding": null,
            "grid_auto_rows": null,
            "grid_gap": null,
            "max_width": null,
            "order": null,
            "_view_module_version": "1.2.0",
            "grid_template_areas": null,
            "object_position": null,
            "object_fit": null,
            "grid_auto_columns": null,
            "margin": null,
            "display": null,
            "left": null
          }
        },
        "c23cd4e69cdb462581fdc483a93bad01": {
          "model_module": "@jupyter-widgets/controls",
          "model_name": "FloatProgressModel",
          "state": {
            "_view_name": "ProgressView",
            "style": "IPY_MODEL_836071e6b8a3457e9d0bfd4631b624cd",
            "_dom_classes": [],
            "description": "Downloading: 100%",
            "_model_name": "FloatProgressModel",
            "bar_style": "success",
            "max": 1472569832,
            "_view_module": "@jupyter-widgets/controls",
            "_model_module_version": "1.5.0",
            "value": 1472569832,
            "_view_count": null,
            "_view_module_version": "1.5.0",
            "orientation": "horizontal",
            "min": 0,
            "description_tooltip": null,
            "_model_module": "@jupyter-widgets/controls",
            "layout": "IPY_MODEL_8509c6a645644325bd9327c17c1db73f"
          }
        },
        "da1e472397dd42d9bacf0a01ad7482af": {
          "model_module": "@jupyter-widgets/controls",
          "model_name": "HTMLModel",
          "state": {
            "_view_name": "HTMLView",
            "style": "IPY_MODEL_a0ba19b8b9264fcd9d825eadcf30589e",
            "_dom_classes": [],
            "description": "",
            "_model_name": "HTMLModel",
            "placeholder": "​",
            "_view_module": "@jupyter-widgets/controls",
            "_model_module_version": "1.5.0",
            "value": " 1.47G/1.47G [00:27&lt;00:00, 54.0MB/s]",
            "_view_count": null,
            "_view_module_version": "1.5.0",
            "description_tooltip": null,
            "_model_module": "@jupyter-widgets/controls",
            "layout": "IPY_MODEL_99cda7fd9378434cb483a9dc938837a6"
          }
        },
        "836071e6b8a3457e9d0bfd4631b624cd": {
          "model_module": "@jupyter-widgets/controls",
          "model_name": "ProgressStyleModel",
          "state": {
            "_view_name": "StyleView",
            "_model_name": "ProgressStyleModel",
            "description_width": "initial",
            "_view_module": "@jupyter-widgets/base",
            "_model_module_version": "1.5.0",
            "_view_count": null,
            "_view_module_version": "1.2.0",
            "bar_color": null,
            "_model_module": "@jupyter-widgets/controls"
          }
        },
        "8509c6a645644325bd9327c17c1db73f": {
          "model_module": "@jupyter-widgets/base",
          "model_name": "LayoutModel",
          "state": {
            "_view_name": "LayoutView",
            "grid_template_rows": null,
            "right": null,
            "justify_content": null,
            "_view_module": "@jupyter-widgets/base",
            "overflow": null,
            "_model_module_version": "1.2.0",
            "_view_count": null,
            "flex_flow": null,
            "width": null,
            "min_width": null,
            "border": null,
            "align_items": null,
            "bottom": null,
            "_model_module": "@jupyter-widgets/base",
            "top": null,
            "grid_column": null,
            "overflow_y": null,
            "overflow_x": null,
            "grid_auto_flow": null,
            "grid_area": null,
            "grid_template_columns": null,
            "flex": null,
            "_model_name": "LayoutModel",
            "justify_items": null,
            "grid_row": null,
            "max_height": null,
            "align_content": null,
            "visibility": null,
            "align_self": null,
            "height": null,
            "min_height": null,
            "padding": null,
            "grid_auto_rows": null,
            "grid_gap": null,
            "max_width": null,
            "order": null,
            "_view_module_version": "1.2.0",
            "grid_template_areas": null,
            "object_position": null,
            "object_fit": null,
            "grid_auto_columns": null,
            "margin": null,
            "display": null,
            "left": null
          }
        },
        "a0ba19b8b9264fcd9d825eadcf30589e": {
          "model_module": "@jupyter-widgets/controls",
          "model_name": "DescriptionStyleModel",
          "state": {
            "_view_name": "StyleView",
            "_model_name": "DescriptionStyleModel",
            "description_width": "",
            "_view_module": "@jupyter-widgets/base",
            "_model_module_version": "1.5.0",
            "_view_count": null,
            "_view_module_version": "1.2.0",
            "_model_module": "@jupyter-widgets/controls"
          }
        },
        "99cda7fd9378434cb483a9dc938837a6": {
          "model_module": "@jupyter-widgets/base",
          "model_name": "LayoutModel",
          "state": {
            "_view_name": "LayoutView",
            "grid_template_rows": null,
            "right": null,
            "justify_content": null,
            "_view_module": "@jupyter-widgets/base",
            "overflow": null,
            "_model_module_version": "1.2.0",
            "_view_count": null,
            "flex_flow": null,
            "width": null,
            "min_width": null,
            "border": null,
            "align_items": null,
            "bottom": null,
            "_model_module": "@jupyter-widgets/base",
            "top": null,
            "grid_column": null,
            "overflow_y": null,
            "overflow_x": null,
            "grid_auto_flow": null,
            "grid_area": null,
            "grid_template_columns": null,
            "flex": null,
            "_model_name": "LayoutModel",
            "justify_items": null,
            "grid_row": null,
            "max_height": null,
            "align_content": null,
            "visibility": null,
            "align_self": null,
            "height": null,
            "min_height": null,
            "padding": null,
            "grid_auto_rows": null,
            "grid_gap": null,
            "max_width": null,
            "order": null,
            "_view_module_version": "1.2.0",
            "grid_template_areas": null,
            "object_position": null,
            "object_fit": null,
            "grid_auto_columns": null,
            "margin": null,
            "display": null,
            "left": null
          }
        },
        "f7ed84b4634d442f83b2b2c709338584": {
          "model_module": "@jupyter-widgets/controls",
          "model_name": "HBoxModel",
          "state": {
            "_view_name": "HBoxView",
            "_dom_classes": [],
            "_model_name": "HBoxModel",
            "_view_module": "@jupyter-widgets/controls",
            "_model_module_version": "1.5.0",
            "_view_count": null,
            "_view_module_version": "1.5.0",
            "box_style": "",
            "layout": "IPY_MODEL_1cd525503bd74e0f89b27df76b954c6f",
            "_model_module": "@jupyter-widgets/controls",
            "children": [
              "IPY_MODEL_5ad74bc00a224bc5a042f689e4a7f9d2",
              "IPY_MODEL_42d27c19af6b4086a4395488d6f9e6d6"
            ]
          }
        },
        "1cd525503bd74e0f89b27df76b954c6f": {
          "model_module": "@jupyter-widgets/base",
          "model_name": "LayoutModel",
          "state": {
            "_view_name": "LayoutView",
            "grid_template_rows": null,
            "right": null,
            "justify_content": null,
            "_view_module": "@jupyter-widgets/base",
            "overflow": null,
            "_model_module_version": "1.2.0",
            "_view_count": null,
            "flex_flow": null,
            "width": null,
            "min_width": null,
            "border": null,
            "align_items": null,
            "bottom": null,
            "_model_module": "@jupyter-widgets/base",
            "top": null,
            "grid_column": null,
            "overflow_y": null,
            "overflow_x": null,
            "grid_auto_flow": null,
            "grid_area": null,
            "grid_template_columns": null,
            "flex": null,
            "_model_name": "LayoutModel",
            "justify_items": null,
            "grid_row": null,
            "max_height": null,
            "align_content": null,
            "visibility": null,
            "align_self": null,
            "height": null,
            "min_height": null,
            "padding": null,
            "grid_auto_rows": null,
            "grid_gap": null,
            "max_width": null,
            "order": null,
            "_view_module_version": "1.2.0",
            "grid_template_areas": null,
            "object_position": null,
            "object_fit": null,
            "grid_auto_columns": null,
            "margin": null,
            "display": null,
            "left": null
          }
        },
        "5ad74bc00a224bc5a042f689e4a7f9d2": {
          "model_module": "@jupyter-widgets/controls",
          "model_name": "FloatProgressModel",
          "state": {
            "_view_name": "ProgressView",
            "style": "IPY_MODEL_4e5b1d639c1947468c7c65474f2eb77e",
            "_dom_classes": [],
            "description": "Downloading: 100%",
            "_model_name": "FloatProgressModel",
            "bar_style": "success",
            "max": 433,
            "_view_module": "@jupyter-widgets/controls",
            "_model_module_version": "1.5.0",
            "value": 433,
            "_view_count": null,
            "_view_module_version": "1.5.0",
            "orientation": "horizontal",
            "min": 0,
            "description_tooltip": null,
            "_model_module": "@jupyter-widgets/controls",
            "layout": "IPY_MODEL_bdbb6a88bdfb4d83a2390bff8b45850c"
          }
        },
        "42d27c19af6b4086a4395488d6f9e6d6": {
          "model_module": "@jupyter-widgets/controls",
          "model_name": "HTMLModel",
          "state": {
            "_view_name": "HTMLView",
            "style": "IPY_MODEL_58baf9e2c9f345028f64f08f10ee8680",
            "_dom_classes": [],
            "description": "",
            "_model_name": "HTMLModel",
            "placeholder": "​",
            "_view_module": "@jupyter-widgets/controls",
            "_model_module_version": "1.5.0",
            "value": " 433/433 [00:32&lt;00:00, 13.3B/s]",
            "_view_count": null,
            "_view_module_version": "1.5.0",
            "description_tooltip": null,
            "_model_module": "@jupyter-widgets/controls",
            "layout": "IPY_MODEL_d74fbef402d14af3b4fab89b5fa5ae62"
          }
        },
        "4e5b1d639c1947468c7c65474f2eb77e": {
          "model_module": "@jupyter-widgets/controls",
          "model_name": "ProgressStyleModel",
          "state": {
            "_view_name": "StyleView",
            "_model_name": "ProgressStyleModel",
            "description_width": "initial",
            "_view_module": "@jupyter-widgets/base",
            "_model_module_version": "1.5.0",
            "_view_count": null,
            "_view_module_version": "1.2.0",
            "bar_color": null,
            "_model_module": "@jupyter-widgets/controls"
          }
        },
        "bdbb6a88bdfb4d83a2390bff8b45850c": {
          "model_module": "@jupyter-widgets/base",
          "model_name": "LayoutModel",
          "state": {
            "_view_name": "LayoutView",
            "grid_template_rows": null,
            "right": null,
            "justify_content": null,
            "_view_module": "@jupyter-widgets/base",
            "overflow": null,
            "_model_module_version": "1.2.0",
            "_view_count": null,
            "flex_flow": null,
            "width": null,
            "min_width": null,
            "border": null,
            "align_items": null,
            "bottom": null,
            "_model_module": "@jupyter-widgets/base",
            "top": null,
            "grid_column": null,
            "overflow_y": null,
            "overflow_x": null,
            "grid_auto_flow": null,
            "grid_area": null,
            "grid_template_columns": null,
            "flex": null,
            "_model_name": "LayoutModel",
            "justify_items": null,
            "grid_row": null,
            "max_height": null,
            "align_content": null,
            "visibility": null,
            "align_self": null,
            "height": null,
            "min_height": null,
            "padding": null,
            "grid_auto_rows": null,
            "grid_gap": null,
            "max_width": null,
            "order": null,
            "_view_module_version": "1.2.0",
            "grid_template_areas": null,
            "object_position": null,
            "object_fit": null,
            "grid_auto_columns": null,
            "margin": null,
            "display": null,
            "left": null
          }
        },
        "58baf9e2c9f345028f64f08f10ee8680": {
          "model_module": "@jupyter-widgets/controls",
          "model_name": "DescriptionStyleModel",
          "state": {
            "_view_name": "StyleView",
            "_model_name": "DescriptionStyleModel",
            "description_width": "",
            "_view_module": "@jupyter-widgets/base",
            "_model_module_version": "1.5.0",
            "_view_count": null,
            "_view_module_version": "1.2.0",
            "_model_module": "@jupyter-widgets/controls"
          }
        },
        "d74fbef402d14af3b4fab89b5fa5ae62": {
          "model_module": "@jupyter-widgets/base",
          "model_name": "LayoutModel",
          "state": {
            "_view_name": "LayoutView",
            "grid_template_rows": null,
            "right": null,
            "justify_content": null,
            "_view_module": "@jupyter-widgets/base",
            "overflow": null,
            "_model_module_version": "1.2.0",
            "_view_count": null,
            "flex_flow": null,
            "width": null,
            "min_width": null,
            "border": null,
            "align_items": null,
            "bottom": null,
            "_model_module": "@jupyter-widgets/base",
            "top": null,
            "grid_column": null,
            "overflow_y": null,
            "overflow_x": null,
            "grid_auto_flow": null,
            "grid_area": null,
            "grid_template_columns": null,
            "flex": null,
            "_model_name": "LayoutModel",
            "justify_items": null,
            "grid_row": null,
            "max_height": null,
            "align_content": null,
            "visibility": null,
            "align_self": null,
            "height": null,
            "min_height": null,
            "padding": null,
            "grid_auto_rows": null,
            "grid_gap": null,
            "max_width": null,
            "order": null,
            "_view_module_version": "1.2.0",
            "grid_template_areas": null,
            "object_position": null,
            "object_fit": null,
            "grid_auto_columns": null,
            "margin": null,
            "display": null,
            "left": null
          }
        },
        "ed749125d6814a08a3b558521293e50d": {
          "model_module": "@jupyter-widgets/controls",
          "model_name": "HBoxModel",
          "state": {
            "_view_name": "HBoxView",
            "_dom_classes": [],
            "_model_name": "HBoxModel",
            "_view_module": "@jupyter-widgets/controls",
            "_model_module_version": "1.5.0",
            "_view_count": null,
            "_view_module_version": "1.5.0",
            "box_style": "",
            "layout": "IPY_MODEL_0a4c5e737e964bcdb60207bc07269afb",
            "_model_module": "@jupyter-widgets/controls",
            "children": [
              "IPY_MODEL_7eede042ccc245d2a6e4deb14147aa88",
              "IPY_MODEL_178e8352144c49beaada45e7592b25cb"
            ]
          }
        },
        "0a4c5e737e964bcdb60207bc07269afb": {
          "model_module": "@jupyter-widgets/base",
          "model_name": "LayoutModel",
          "state": {
            "_view_name": "LayoutView",
            "grid_template_rows": null,
            "right": null,
            "justify_content": null,
            "_view_module": "@jupyter-widgets/base",
            "overflow": null,
            "_model_module_version": "1.2.0",
            "_view_count": null,
            "flex_flow": null,
            "width": null,
            "min_width": null,
            "border": null,
            "align_items": null,
            "bottom": null,
            "_model_module": "@jupyter-widgets/base",
            "top": null,
            "grid_column": null,
            "overflow_y": null,
            "overflow_x": null,
            "grid_auto_flow": null,
            "grid_area": null,
            "grid_template_columns": null,
            "flex": null,
            "_model_name": "LayoutModel",
            "justify_items": null,
            "grid_row": null,
            "max_height": null,
            "align_content": null,
            "visibility": null,
            "align_self": null,
            "height": null,
            "min_height": null,
            "padding": null,
            "grid_auto_rows": null,
            "grid_gap": null,
            "max_width": null,
            "order": null,
            "_view_module_version": "1.2.0",
            "grid_template_areas": null,
            "object_position": null,
            "object_fit": null,
            "grid_auto_columns": null,
            "margin": null,
            "display": null,
            "left": null
          }
        },
        "7eede042ccc245d2a6e4deb14147aa88": {
          "model_module": "@jupyter-widgets/controls",
          "model_name": "FloatProgressModel",
          "state": {
            "_view_name": "ProgressView",
            "style": "IPY_MODEL_4517de8962214032939fc703b7a2f0e2",
            "_dom_classes": [],
            "description": "Downloading: 100%",
            "_model_name": "FloatProgressModel",
            "bar_style": "success",
            "max": 536063208,
            "_view_module": "@jupyter-widgets/controls",
            "_model_module_version": "1.5.0",
            "value": 536063208,
            "_view_count": null,
            "_view_module_version": "1.5.0",
            "orientation": "horizontal",
            "min": 0,
            "description_tooltip": null,
            "_model_module": "@jupyter-widgets/controls",
            "layout": "IPY_MODEL_5d7631db334f41cb8ea0f72351c29212"
          }
        },
        "178e8352144c49beaada45e7592b25cb": {
          "model_module": "@jupyter-widgets/controls",
          "model_name": "HTMLModel",
          "state": {
            "_view_name": "HTMLView",
            "style": "IPY_MODEL_9b6014cadbe34c84bb7d06d114e42f46",
            "_dom_classes": [],
            "description": "",
            "_model_name": "HTMLModel",
            "placeholder": "​",
            "_view_module": "@jupyter-widgets/controls",
            "_model_module_version": "1.5.0",
            "value": " 536M/536M [00:32&lt;00:00, 16.6MB/s]",
            "_view_count": null,
            "_view_module_version": "1.5.0",
            "description_tooltip": null,
            "_model_module": "@jupyter-widgets/controls",
            "layout": "IPY_MODEL_ee6ec2e61f124f8aba1468244a588a89"
          }
        },
        "4517de8962214032939fc703b7a2f0e2": {
          "model_module": "@jupyter-widgets/controls",
          "model_name": "ProgressStyleModel",
          "state": {
            "_view_name": "StyleView",
            "_model_name": "ProgressStyleModel",
            "description_width": "initial",
            "_view_module": "@jupyter-widgets/base",
            "_model_module_version": "1.5.0",
            "_view_count": null,
            "_view_module_version": "1.2.0",
            "bar_color": null,
            "_model_module": "@jupyter-widgets/controls"
          }
        },
        "5d7631db334f41cb8ea0f72351c29212": {
          "model_module": "@jupyter-widgets/base",
          "model_name": "LayoutModel",
          "state": {
            "_view_name": "LayoutView",
            "grid_template_rows": null,
            "right": null,
            "justify_content": null,
            "_view_module": "@jupyter-widgets/base",
            "overflow": null,
            "_model_module_version": "1.2.0",
            "_view_count": null,
            "flex_flow": null,
            "width": null,
            "min_width": null,
            "border": null,
            "align_items": null,
            "bottom": null,
            "_model_module": "@jupyter-widgets/base",
            "top": null,
            "grid_column": null,
            "overflow_y": null,
            "overflow_x": null,
            "grid_auto_flow": null,
            "grid_area": null,
            "grid_template_columns": null,
            "flex": null,
            "_model_name": "LayoutModel",
            "justify_items": null,
            "grid_row": null,
            "max_height": null,
            "align_content": null,
            "visibility": null,
            "align_self": null,
            "height": null,
            "min_height": null,
            "padding": null,
            "grid_auto_rows": null,
            "grid_gap": null,
            "max_width": null,
            "order": null,
            "_view_module_version": "1.2.0",
            "grid_template_areas": null,
            "object_position": null,
            "object_fit": null,
            "grid_auto_columns": null,
            "margin": null,
            "display": null,
            "left": null
          }
        },
        "9b6014cadbe34c84bb7d06d114e42f46": {
          "model_module": "@jupyter-widgets/controls",
          "model_name": "DescriptionStyleModel",
          "state": {
            "_view_name": "StyleView",
            "_model_name": "DescriptionStyleModel",
            "description_width": "",
            "_view_module": "@jupyter-widgets/base",
            "_model_module_version": "1.5.0",
            "_view_count": null,
            "_view_module_version": "1.2.0",
            "_model_module": "@jupyter-widgets/controls"
          }
        },
        "ee6ec2e61f124f8aba1468244a588a89": {
          "model_module": "@jupyter-widgets/base",
          "model_name": "LayoutModel",
          "state": {
            "_view_name": "LayoutView",
            "grid_template_rows": null,
            "right": null,
            "justify_content": null,
            "_view_module": "@jupyter-widgets/base",
            "overflow": null,
            "_model_module_version": "1.2.0",
            "_view_count": null,
            "flex_flow": null,
            "width": null,
            "min_width": null,
            "border": null,
            "align_items": null,
            "bottom": null,
            "_model_module": "@jupyter-widgets/base",
            "top": null,
            "grid_column": null,
            "overflow_y": null,
            "overflow_x": null,
            "grid_auto_flow": null,
            "grid_area": null,
            "grid_template_columns": null,
            "flex": null,
            "_model_name": "LayoutModel",
            "justify_items": null,
            "grid_row": null,
            "max_height": null,
            "align_content": null,
            "visibility": null,
            "align_self": null,
            "height": null,
            "min_height": null,
            "padding": null,
            "grid_auto_rows": null,
            "grid_gap": null,
            "max_width": null,
            "order": null,
            "_view_module_version": "1.2.0",
            "grid_template_areas": null,
            "object_position": null,
            "object_fit": null,
            "grid_auto_columns": null,
            "margin": null,
            "display": null,
            "left": null
          }
        }
      }
    }
  },
  "cells": [
    {
      "cell_type": "code",
      "metadata": {
        "id": "afYXUf-Q0yT1",
        "colab_type": "code",
        "colab": {
          "base_uri": "https://localhost:8080/",
          "height": 34
        },
        "outputId": "8af845f7-1c77-43db-d7f1-061b3b4b9065"
      },
      "source": [
        "'''from google.colab import files\n",
        "uploaded = files.upload()'''"
      ],
      "execution_count": null,
      "outputs": [
        {
          "output_type": "execute_result",
          "data": {
            "text/plain": [
              "'from google.colab import files\\nuploaded = files.upload()'"
            ]
          },
          "metadata": {
            "tags": []
          },
          "execution_count": 3
        }
      ]
    },
    {
      "cell_type": "code",
      "metadata": {
        "id": "OY4tQg9BY8mH",
        "colab_type": "code",
        "colab": {
          "base_uri": "https://localhost:8080/",
          "height": 52
        },
        "outputId": "484bac69-bb99-4fa2-9b62-076de5c718bd"
      },
      "source": [
        "!nvidia-smi"
      ],
      "execution_count": null,
      "outputs": [
        {
          "output_type": "stream",
          "text": [
            "NVIDIA-SMI has failed because it couldn't communicate with the NVIDIA driver. Make sure that the latest NVIDIA driver is installed and running.\n",
            "\n"
          ],
          "name": "stdout"
        }
      ]
    },
    {
      "cell_type": "code",
      "metadata": {
        "id": "4KFZbLzFZyOf",
        "colab_type": "code",
        "colab": {}
      },
      "source": [
        "PATH = '/content/drive/My Drive/NLP/'"
      ],
      "execution_count": null,
      "outputs": []
    },
    {
      "cell_type": "code",
      "metadata": {
        "id": "mRkIKpaN0xT4",
        "colab_type": "code",
        "colab": {
          "base_uri": "https://localhost:8080/",
          "height": 871
        },
        "outputId": "6e6c52cb-7f5f-43db-9ee7-380ff5be6078"
      },
      "source": [
        "import pandas as pd, numpy as np\n",
        "import tensorflow as tf\n",
        "import tensorflow.keras.backend as K\n",
        "from sklearn.model_selection import StratifiedKFold\n",
        "!pip install transformers\n",
        "from transformers import *\n",
        "import tokenizers\n",
        "print('TF version',tf.__version__)\n",
        "!pip install emoji\n",
        "import emoji\n",
        "import re\n",
        "import math\n",
        "import keras\n",
        "import json\n",
        "import string\n",
        "import torch\n",
        "import numpy as np\n",
        "import pandas as pd\n",
        "import seaborn as sns\n",
        "from collections import Counter\n",
        "import matplotlib.pyplot as plt\n",
        "from keras.preprocessing.sequence import pad_sequences"
      ],
      "execution_count": null,
      "outputs": [
        {
          "output_type": "stream",
          "text": [
            "Collecting transformers\n",
            "\u001b[?25l  Downloading https://files.pythonhosted.org/packages/48/35/ad2c5b1b8f99feaaf9d7cdadaeef261f098c6e1a6a2935d4d07662a6b780/transformers-2.11.0-py3-none-any.whl (674kB)\n",
            "\r\u001b[K     |▌                               | 10kB 16.6MB/s eta 0:00:01\r\u001b[K     |█                               | 20kB 3.4MB/s eta 0:00:01\r\u001b[K     |█▌                              | 30kB 4.5MB/s eta 0:00:01\r\u001b[K     |██                              | 40kB 4.7MB/s eta 0:00:01\r\u001b[K     |██▍                             | 51kB 3.9MB/s eta 0:00:01\r\u001b[K     |███                             | 61kB 4.3MB/s eta 0:00:01\r\u001b[K     |███▍                            | 71kB 4.8MB/s eta 0:00:01\r\u001b[K     |███▉                            | 81kB 5.2MB/s eta 0:00:01\r\u001b[K     |████▍                           | 92kB 5.4MB/s eta 0:00:01\r\u001b[K     |████▉                           | 102kB 5.4MB/s eta 0:00:01\r\u001b[K     |█████▍                          | 112kB 5.4MB/s eta 0:00:01\r\u001b[K     |█████▉                          | 122kB 5.4MB/s eta 0:00:01\r\u001b[K     |██████▎                         | 133kB 5.4MB/s eta 0:00:01\r\u001b[K     |██████▉                         | 143kB 5.4MB/s eta 0:00:01\r\u001b[K     |███████▎                        | 153kB 5.4MB/s eta 0:00:01\r\u001b[K     |███████▊                        | 163kB 5.4MB/s eta 0:00:01\r\u001b[K     |████████▎                       | 174kB 5.4MB/s eta 0:00:01\r\u001b[K     |████████▊                       | 184kB 5.4MB/s eta 0:00:01\r\u001b[K     |█████████▎                      | 194kB 5.4MB/s eta 0:00:01\r\u001b[K     |█████████▊                      | 204kB 5.4MB/s eta 0:00:01\r\u001b[K     |██████████▏                     | 215kB 5.4MB/s eta 0:00:01\r\u001b[K     |██████████▊                     | 225kB 5.4MB/s eta 0:00:01\r\u001b[K     |███████████▏                    | 235kB 5.4MB/s eta 0:00:01\r\u001b[K     |███████████▋                    | 245kB 5.4MB/s eta 0:00:01\r\u001b[K     |████████████▏                   | 256kB 5.4MB/s eta 0:00:01\r\u001b[K     |████████████▋                   | 266kB 5.4MB/s eta 0:00:01\r\u001b[K     |█████████████                   | 276kB 5.4MB/s eta 0:00:01\r\u001b[K     |█████████████▋                  | 286kB 5.4MB/s eta 0:00:01\r\u001b[K     |██████████████                  | 296kB 5.4MB/s eta 0:00:01\r\u001b[K     |██████████████▋                 | 307kB 5.4MB/s eta 0:00:01\r\u001b[K     |███████████████                 | 317kB 5.4MB/s eta 0:00:01\r\u001b[K     |███████████████▌                | 327kB 5.4MB/s eta 0:00:01\r\u001b[K     |████████████████                | 337kB 5.4MB/s eta 0:00:01\r\u001b[K     |████████████████▌               | 348kB 5.4MB/s eta 0:00:01\r\u001b[K     |█████████████████               | 358kB 5.4MB/s eta 0:00:01\r\u001b[K     |█████████████████▌              | 368kB 5.4MB/s eta 0:00:01\r\u001b[K     |██████████████████              | 378kB 5.4MB/s eta 0:00:01\r\u001b[K     |██████████████████▌             | 389kB 5.4MB/s eta 0:00:01\r\u001b[K     |███████████████████             | 399kB 5.4MB/s eta 0:00:01\r\u001b[K     |███████████████████▍            | 409kB 5.4MB/s eta 0:00:01\r\u001b[K     |████████████████████            | 419kB 5.4MB/s eta 0:00:01\r\u001b[K     |████████████████████▍           | 430kB 5.4MB/s eta 0:00:01\r\u001b[K     |████████████████████▉           | 440kB 5.4MB/s eta 0:00:01\r\u001b[K     |█████████████████████▍          | 450kB 5.4MB/s eta 0:00:01\r\u001b[K     |█████████████████████▉          | 460kB 5.4MB/s eta 0:00:01\r\u001b[K     |██████████████████████▍         | 471kB 5.4MB/s eta 0:00:01\r\u001b[K     |██████████████████████▉         | 481kB 5.4MB/s eta 0:00:01\r\u001b[K     |███████████████████████▎        | 491kB 5.4MB/s eta 0:00:01\r\u001b[K     |███████████████████████▉        | 501kB 5.4MB/s eta 0:00:01\r\u001b[K     |████████████████████████▎       | 512kB 5.4MB/s eta 0:00:01\r\u001b[K     |████████████████████████▊       | 522kB 5.4MB/s eta 0:00:01\r\u001b[K     |█████████████████████████▎      | 532kB 5.4MB/s eta 0:00:01\r\u001b[K     |█████████████████████████▊      | 542kB 5.4MB/s eta 0:00:01\r\u001b[K     |██████████████████████████▏     | 552kB 5.4MB/s eta 0:00:01\r\u001b[K     |██████████████████████████▊     | 563kB 5.4MB/s eta 0:00:01\r\u001b[K     |███████████████████████████▏    | 573kB 5.4MB/s eta 0:00:01\r\u001b[K     |███████████████████████████▊    | 583kB 5.4MB/s eta 0:00:01\r\u001b[K     |████████████████████████████▏   | 593kB 5.4MB/s eta 0:00:01\r\u001b[K     |████████████████████████████▋   | 604kB 5.4MB/s eta 0:00:01\r\u001b[K     |█████████████████████████████▏  | 614kB 5.4MB/s eta 0:00:01\r\u001b[K     |█████████████████████████████▋  | 624kB 5.4MB/s eta 0:00:01\r\u001b[K     |██████████████████████████████  | 634kB 5.4MB/s eta 0:00:01\r\u001b[K     |██████████████████████████████▋ | 645kB 5.4MB/s eta 0:00:01\r\u001b[K     |███████████████████████████████ | 655kB 5.4MB/s eta 0:00:01\r\u001b[K     |███████████████████████████████▋| 665kB 5.4MB/s eta 0:00:01\r\u001b[K     |████████████████████████████████| 675kB 5.4MB/s \n",
            "\u001b[?25hRequirement already satisfied: requests in /usr/local/lib/python3.6/dist-packages (from transformers) (2.23.0)\n",
            "Requirement already satisfied: dataclasses; python_version < \"3.7\" in /usr/local/lib/python3.6/dist-packages (from transformers) (0.7)\n",
            "Requirement already satisfied: tqdm>=4.27 in /usr/local/lib/python3.6/dist-packages (from transformers) (4.41.1)\n",
            "Requirement already satisfied: regex!=2019.12.17 in /usr/local/lib/python3.6/dist-packages (from transformers) (2019.12.20)\n",
            "Requirement already satisfied: packaging in /usr/local/lib/python3.6/dist-packages (from transformers) (20.4)\n",
            "Requirement already satisfied: filelock in /usr/local/lib/python3.6/dist-packages (from transformers) (3.0.12)\n",
            "Collecting sacremoses\n",
            "\u001b[?25l  Downloading https://files.pythonhosted.org/packages/7d/34/09d19aff26edcc8eb2a01bed8e98f13a1537005d31e95233fd48216eed10/sacremoses-0.0.43.tar.gz (883kB)\n",
            "\u001b[K     |████████████████████████████████| 890kB 13.3MB/s \n",
            "\u001b[?25hCollecting tokenizers==0.7.0\n",
            "\u001b[?25l  Downloading https://files.pythonhosted.org/packages/14/e5/a26eb4716523808bb0a799fcfdceb6ebf77a18169d9591b2f46a9adb87d9/tokenizers-0.7.0-cp36-cp36m-manylinux1_x86_64.whl (3.8MB)\n",
            "\u001b[K     |████████████████████████████████| 3.8MB 34.5MB/s \n",
            "\u001b[?25hRequirement already satisfied: numpy in /usr/local/lib/python3.6/dist-packages (from transformers) (1.18.5)\n",
            "Collecting sentencepiece\n",
            "\u001b[?25l  Downloading https://files.pythonhosted.org/packages/d4/a4/d0a884c4300004a78cca907a6ff9a5e9fe4f090f5d95ab341c53d28cbc58/sentencepiece-0.1.91-cp36-cp36m-manylinux1_x86_64.whl (1.1MB)\n",
            "\u001b[K     |████████████████████████████████| 1.1MB 44.6MB/s \n",
            "\u001b[?25hRequirement already satisfied: chardet<4,>=3.0.2 in /usr/local/lib/python3.6/dist-packages (from requests->transformers) (3.0.4)\n",
            "Requirement already satisfied: certifi>=2017.4.17 in /usr/local/lib/python3.6/dist-packages (from requests->transformers) (2020.4.5.2)\n",
            "Requirement already satisfied: idna<3,>=2.5 in /usr/local/lib/python3.6/dist-packages (from requests->transformers) (2.9)\n",
            "Requirement already satisfied: urllib3!=1.25.0,!=1.25.1,<1.26,>=1.21.1 in /usr/local/lib/python3.6/dist-packages (from requests->transformers) (1.24.3)\n",
            "Requirement already satisfied: six in /usr/local/lib/python3.6/dist-packages (from packaging->transformers) (1.12.0)\n",
            "Requirement already satisfied: pyparsing>=2.0.2 in /usr/local/lib/python3.6/dist-packages (from packaging->transformers) (2.4.7)\n",
            "Requirement already satisfied: click in /usr/local/lib/python3.6/dist-packages (from sacremoses->transformers) (7.1.2)\n",
            "Requirement already satisfied: joblib in /usr/local/lib/python3.6/dist-packages (from sacremoses->transformers) (0.15.1)\n",
            "Building wheels for collected packages: sacremoses\n",
            "  Building wheel for sacremoses (setup.py) ... \u001b[?25l\u001b[?25hdone\n",
            "  Created wheel for sacremoses: filename=sacremoses-0.0.43-cp36-none-any.whl size=893260 sha256=0ba288e416affe8618b35bd77c01c11caa346430de826cb922521df132cd357f\n",
            "  Stored in directory: /root/.cache/pip/wheels/29/3c/fd/7ce5c3f0666dab31a50123635e6fb5e19ceb42ce38d4e58f45\n",
            "Successfully built sacremoses\n",
            "Installing collected packages: sacremoses, tokenizers, sentencepiece, transformers\n",
            "Successfully installed sacremoses-0.0.43 sentencepiece-0.1.91 tokenizers-0.7.0 transformers-2.11.0\n",
            "TF version 2.2.0\n",
            "Collecting emoji\n",
            "\u001b[?25l  Downloading https://files.pythonhosted.org/packages/40/8d/521be7f0091fe0f2ae690cc044faf43e3445e0ff33c574eae752dd7e39fa/emoji-0.5.4.tar.gz (43kB)\n",
            "\u001b[K     |████████████████████████████████| 51kB 2.5MB/s \n",
            "\u001b[?25hBuilding wheels for collected packages: emoji\n",
            "  Building wheel for emoji (setup.py) ... \u001b[?25l\u001b[?25hdone\n",
            "  Created wheel for emoji: filename=emoji-0.5.4-cp36-none-any.whl size=42176 sha256=4d2d2dea7b07d0f82ed58cb95397be42dbf190a23056fc6fcdaf8f024f2f76a2\n",
            "  Stored in directory: /root/.cache/pip/wheels/2a/a9/0a/4f8e8cce8074232aba240caca3fade315bb49fac68808d1a9c\n",
            "Successfully built emoji\n",
            "Installing collected packages: emoji\n",
            "Successfully installed emoji-0.5.4\n"
          ],
          "name": "stdout"
        },
        {
          "output_type": "stream",
          "text": [
            "Using TensorFlow backend.\n",
            "/usr/local/lib/python3.6/dist-packages/statsmodels/tools/_testing.py:19: FutureWarning: pandas.util.testing is deprecated. Use the functions in the public API at pandas.testing instead.\n",
            "  import pandas.util.testing as tm\n"
          ],
          "name": "stderr"
        }
      ]
    },
    {
      "cell_type": "code",
      "metadata": {
        "id": "W1rHn3HPeuaN",
        "colab_type": "code",
        "colab": {
          "base_uri": "https://localhost:8080/",
          "height": 34
        },
        "outputId": "ceb99997-5c21-4b91-9389-d7d03df103db"
      },
      "source": [
        "'''from google.colab import drive\n",
        "drive.mount('/content/drive')'''"
      ],
      "execution_count": null,
      "outputs": [
        {
          "output_type": "execute_result",
          "data": {
            "text/plain": [
              "\"from google.colab import drive\\ndrive.mount('/content/drive')\""
            ]
          },
          "metadata": {
            "tags": []
          },
          "execution_count": 7
        }
      ]
    },
    {
      "cell_type": "code",
      "metadata": {
        "id": "OTRczysC09AN",
        "colab_type": "code",
        "colab": {}
      },
      "source": [
        "with open(PATH+'categories.json') as f:\n",
        "  categories = json.load(f)\n",
        "\n",
        "tweets = []\n",
        "for line in open(PATH+'train_gold.json', 'r'):\n",
        "    tweets.append(json.loads(line))\n",
        "\n",
        "test = []\n",
        "for line in open(PATH+'test_unlabeled.json', 'r'):\n",
        "    test.append(json.loads(line))\n",
        "    \n",
        "dev = []\n",
        "for line in open(PATH+'dev_unlabeled.json','r'):\n",
        "  dev.append(json.loads(line))"
      ],
      "execution_count": null,
      "outputs": []
    },
    {
      "cell_type": "code",
      "metadata": {
        "id": "TSYpNsYIc5TM",
        "colab_type": "code",
        "colab": {}
      },
      "source": [
        "f = open(PATH+\"weird.txt\")\n",
        "weird = f.read().splitlines()\n",
        "#print(weird)\n",
        "f.close()"
      ],
      "execution_count": null,
      "outputs": []
    },
    {
      "cell_type": "code",
      "metadata": {
        "id": "wLa0w58p1xkh",
        "colab_type": "code",
        "colab": {}
      },
      "source": [
        "def rule(token):\n",
        "    '''\n",
        "    Remove tokens with\n",
        "    x. stop words  Ex. the, we (Update: only rmv '️')\n",
        "    2. punctuation Ex. !!\n",
        "    3. numbers     Ex. 1kg\n",
        "    4. hashtags    Ex. #NLP\n",
        "    5. tags        Ex. @hannnnk\n",
        "    6. hyper link  Ex. https://...\n",
        "    '''\n",
        "    return True if token not in stopword and \\\n",
        "                   token not in punctuation and \\\n",
        "                   \"\\n\" not in token and \\\n",
        "                   not re.search('\\d+', token) and \\\n",
        "                   not token.startswith('#') and \\\n",
        "                   not token.startswith('@') and \\\n",
        "                   not token.startswith('https:') \\\n",
        "                   else False"
      ],
      "execution_count": null,
      "outputs": []
    },
    {
      "cell_type": "code",
      "metadata": {
        "id": "6-lezO9u3PND",
        "colab_type": "code",
        "colab": {}
      },
      "source": [
        "def clean(tweet):\n",
        "    tweet = re.sub(r\"what's\", \"what is\", tweet)\n",
        "    tweet = re.sub(r\"we'll\", \"we will\", tweet)\n",
        "    tweet = re.sub(r\"who's\", \"who is\", tweet)\n",
        "    tweet = re.sub(r\"here's\", \"here is\", tweet)\n",
        "    tweet = re.sub(r\"today's\", \"today is\", tweet)\n",
        "    tweet = re.sub(r\"ain't\", \"are not\", tweet)\n",
        "    tweet = re.sub(r\"we've\", \"we have\", tweet)\n",
        "    tweet = re.sub(r\"how's\", \"how is\", tweet)\n",
        "    tweet = re.sub(r\"thet've\", \"they have\", tweet)\n",
        "    tweet = re.sub(r\"it'll\", \"it will\", tweet)\n",
        "    tweet = re.sub(r\"ya'll\", \"you all\", tweet)\n",
        "    tweet = re.sub(r\"i'm\", \"i am\", tweet)\n",
        "    tweet = re.sub(r\"don't\", \"do not\", tweet)\n",
        "    tweet = re.sub(r\"it's\", \"it is\", tweet)\n",
        "    tweet = re.sub(r\"you're\", \"you are\", tweet)\n",
        "    tweet = re.sub(r\"can't\", \"cannot\", tweet)\n",
        "    tweet = re.sub(r\"i've\", \"i have\", tweet)\n",
        "    tweet = re.sub(r\"that's\", \"that is\", tweet)\n",
        "    tweet = re.sub(r\"we're\", \"we are\", tweet)\n",
        "    tweet = re.sub(r\"i'll\", \"I will\", tweet)\n",
        "    tweet = re.sub(r\"he's\", \"he is\", tweet)\n",
        "    tweet = re.sub(r\"let's\", \"let us\", tweet)\n",
        "    tweet = re.sub(r\"didn't\", \"did not\", tweet)\n",
        "    tweet = re.sub(r\"y'all\", \"you all\", tweet)\n",
        "    tweet = re.sub(r\"doesn't\", \"does not\", tweet)\n",
        "    tweet = re.sub(r\"i'd\", \"I would\", tweet)\n",
        "    tweet = re.sub(r\"who-the-hell-even-knows-anymore\", \"who the hell even knows anymore\", tweet)\n",
        "    tweet = re.sub(r\"there's\", \"there is\", tweet)\n",
        "    tweet = re.sub(r\"isn't\", \"is not\", tweet)\n",
        "    tweet = re.sub(r\"won't\", \"will not\", tweet)\n",
        "    tweet = re.sub(r\"they're\", \"they are\", tweet)\n",
        "    tweet = re.sub(r\"haven't\", \"have not\", tweet)\n",
        "    tweet = re.sub(r\"couldn't\", \"could not\", tweet)\n",
        "    tweet = re.sub(r\"she's\", \"she is\", tweet)\n",
        "    tweet = re.sub(r\"aren't\", \"are not\", tweet)\n",
        "    tweet = re.sub(r\"you've\", \"you have\", tweet)\n",
        "    tweet = re.sub(r\"you'll\", \"you will\", tweet)\n",
        "    tweet = re.sub(r\"wouldn't\", \"would not\", tweet)\n",
        "    tweet = re.sub(r\"wasn't\", \"was not\", tweet)\n",
        "    tweet = re.sub(r\"shouldn't\", \"shoud not\", tweet)  \n",
        "    tweet = re.sub(r\"they'll\", \"they will\", tweet)\n",
        "    tweet = re.sub(r\"weren't\", \"were not\", tweet)\n",
        "    tweet = re.sub(r\"you'd\", \"you had\", tweet)\n",
        "    tweet = re.sub(r\"they've\", \"they have\", tweet)\n",
        "    tweet = re.sub(r\"no-excuse\", \"no excuse\", tweet)\n",
        "    tweet = re.sub(r\"vote-by-mail\", \"vote by mail\", tweet)\n",
        "    tweet = re.sub(r\"votesafe\", \"vote safe\", tweet)\n",
        "    tweet = re.sub(r\"lmaoooo\", \"laugh my ass off\", tweet)\n",
        "    tweet = re.sub(r\"we'd\", \"we had\", tweet)\n",
        "    tweet = re.sub(r\"he'll\", \"he will\", tweet)\n",
        "    tweet = re.sub(r\"he'd\", \"he had\", tweet)\n",
        "    tweet = re.sub(r\"would've\", \"would have\", tweet)\n",
        "    tweet = re.sub(r\"hadn't\", \"had not\", tweet)\n",
        "    tweet = re.sub(r\"diefrom\", \"die from\", tweet)\n",
        "    tweet = re.sub(r\"dababy\", \"rapper\", tweet)\n",
        "    tweet = re.sub(r\"hasn't\", \"has not\", tweet)\n",
        "    tweet = re.sub(r\"testing-based\", \"testing based\", tweet)\n",
        "    tweet = re.sub(r\"that'll\", \"that will\", tweet)\n",
        "    tweet = re.sub(r\"should've\", \"should have\", tweet)\n",
        "    tweet = re.sub(r\"cashapp\", \"cash app\", tweet)\n",
        "    tweet = re.sub(r\"brexit-induced\", \"brexit induced\", tweet)\n",
        "    tweet = re.sub(r\"president-hating\", \"president hating\", tweet)\n",
        "    tweet = re.sub(r\"picked-over\", \"picked over\", tweet)\n",
        "    \n",
        "    tweet = re.sub(r\"what’s\", \"what is\", tweet)\n",
        "    tweet = re.sub(r\"we’ll\", \"we will\", tweet)\n",
        "    tweet = re.sub(r\"who’s\", \"who is\", tweet)\n",
        "    tweet = re.sub(r\"here’s\", \"here is\", tweet)\n",
        "    tweet = re.sub(r\"today’s\", \"today is\", tweet)\n",
        "    tweet = re.sub(r\"ain’t\", \"are not\", tweet)\n",
        "    tweet = re.sub(r\"we’ve\", \"we have\", tweet)\n",
        "    tweet = re.sub(r\"how’s\", \"how is\", tweet)\n",
        "    tweet = re.sub(r\"thet’ve\", \"they have\", tweet)\n",
        "    tweet = re.sub(r\"it’ll\", \"it will\", tweet)\n",
        "    tweet = re.sub(r\"ya’ll\", \"you all\", tweet)\n",
        "    tweet = re.sub(r\"i’m\", \"i am\", tweet)\n",
        "    tweet = re.sub(r\"don’t\", \"do not\", tweet)\n",
        "    tweet = re.sub(r\"it’s\", \"it is\", tweet)\n",
        "    tweet = re.sub(r\"you’re\", \"you are\", tweet)\n",
        "    tweet = re.sub(r\"can’t\", \"cannot\", tweet)\n",
        "    tweet = re.sub(r\"i’ve\", \"i have\", tweet)\n",
        "    tweet = re.sub(r\"that’s\", \"that is\", tweet)\n",
        "    tweet = re.sub(r\"we’re\", \"we are\", tweet)\n",
        "    tweet = re.sub(r\"i’ll\", \"I will\", tweet)\n",
        "    tweet = re.sub(r\"he’s\", \"he is\", tweet)\n",
        "    tweet = re.sub(r\"let’s\", \"let us\", tweet)\n",
        "    tweet = re.sub(r\"didn’t\", \"did not\", tweet)\n",
        "    tweet = re.sub(r\"y’all\", \"you all\", tweet)\n",
        "    tweet = re.sub(r\"doesn’t\", \"does not\", tweet)\n",
        "    tweet = re.sub(r\"i’d\", \"I would\", tweet)\n",
        "    tweet = re.sub(r\"there’s\", \"there is\", tweet)\n",
        "    tweet = re.sub(r\"isn’t\", \"is not\", tweet)\n",
        "    tweet = re.sub(r\"won’t\", \"will not\", tweet)\n",
        "    tweet = re.sub(r\"they’re\", \"they are\", tweet)\n",
        "    tweet = re.sub(r\"haven’t\", \"have not\", tweet)\n",
        "    tweet = re.sub(r\"couldn’t\", \"could not\", tweet)\n",
        "    tweet = re.sub(r\"she’s\", \"she is\", tweet)\n",
        "    tweet = re.sub(r\"aren’t\", \"are not\", tweet)\n",
        "    tweet = re.sub(r\"you’ve\", \"you have\", tweet)\n",
        "    tweet = re.sub(r\"you’ll\", \"you will\", tweet)\n",
        "    tweet = re.sub(r\"wouldn’t\", \"would not\", tweet)\n",
        "    tweet = re.sub(r\"wasn’t\", \"was not\", tweet)\n",
        "    tweet = re.sub(r\"shouldn’t\", \"shoud not\", tweet)\n",
        "    tweet = re.sub(r\"they’ll\", \"they will\", tweet)\n",
        "    tweet = re.sub(r\"weren’t\", \"were not\", tweet)\n",
        "    tweet = re.sub(r\"you’d\", \"you had\", tweet)\n",
        "    tweet = re.sub(r\"they’ve\", \"they have\", tweet)\n",
        "    tweet = re.sub(r\"we’d\", \"we had\", tweet)\n",
        "    tweet = re.sub(r\"he’ll\", \"he will\", tweet)\n",
        "    tweet = re.sub(r\"he’d\", \"he had\", tweet)\n",
        "    tweet = re.sub(r\"would’ve\", \"would have\", tweet)\n",
        "    tweet = re.sub(r\"hadn’t\", \"had not\", tweet)\n",
        "    tweet = re.sub(r\"hasn’t\", \"has not\", tweet)\n",
        "    tweet = re.sub(r\"that’ll\", \"that will\", tweet)\n",
        "    tweet = re.sub(r\"should’ve\", \"should have\", tweet)\n",
        "    \n",
        "    return tweet"
      ],
      "execution_count": null,
      "outputs": []
    },
    {
      "cell_type": "code",
      "metadata": {
        "id": "lq5oQvWA5geK",
        "colab_type": "code",
        "colab": {}
      },
      "source": [
        "import nltk\n",
        "from nltk.tokenize import TweetTokenizer\n",
        "from nltk.corpus import stopwords\n",
        "from nltk.stem import PorterStemmer\n",
        "tknzr = TweetTokenizer()"
      ],
      "execution_count": null,
      "outputs": []
    },
    {
      "cell_type": "code",
      "metadata": {
        "id": "_o1IK7445r-I",
        "colab_type": "code",
        "colab": {}
      },
      "source": [
        "stopword = ['️']\n",
        "punctuation = string.punctuation+'“’”...—…‼‘'"
      ],
      "execution_count": null,
      "outputs": []
    },
    {
      "cell_type": "code",
      "metadata": {
        "id": "dzwr5zBm3-81",
        "colab_type": "code",
        "colab": {}
      },
      "source": [
        "for t in tweets:\n",
        "    t['text'] = clean(t['text'].lower())\n",
        "    t['reply'] = clean(t['reply'].lower())\n",
        "for t in dev:\n",
        "    t['text'] = clean(t['text'].lower())\n",
        "    t['reply'] = clean(t['reply'].lower())\n",
        "for t in test:\n",
        "    t['text'] = clean(t['text'].lower())\n",
        "    t['reply'] = clean(t['reply'].lower())"
      ],
      "execution_count": null,
      "outputs": []
    },
    {
      "cell_type": "code",
      "metadata": {
        "id": "1dRGLcS-4yvN",
        "colab_type": "code",
        "colab": {}
      },
      "source": [
        "for t in tweets:\n",
        "    temp = [token.lower() for token in tknzr.tokenize(t['text']) if rule(token.lower())]\n",
        "    temp2 = [token.lower() for token in tknzr.tokenize(t['reply']) if rule(token.lower())]\n",
        "\n",
        "    t['text_clean'] = temp\n",
        "    t['reply_clean'] = temp2\n",
        "\n",
        "for t in dev:\n",
        "    temp = [token.lower() for token in tknzr.tokenize(t['text']) if rule(token.lower())]\n",
        "    temp2 = [token.lower() for token in tknzr.tokenize(t['reply']) if rule(token.lower())]\n",
        "\n",
        "    t['text_clean'] = temp\n",
        "    t['reply_clean'] = temp2\n",
        "    \n",
        "for t in test:\n",
        "    temp = [token.lower() for token in tknzr.tokenize(t['text']) if rule(token.lower())]\n",
        "    temp2 = [token.lower() for token in tknzr.tokenize(t['reply']) if rule(token.lower())]\n",
        "\n",
        "    t['text_clean'] = temp\n",
        "    t['reply_clean'] = temp2"
      ],
      "execution_count": null,
      "outputs": []
    },
    {
      "cell_type": "code",
      "metadata": {
        "id": "-3lI5gCo6MIk",
        "colab_type": "code",
        "colab": {}
      },
      "source": [
        "'''\n",
        "Deal with special words for embedding such as\n",
        "covid  (806) → coronavirus\n",
        "'''\n",
        "special = {\n",
        "    'covid':'coronavirus',\n",
        "    \"ventilators\":\"ventilator\",\n",
        "    \"virologist\":'virology',\n",
        "    'fauci':'physician',\n",
        "    \"onlyfans\":\"app\",\n",
        "    \"fortnite\":\"game\",\n",
        "    \"valorant\":\"game\",\n",
        "    \"jeudy\":\"athlete\",\n",
        "    \"ruggs\":\"athlete\",\n",
        "    \"tagovailoa\":\"athlete\",\n",
        "    \"rashford\":\"athlete\",\n",
        "    \"birx\":\"doctor\",\n",
        "    \"blaqbonez\":\"rapper\",\n",
        "    'mcsally':\"politician\",\n",
        "    \"intubated\":\"intubation\",\n",
        "    \"hydroxychloroquine\":\"medication\",\n",
        "    \"today's\":\"today\",\n",
        "    \"pubg\":\"game\",\n",
        "    \"government's\":'government',\n",
        "    \"man's\":'man',\n",
        "    \"someone's\":'someone',\n",
        "    \"country's\":'country',\n",
        "    \"everyone's\":'everyone',\n",
        "    \"people's\":'people',\n",
        "    \"club's\":'club',\n",
        "    \"china's\":'china',\n",
        "    \"america's\":'america',\n",
        "    \"world's\":'world',\n",
        "    \"life's\":'life',\n",
        "    \"earth's\":'earth',\n",
        "    \"mom's\":'mom',\n",
        "    '<3':'❤',\n",
        "    ':)':\"🙂\",\n",
        "    \":(\":\"😞\",\n",
        "    \"):\":\"😞\",\n",
        "    \":/\":\"😕\",\n",
        "    \"pre-covid\":'coronavirus',\n",
        "    \"strategise\":\"strategies\",\n",
        "    'stratagy':'strategy',\n",
        "    \"strategiser\":\"strategy\",\n",
        "    \"stratagised\":\"strategy\",\n",
        "    'ohhhh':\"ohhh\",\n",
        "    'yesssss':\"yes\",\n",
        "    'youuu':'you',\n",
        "    'sirrr':'sir',\n",
        "    'ohhhhh':'ohhh',\n",
        "    'youuuu':'you',\n",
        "    'lmaooooo':'lamo',\n",
        "    'guysss':'guys',\n",
        "    'meeeee':'me',\n",
        "    'yessss':'yes',\n",
        "    'lieeeeeee':'lie',\n",
        "    'youuuuu':'you',\n",
        "    'yesssssss':'yes',\n",
        "    'lollll':'lol',\n",
        "    'plzzzz':'plz',\n",
        "    'enddddddd':'end',\n",
        "}"
      ],
      "execution_count": null,
      "outputs": []
    },
    {
      "cell_type": "code",
      "metadata": {
        "id": "nBsGF4vX4GSo",
        "colab_type": "code",
        "colab": {}
      },
      "source": [
        "emoji_remain_text = ['😭','❤','👏','😊','😔','🙏','🙃','💜','👍','🙌','😁','🤗','💔','☹','😎','😢','💛','💖','💰','💯','💗','💪','😞','😣',\"🙂\",\"😞\",\"😕\"]\n",
        "emoji_remain_reply = ['❤','🙏','😭','👏','💜','👍','🤗','💕','💖','😘','💙','♥','💞','🙌','💗','😉','💛','🤦','💓','🖤','🙄','💯','☺','💃','🎉','😔','💚','💔','✨','😢','🌹',\"🙂\",\"😞\",\"😕\"]"
      ],
      "execution_count": null,
      "outputs": []
    },
    {
      "cell_type": "code",
      "metadata": {
        "id": "vSjcNiSd6c8h",
        "colab_type": "code",
        "colab": {}
      },
      "source": [
        "def rule_emoji_text(token, emoji_remain):\n",
        "    if len(token)==1:\n",
        "        if ord(token)>122:\n",
        "            if token not in emoji_remain:\n",
        "                return False\n",
        "    return True"
      ],
      "execution_count": null,
      "outputs": []
    },
    {
      "cell_type": "code",
      "metadata": {
        "id": "I7JIDf5p6ZY3",
        "colab_type": "code",
        "colab": {
          "base_uri": "https://localhost:8080/",
          "height": 1000
        },
        "outputId": "0cf1489c-e4c8-4e2e-8e1a-8d6b796e8c0e"
      },
      "source": [
        "tokens = Counter()\n",
        "tokens2 = Counter()\n",
        "for t in tweets:\n",
        "    temp = [token for token in t['text_clean'] if rule_emoji_text(token,emoji_remain_text)]\n",
        "    t['text_clean'] = temp\n",
        "    tokens.update(temp)\n",
        "    temp2 = [token for token in t['reply_clean'] if rule_emoji_text(token,emoji_remain_reply)]\n",
        "    for idx,token in enumerate(temp2):\n",
        "        if token == '🥺':\n",
        "            temp2[idx] = '❤'\n",
        "    t['reply_clean'] = temp2\n",
        "    tokens2.update(temp2)\n",
        "    \n",
        "temp = pd.DataFrame(tokens.most_common(30))\n",
        "temp.columns = ['tokens_main','count']\n",
        "display(temp.style.background_gradient(cmap='Blues'))\n",
        "temp2 = pd.DataFrame(tokens2.most_common(30))\n",
        "temp2.columns = ['tokens_reply','count']\n",
        "display(temp2.style.background_gradient(cmap='Reds'))\n",
        "\n",
        "for t in dev:\n",
        "    temp = [token for token in t['text_clean'] if rule_emoji_text(token,emoji_remain_text)]\n",
        "    t['text_clean'] = temp\n",
        "    temp2 = [token for token in t['reply_clean'] if rule_emoji_text(token,emoji_remain_reply)]\n",
        "    for idx,token in enumerate(temp2):\n",
        "        if token == '🥺':\n",
        "            temp2[idx] = '❤'\n",
        "    t['reply_clean'] = temp2\n",
        "    \n",
        "for t in test:\n",
        "    temp = [token for token in t['text_clean'] if rule_emoji_text(token,emoji_remain_text)]\n",
        "    t['text_clean'] = temp\n",
        "    temp2 = [token for token in t['reply_clean'] if rule_emoji_text(token,emoji_remain_reply)]\n",
        "    for idx,token in enumerate(temp2):\n",
        "        if token == '🥺':\n",
        "            temp2[idx] = '❤'\n",
        "    t['reply_clean'] = temp2"
      ],
      "execution_count": null,
      "outputs": [
        {
          "output_type": "display_data",
          "data": {
            "text/html": [
              "<style  type=\"text/css\" >\n",
              "    #T_8a098d00_b5f6_11ea_99a1_0242ac1c0002row0_col1 {\n",
              "            background-color:  #08306b;\n",
              "            color:  #f1f1f1;\n",
              "        }    #T_8a098d00_b5f6_11ea_99a1_0242ac1c0002row1_col1 {\n",
              "            background-color:  #1562a9;\n",
              "            color:  #f1f1f1;\n",
              "        }    #T_8a098d00_b5f6_11ea_99a1_0242ac1c0002row2_col1 {\n",
              "            background-color:  #2777b8;\n",
              "            color:  #000000;\n",
              "        }    #T_8a098d00_b5f6_11ea_99a1_0242ac1c0002row3_col1 {\n",
              "            background-color:  #4896c8;\n",
              "            color:  #000000;\n",
              "        }    #T_8a098d00_b5f6_11ea_99a1_0242ac1c0002row4_col1 {\n",
              "            background-color:  #75b4d8;\n",
              "            color:  #000000;\n",
              "        }    #T_8a098d00_b5f6_11ea_99a1_0242ac1c0002row5_col1 {\n",
              "            background-color:  #77b5d9;\n",
              "            color:  #000000;\n",
              "        }    #T_8a098d00_b5f6_11ea_99a1_0242ac1c0002row6_col1 {\n",
              "            background-color:  #85bcdc;\n",
              "            color:  #000000;\n",
              "        }    #T_8a098d00_b5f6_11ea_99a1_0242ac1c0002row7_col1 {\n",
              "            background-color:  #b5d4e9;\n",
              "            color:  #000000;\n",
              "        }    #T_8a098d00_b5f6_11ea_99a1_0242ac1c0002row8_col1 {\n",
              "            background-color:  #cadef0;\n",
              "            color:  #000000;\n",
              "        }    #T_8a098d00_b5f6_11ea_99a1_0242ac1c0002row9_col1 {\n",
              "            background-color:  #ccdff1;\n",
              "            color:  #000000;\n",
              "        }    #T_8a098d00_b5f6_11ea_99a1_0242ac1c0002row10_col1 {\n",
              "            background-color:  #cee0f2;\n",
              "            color:  #000000;\n",
              "        }    #T_8a098d00_b5f6_11ea_99a1_0242ac1c0002row11_col1 {\n",
              "            background-color:  #cfe1f2;\n",
              "            color:  #000000;\n",
              "        }    #T_8a098d00_b5f6_11ea_99a1_0242ac1c0002row12_col1 {\n",
              "            background-color:  #d3e3f3;\n",
              "            color:  #000000;\n",
              "        }    #T_8a098d00_b5f6_11ea_99a1_0242ac1c0002row13_col1 {\n",
              "            background-color:  #dae8f6;\n",
              "            color:  #000000;\n",
              "        }    #T_8a098d00_b5f6_11ea_99a1_0242ac1c0002row14_col1 {\n",
              "            background-color:  #ddeaf7;\n",
              "            color:  #000000;\n",
              "        }    #T_8a098d00_b5f6_11ea_99a1_0242ac1c0002row15_col1 {\n",
              "            background-color:  #e3eef8;\n",
              "            color:  #000000;\n",
              "        }    #T_8a098d00_b5f6_11ea_99a1_0242ac1c0002row16_col1 {\n",
              "            background-color:  #e3eef8;\n",
              "            color:  #000000;\n",
              "        }    #T_8a098d00_b5f6_11ea_99a1_0242ac1c0002row17_col1 {\n",
              "            background-color:  #e3eef9;\n",
              "            color:  #000000;\n",
              "        }    #T_8a098d00_b5f6_11ea_99a1_0242ac1c0002row18_col1 {\n",
              "            background-color:  #e7f1fa;\n",
              "            color:  #000000;\n",
              "        }    #T_8a098d00_b5f6_11ea_99a1_0242ac1c0002row19_col1 {\n",
              "            background-color:  #e9f2fa;\n",
              "            color:  #000000;\n",
              "        }    #T_8a098d00_b5f6_11ea_99a1_0242ac1c0002row20_col1 {\n",
              "            background-color:  #ebf3fb;\n",
              "            color:  #000000;\n",
              "        }    #T_8a098d00_b5f6_11ea_99a1_0242ac1c0002row21_col1 {\n",
              "            background-color:  #eef5fc;\n",
              "            color:  #000000;\n",
              "        }    #T_8a098d00_b5f6_11ea_99a1_0242ac1c0002row22_col1 {\n",
              "            background-color:  #f2f7fd;\n",
              "            color:  #000000;\n",
              "        }    #T_8a098d00_b5f6_11ea_99a1_0242ac1c0002row23_col1 {\n",
              "            background-color:  #f3f8fe;\n",
              "            color:  #000000;\n",
              "        }    #T_8a098d00_b5f6_11ea_99a1_0242ac1c0002row24_col1 {\n",
              "            background-color:  #f4f9fe;\n",
              "            color:  #000000;\n",
              "        }    #T_8a098d00_b5f6_11ea_99a1_0242ac1c0002row25_col1 {\n",
              "            background-color:  #f4f9fe;\n",
              "            color:  #000000;\n",
              "        }    #T_8a098d00_b5f6_11ea_99a1_0242ac1c0002row26_col1 {\n",
              "            background-color:  #f5f9fe;\n",
              "            color:  #000000;\n",
              "        }    #T_8a098d00_b5f6_11ea_99a1_0242ac1c0002row27_col1 {\n",
              "            background-color:  #f7fbff;\n",
              "            color:  #000000;\n",
              "        }    #T_8a098d00_b5f6_11ea_99a1_0242ac1c0002row28_col1 {\n",
              "            background-color:  #f7fbff;\n",
              "            color:  #000000;\n",
              "        }    #T_8a098d00_b5f6_11ea_99a1_0242ac1c0002row29_col1 {\n",
              "            background-color:  #f7fbff;\n",
              "            color:  #000000;\n",
              "        }</style><table id=\"T_8a098d00_b5f6_11ea_99a1_0242ac1c0002\" ><thead>    <tr>        <th class=\"blank level0\" ></th>        <th class=\"col_heading level0 col0\" >tokens_main</th>        <th class=\"col_heading level0 col1\" >count</th>    </tr></thead><tbody>\n",
              "                <tr>\n",
              "                        <th id=\"T_8a098d00_b5f6_11ea_99a1_0242ac1c0002level0_row0\" class=\"row_heading level0 row0\" >0</th>\n",
              "                        <td id=\"T_8a098d00_b5f6_11ea_99a1_0242ac1c0002row0_col0\" class=\"data row0 col0\" >i</td>\n",
              "                        <td id=\"T_8a098d00_b5f6_11ea_99a1_0242ac1c0002row0_col1\" class=\"data row0 col1\" >22433</td>\n",
              "            </tr>\n",
              "            <tr>\n",
              "                        <th id=\"T_8a098d00_b5f6_11ea_99a1_0242ac1c0002level0_row1\" class=\"row_heading level0 row1\" >1</th>\n",
              "                        <td id=\"T_8a098d00_b5f6_11ea_99a1_0242ac1c0002row1_col0\" class=\"data row1 col0\" >the</td>\n",
              "                        <td id=\"T_8a098d00_b5f6_11ea_99a1_0242ac1c0002row1_col1\" class=\"data row1 col1\" >18746</td>\n",
              "            </tr>\n",
              "            <tr>\n",
              "                        <th id=\"T_8a098d00_b5f6_11ea_99a1_0242ac1c0002level0_row2\" class=\"row_heading level0 row2\" >2</th>\n",
              "                        <td id=\"T_8a098d00_b5f6_11ea_99a1_0242ac1c0002row2_col0\" class=\"data row2 col0\" >to</td>\n",
              "                        <td id=\"T_8a098d00_b5f6_11ea_99a1_0242ac1c0002row2_col1\" class=\"data row2 col1\" >17175</td>\n",
              "            </tr>\n",
              "            <tr>\n",
              "                        <th id=\"T_8a098d00_b5f6_11ea_99a1_0242ac1c0002level0_row3\" class=\"row_heading level0 row3\" >3</th>\n",
              "                        <td id=\"T_8a098d00_b5f6_11ea_99a1_0242ac1c0002row3_col0\" class=\"data row3 col0\" >a</td>\n",
              "                        <td id=\"T_8a098d00_b5f6_11ea_99a1_0242ac1c0002row3_col1\" class=\"data row3 col1\" >14900</td>\n",
              "            </tr>\n",
              "            <tr>\n",
              "                        <th id=\"T_8a098d00_b5f6_11ea_99a1_0242ac1c0002level0_row4\" class=\"row_heading level0 row4\" >4</th>\n",
              "                        <td id=\"T_8a098d00_b5f6_11ea_99a1_0242ac1c0002row4_col0\" class=\"data row4 col0\" >and</td>\n",
              "                        <td id=\"T_8a098d00_b5f6_11ea_99a1_0242ac1c0002row4_col1\" class=\"data row4 col1\" >12369</td>\n",
              "            </tr>\n",
              "            <tr>\n",
              "                        <th id=\"T_8a098d00_b5f6_11ea_99a1_0242ac1c0002level0_row5\" class=\"row_heading level0 row5\" >5</th>\n",
              "                        <td id=\"T_8a098d00_b5f6_11ea_99a1_0242ac1c0002row5_col0\" class=\"data row5 col0\" >is</td>\n",
              "                        <td id=\"T_8a098d00_b5f6_11ea_99a1_0242ac1c0002row5_col1\" class=\"data row5 col1\" >12307</td>\n",
              "            </tr>\n",
              "            <tr>\n",
              "                        <th id=\"T_8a098d00_b5f6_11ea_99a1_0242ac1c0002level0_row6\" class=\"row_heading level0 row6\" >6</th>\n",
              "                        <td id=\"T_8a098d00_b5f6_11ea_99a1_0242ac1c0002row6_col0\" class=\"data row6 col0\" >you</td>\n",
              "                        <td id=\"T_8a098d00_b5f6_11ea_99a1_0242ac1c0002row6_col1\" class=\"data row6 col1\" >11669</td>\n",
              "            </tr>\n",
              "            <tr>\n",
              "                        <th id=\"T_8a098d00_b5f6_11ea_99a1_0242ac1c0002level0_row7\" class=\"row_heading level0 row7\" >7</th>\n",
              "                        <td id=\"T_8a098d00_b5f6_11ea_99a1_0242ac1c0002row7_col0\" class=\"data row7 col0\" >of</td>\n",
              "                        <td id=\"T_8a098d00_b5f6_11ea_99a1_0242ac1c0002row7_col1\" class=\"data row7 col1\" >9100</td>\n",
              "            </tr>\n",
              "            <tr>\n",
              "                        <th id=\"T_8a098d00_b5f6_11ea_99a1_0242ac1c0002level0_row8\" class=\"row_heading level0 row8\" >8</th>\n",
              "                        <td id=\"T_8a098d00_b5f6_11ea_99a1_0242ac1c0002row8_col0\" class=\"data row8 col0\" >my</td>\n",
              "                        <td id=\"T_8a098d00_b5f6_11ea_99a1_0242ac1c0002row8_col1\" class=\"data row8 col1\" >7713</td>\n",
              "            </tr>\n",
              "            <tr>\n",
              "                        <th id=\"T_8a098d00_b5f6_11ea_99a1_0242ac1c0002level0_row9\" class=\"row_heading level0 row9\" >9</th>\n",
              "                        <td id=\"T_8a098d00_b5f6_11ea_99a1_0242ac1c0002row9_col0\" class=\"data row9 col0\" >in</td>\n",
              "                        <td id=\"T_8a098d00_b5f6_11ea_99a1_0242ac1c0002row9_col1\" class=\"data row9 col1\" >7540</td>\n",
              "            </tr>\n",
              "            <tr>\n",
              "                        <th id=\"T_8a098d00_b5f6_11ea_99a1_0242ac1c0002level0_row10\" class=\"row_heading level0 row10\" >10</th>\n",
              "                        <td id=\"T_8a098d00_b5f6_11ea_99a1_0242ac1c0002row10_col0\" class=\"data row10 col0\" >it</td>\n",
              "                        <td id=\"T_8a098d00_b5f6_11ea_99a1_0242ac1c0002row10_col1\" class=\"data row10 col1\" >7355</td>\n",
              "            </tr>\n",
              "            <tr>\n",
              "                        <th id=\"T_8a098d00_b5f6_11ea_99a1_0242ac1c0002level0_row11\" class=\"row_heading level0 row11\" >11</th>\n",
              "                        <td id=\"T_8a098d00_b5f6_11ea_99a1_0242ac1c0002row11_col0\" class=\"data row11 col0\" >not</td>\n",
              "                        <td id=\"T_8a098d00_b5f6_11ea_99a1_0242ac1c0002row11_col1\" class=\"data row11 col1\" >7269</td>\n",
              "            </tr>\n",
              "            <tr>\n",
              "                        <th id=\"T_8a098d00_b5f6_11ea_99a1_0242ac1c0002level0_row12\" class=\"row_heading level0 row12\" >12</th>\n",
              "                        <td id=\"T_8a098d00_b5f6_11ea_99a1_0242ac1c0002row12_col0\" class=\"data row12 col0\" >for</td>\n",
              "                        <td id=\"T_8a098d00_b5f6_11ea_99a1_0242ac1c0002row12_col1\" class=\"data row12 col1\" >6855</td>\n",
              "            </tr>\n",
              "            <tr>\n",
              "                        <th id=\"T_8a098d00_b5f6_11ea_99a1_0242ac1c0002level0_row13\" class=\"row_heading level0 row13\" >13</th>\n",
              "                        <td id=\"T_8a098d00_b5f6_11ea_99a1_0242ac1c0002row13_col0\" class=\"data row13 col0\" >that</td>\n",
              "                        <td id=\"T_8a098d00_b5f6_11ea_99a1_0242ac1c0002row13_col1\" class=\"data row13 col1\" >6095</td>\n",
              "            </tr>\n",
              "            <tr>\n",
              "                        <th id=\"T_8a098d00_b5f6_11ea_99a1_0242ac1c0002level0_row14\" class=\"row_heading level0 row14\" >14</th>\n",
              "                        <td id=\"T_8a098d00_b5f6_11ea_99a1_0242ac1c0002row14_col0\" class=\"data row14 col0\" >are</td>\n",
              "                        <td id=\"T_8a098d00_b5f6_11ea_99a1_0242ac1c0002row14_col1\" class=\"data row14 col1\" >5793</td>\n",
              "            </tr>\n",
              "            <tr>\n",
              "                        <th id=\"T_8a098d00_b5f6_11ea_99a1_0242ac1c0002level0_row15\" class=\"row_heading level0 row15\" >15</th>\n",
              "                        <td id=\"T_8a098d00_b5f6_11ea_99a1_0242ac1c0002row15_col0\" class=\"data row15 col0\" >have</td>\n",
              "                        <td id=\"T_8a098d00_b5f6_11ea_99a1_0242ac1c0002row15_col1\" class=\"data row15 col1\" >5272</td>\n",
              "            </tr>\n",
              "            <tr>\n",
              "                        <th id=\"T_8a098d00_b5f6_11ea_99a1_0242ac1c0002level0_row16\" class=\"row_heading level0 row16\" >16</th>\n",
              "                        <td id=\"T_8a098d00_b5f6_11ea_99a1_0242ac1c0002row16_col0\" class=\"data row16 col0\" >me</td>\n",
              "                        <td id=\"T_8a098d00_b5f6_11ea_99a1_0242ac1c0002row16_col1\" class=\"data row16 col1\" >5269</td>\n",
              "            </tr>\n",
              "            <tr>\n",
              "                        <th id=\"T_8a098d00_b5f6_11ea_99a1_0242ac1c0002level0_row17\" class=\"row_heading level0 row17\" >17</th>\n",
              "                        <td id=\"T_8a098d00_b5f6_11ea_99a1_0242ac1c0002row17_col0\" class=\"data row17 col0\" >am</td>\n",
              "                        <td id=\"T_8a098d00_b5f6_11ea_99a1_0242ac1c0002row17_col1\" class=\"data row17 col1\" >5263</td>\n",
              "            </tr>\n",
              "            <tr>\n",
              "                        <th id=\"T_8a098d00_b5f6_11ea_99a1_0242ac1c0002level0_row18\" class=\"row_heading level0 row18\" >18</th>\n",
              "                        <td id=\"T_8a098d00_b5f6_11ea_99a1_0242ac1c0002row18_col0\" class=\"data row18 col0\" >this</td>\n",
              "                        <td id=\"T_8a098d00_b5f6_11ea_99a1_0242ac1c0002row18_col1\" class=\"data row18 col1\" >4824</td>\n",
              "            </tr>\n",
              "            <tr>\n",
              "                        <th id=\"T_8a098d00_b5f6_11ea_99a1_0242ac1c0002level0_row19\" class=\"row_heading level0 row19\" >19</th>\n",
              "                        <td id=\"T_8a098d00_b5f6_11ea_99a1_0242ac1c0002row19_col0\" class=\"data row19 col0\" >on</td>\n",
              "                        <td id=\"T_8a098d00_b5f6_11ea_99a1_0242ac1c0002row19_col1\" class=\"data row19 col1\" >4726</td>\n",
              "            </tr>\n",
              "            <tr>\n",
              "                        <th id=\"T_8a098d00_b5f6_11ea_99a1_0242ac1c0002level0_row20\" class=\"row_heading level0 row20\" >20</th>\n",
              "                        <td id=\"T_8a098d00_b5f6_11ea_99a1_0242ac1c0002row20_col0\" class=\"data row20 col0\" >do</td>\n",
              "                        <td id=\"T_8a098d00_b5f6_11ea_99a1_0242ac1c0002row20_col1\" class=\"data row20 col1\" >4514</td>\n",
              "            </tr>\n",
              "            <tr>\n",
              "                        <th id=\"T_8a098d00_b5f6_11ea_99a1_0242ac1c0002level0_row21\" class=\"row_heading level0 row21\" >21</th>\n",
              "                        <td id=\"T_8a098d00_b5f6_11ea_99a1_0242ac1c0002row21_col0\" class=\"data row21 col0\" >be</td>\n",
              "                        <td id=\"T_8a098d00_b5f6_11ea_99a1_0242ac1c0002row21_col1\" class=\"data row21 col1\" >4230</td>\n",
              "            </tr>\n",
              "            <tr>\n",
              "                        <th id=\"T_8a098d00_b5f6_11ea_99a1_0242ac1c0002level0_row22\" class=\"row_heading level0 row22\" >22</th>\n",
              "                        <td id=\"T_8a098d00_b5f6_11ea_99a1_0242ac1c0002row22_col0\" class=\"data row22 col0\" >all</td>\n",
              "                        <td id=\"T_8a098d00_b5f6_11ea_99a1_0242ac1c0002row22_col1\" class=\"data row22 col1\" >3870</td>\n",
              "            </tr>\n",
              "            <tr>\n",
              "                        <th id=\"T_8a098d00_b5f6_11ea_99a1_0242ac1c0002level0_row23\" class=\"row_heading level0 row23\" >23</th>\n",
              "                        <td id=\"T_8a098d00_b5f6_11ea_99a1_0242ac1c0002row23_col0\" class=\"data row23 col0\" >with</td>\n",
              "                        <td id=\"T_8a098d00_b5f6_11ea_99a1_0242ac1c0002row23_col1\" class=\"data row23 col1\" >3759</td>\n",
              "            </tr>\n",
              "            <tr>\n",
              "                        <th id=\"T_8a098d00_b5f6_11ea_99a1_0242ac1c0002level0_row24\" class=\"row_heading level0 row24\" >24</th>\n",
              "                        <td id=\"T_8a098d00_b5f6_11ea_99a1_0242ac1c0002row24_col0\" class=\"data row24 col0\" >your</td>\n",
              "                        <td id=\"T_8a098d00_b5f6_11ea_99a1_0242ac1c0002row24_col1\" class=\"data row24 col1\" >3691</td>\n",
              "            </tr>\n",
              "            <tr>\n",
              "                        <th id=\"T_8a098d00_b5f6_11ea_99a1_0242ac1c0002level0_row25\" class=\"row_heading level0 row25\" >25</th>\n",
              "                        <td id=\"T_8a098d00_b5f6_11ea_99a1_0242ac1c0002row25_col0\" class=\"data row25 col0\" >we</td>\n",
              "                        <td id=\"T_8a098d00_b5f6_11ea_99a1_0242ac1c0002row25_col1\" class=\"data row25 col1\" >3676</td>\n",
              "            </tr>\n",
              "            <tr>\n",
              "                        <th id=\"T_8a098d00_b5f6_11ea_99a1_0242ac1c0002level0_row26\" class=\"row_heading level0 row26\" >26</th>\n",
              "                        <td id=\"T_8a098d00_b5f6_11ea_99a1_0242ac1c0002row26_col0\" class=\"data row26 col0\" >just</td>\n",
              "                        <td id=\"T_8a098d00_b5f6_11ea_99a1_0242ac1c0002row26_col1\" class=\"data row26 col1\" >3596</td>\n",
              "            </tr>\n",
              "            <tr>\n",
              "                        <th id=\"T_8a098d00_b5f6_11ea_99a1_0242ac1c0002level0_row27\" class=\"row_heading level0 row27\" >27</th>\n",
              "                        <td id=\"T_8a098d00_b5f6_11ea_99a1_0242ac1c0002row27_col0\" class=\"data row27 col0\" >so</td>\n",
              "                        <td id=\"T_8a098d00_b5f6_11ea_99a1_0242ac1c0002row27_col1\" class=\"data row27 col1\" >3381</td>\n",
              "            </tr>\n",
              "            <tr>\n",
              "                        <th id=\"T_8a098d00_b5f6_11ea_99a1_0242ac1c0002level0_row28\" class=\"row_heading level0 row28\" >28</th>\n",
              "                        <td id=\"T_8a098d00_b5f6_11ea_99a1_0242ac1c0002row28_col0\" class=\"data row28 col0\" >if</td>\n",
              "                        <td id=\"T_8a098d00_b5f6_11ea_99a1_0242ac1c0002row28_col1\" class=\"data row28 col1\" >3334</td>\n",
              "            </tr>\n",
              "            <tr>\n",
              "                        <th id=\"T_8a098d00_b5f6_11ea_99a1_0242ac1c0002level0_row29\" class=\"row_heading level0 row29\" >29</th>\n",
              "                        <td id=\"T_8a098d00_b5f6_11ea_99a1_0242ac1c0002row29_col0\" class=\"data row29 col0\" >will</td>\n",
              "                        <td id=\"T_8a098d00_b5f6_11ea_99a1_0242ac1c0002row29_col1\" class=\"data row29 col1\" >3327</td>\n",
              "            </tr>\n",
              "    </tbody></table>"
            ],
            "text/plain": [
              "<pandas.io.formats.style.Styler at 0x7f45b4896d30>"
            ]
          },
          "metadata": {
            "tags": []
          }
        },
        {
          "output_type": "display_data",
          "data": {
            "text/html": [
              "<style  type=\"text/css\" >\n",
              "    #T_8a0df066_b5f6_11ea_99a1_0242ac1c0002row0_col1 {\n",
              "            background-color:  #67000d;\n",
              "            color:  #f1f1f1;\n",
              "        }    #T_8a0df066_b5f6_11ea_99a1_0242ac1c0002row1_col1 {\n",
              "            background-color:  #880811;\n",
              "            color:  #f1f1f1;\n",
              "        }    #T_8a0df066_b5f6_11ea_99a1_0242ac1c0002row2_col1 {\n",
              "            background-color:  #e32f27;\n",
              "            color:  #f1f1f1;\n",
              "        }    #T_8a0df066_b5f6_11ea_99a1_0242ac1c0002row3_col1 {\n",
              "            background-color:  #f75c41;\n",
              "            color:  #000000;\n",
              "        }    #T_8a0df066_b5f6_11ea_99a1_0242ac1c0002row4_col1 {\n",
              "            background-color:  #fb7050;\n",
              "            color:  #000000;\n",
              "        }    #T_8a0df066_b5f6_11ea_99a1_0242ac1c0002row5_col1 {\n",
              "            background-color:  #fb7757;\n",
              "            color:  #000000;\n",
              "        }    #T_8a0df066_b5f6_11ea_99a1_0242ac1c0002row6_col1 {\n",
              "            background-color:  #fc8565;\n",
              "            color:  #000000;\n",
              "        }    #T_8a0df066_b5f6_11ea_99a1_0242ac1c0002row7_col1 {\n",
              "            background-color:  #fca082;\n",
              "            color:  #000000;\n",
              "        }    #T_8a0df066_b5f6_11ea_99a1_0242ac1c0002row8_col1 {\n",
              "            background-color:  #fcb89e;\n",
              "            color:  #000000;\n",
              "        }    #T_8a0df066_b5f6_11ea_99a1_0242ac1c0002row9_col1 {\n",
              "            background-color:  #fcc1a8;\n",
              "            color:  #000000;\n",
              "        }    #T_8a0df066_b5f6_11ea_99a1_0242ac1c0002row10_col1 {\n",
              "            background-color:  #fdcab5;\n",
              "            color:  #000000;\n",
              "        }    #T_8a0df066_b5f6_11ea_99a1_0242ac1c0002row11_col1 {\n",
              "            background-color:  #fdcab5;\n",
              "            color:  #000000;\n",
              "        }    #T_8a0df066_b5f6_11ea_99a1_0242ac1c0002row12_col1 {\n",
              "            background-color:  #fdccb8;\n",
              "            color:  #000000;\n",
              "        }    #T_8a0df066_b5f6_11ea_99a1_0242ac1c0002row13_col1 {\n",
              "            background-color:  #fdcebb;\n",
              "            color:  #000000;\n",
              "        }    #T_8a0df066_b5f6_11ea_99a1_0242ac1c0002row14_col1 {\n",
              "            background-color:  #fedecf;\n",
              "            color:  #000000;\n",
              "        }    #T_8a0df066_b5f6_11ea_99a1_0242ac1c0002row15_col1 {\n",
              "            background-color:  #fee1d4;\n",
              "            color:  #000000;\n",
              "        }    #T_8a0df066_b5f6_11ea_99a1_0242ac1c0002row16_col1 {\n",
              "            background-color:  #fee2d5;\n",
              "            color:  #000000;\n",
              "        }    #T_8a0df066_b5f6_11ea_99a1_0242ac1c0002row17_col1 {\n",
              "            background-color:  #fee5d8;\n",
              "            color:  #000000;\n",
              "        }    #T_8a0df066_b5f6_11ea_99a1_0242ac1c0002row18_col1 {\n",
              "            background-color:  #fee8dd;\n",
              "            color:  #000000;\n",
              "        }    #T_8a0df066_b5f6_11ea_99a1_0242ac1c0002row19_col1 {\n",
              "            background-color:  #fee8dd;\n",
              "            color:  #000000;\n",
              "        }    #T_8a0df066_b5f6_11ea_99a1_0242ac1c0002row20_col1 {\n",
              "            background-color:  #fee8dd;\n",
              "            color:  #000000;\n",
              "        }    #T_8a0df066_b5f6_11ea_99a1_0242ac1c0002row21_col1 {\n",
              "            background-color:  #ffece4;\n",
              "            color:  #000000;\n",
              "        }    #T_8a0df066_b5f6_11ea_99a1_0242ac1c0002row22_col1 {\n",
              "            background-color:  #ffeee6;\n",
              "            color:  #000000;\n",
              "        }    #T_8a0df066_b5f6_11ea_99a1_0242ac1c0002row23_col1 {\n",
              "            background-color:  #ffeee7;\n",
              "            color:  #000000;\n",
              "        }    #T_8a0df066_b5f6_11ea_99a1_0242ac1c0002row24_col1 {\n",
              "            background-color:  #fff0e8;\n",
              "            color:  #000000;\n",
              "        }    #T_8a0df066_b5f6_11ea_99a1_0242ac1c0002row25_col1 {\n",
              "            background-color:  #fff0e9;\n",
              "            color:  #000000;\n",
              "        }    #T_8a0df066_b5f6_11ea_99a1_0242ac1c0002row26_col1 {\n",
              "            background-color:  #fff2ec;\n",
              "            color:  #000000;\n",
              "        }    #T_8a0df066_b5f6_11ea_99a1_0242ac1c0002row27_col1 {\n",
              "            background-color:  #fff3ed;\n",
              "            color:  #000000;\n",
              "        }    #T_8a0df066_b5f6_11ea_99a1_0242ac1c0002row28_col1 {\n",
              "            background-color:  #fff5f0;\n",
              "            color:  #000000;\n",
              "        }    #T_8a0df066_b5f6_11ea_99a1_0242ac1c0002row29_col1 {\n",
              "            background-color:  #fff5f0;\n",
              "            color:  #000000;\n",
              "        }</style><table id=\"T_8a0df066_b5f6_11ea_99a1_0242ac1c0002\" ><thead>    <tr>        <th class=\"blank level0\" ></th>        <th class=\"col_heading level0 col0\" >tokens_reply</th>        <th class=\"col_heading level0 col1\" >count</th>    </tr></thead><tbody>\n",
              "                <tr>\n",
              "                        <th id=\"T_8a0df066_b5f6_11ea_99a1_0242ac1c0002level0_row0\" class=\"row_heading level0 row0\" >0</th>\n",
              "                        <td id=\"T_8a0df066_b5f6_11ea_99a1_0242ac1c0002row0_col0\" class=\"data row0 col0\" >i</td>\n",
              "                        <td id=\"T_8a0df066_b5f6_11ea_99a1_0242ac1c0002row0_col1\" class=\"data row0 col1\" >3620</td>\n",
              "            </tr>\n",
              "            <tr>\n",
              "                        <th id=\"T_8a0df066_b5f6_11ea_99a1_0242ac1c0002level0_row1\" class=\"row_heading level0 row1\" >1</th>\n",
              "                        <td id=\"T_8a0df066_b5f6_11ea_99a1_0242ac1c0002row1_col0\" class=\"data row1 col0\" >you</td>\n",
              "                        <td id=\"T_8a0df066_b5f6_11ea_99a1_0242ac1c0002row1_col1\" class=\"data row1 col1\" >3411</td>\n",
              "            </tr>\n",
              "            <tr>\n",
              "                        <th id=\"T_8a0df066_b5f6_11ea_99a1_0242ac1c0002level0_row2\" class=\"row_heading level0 row2\" >2</th>\n",
              "                        <td id=\"T_8a0df066_b5f6_11ea_99a1_0242ac1c0002row2_col0\" class=\"data row2 col0\" >the</td>\n",
              "                        <td id=\"T_8a0df066_b5f6_11ea_99a1_0242ac1c0002row2_col1\" class=\"data row2 col1\" >2588</td>\n",
              "            </tr>\n",
              "            <tr>\n",
              "                        <th id=\"T_8a0df066_b5f6_11ea_99a1_0242ac1c0002level0_row3\" class=\"row_heading level0 row3\" >3</th>\n",
              "                        <td id=\"T_8a0df066_b5f6_11ea_99a1_0242ac1c0002row3_col0\" class=\"data row3 col0\" >to</td>\n",
              "                        <td id=\"T_8a0df066_b5f6_11ea_99a1_0242ac1c0002row3_col1\" class=\"data row3 col1\" >2197</td>\n",
              "            </tr>\n",
              "            <tr>\n",
              "                        <th id=\"T_8a0df066_b5f6_11ea_99a1_0242ac1c0002level0_row4\" class=\"row_heading level0 row4\" >4</th>\n",
              "                        <td id=\"T_8a0df066_b5f6_11ea_99a1_0242ac1c0002row4_col0\" class=\"data row4 col0\" >is</td>\n",
              "                        <td id=\"T_8a0df066_b5f6_11ea_99a1_0242ac1c0002row4_col1\" class=\"data row4 col1\" >2025</td>\n",
              "            </tr>\n",
              "            <tr>\n",
              "                        <th id=\"T_8a0df066_b5f6_11ea_99a1_0242ac1c0002level0_row5\" class=\"row_heading level0 row5\" >5</th>\n",
              "                        <td id=\"T_8a0df066_b5f6_11ea_99a1_0242ac1c0002row5_col0\" class=\"data row5 col0\" >a</td>\n",
              "                        <td id=\"T_8a0df066_b5f6_11ea_99a1_0242ac1c0002row5_col1\" class=\"data row5 col1\" >1952</td>\n",
              "            </tr>\n",
              "            <tr>\n",
              "                        <th id=\"T_8a0df066_b5f6_11ea_99a1_0242ac1c0002level0_row6\" class=\"row_heading level0 row6\" >6</th>\n",
              "                        <td id=\"T_8a0df066_b5f6_11ea_99a1_0242ac1c0002row6_col0\" class=\"data row6 col0\" >and</td>\n",
              "                        <td id=\"T_8a0df066_b5f6_11ea_99a1_0242ac1c0002row6_col1\" class=\"data row6 col1\" >1819</td>\n",
              "            </tr>\n",
              "            <tr>\n",
              "                        <th id=\"T_8a0df066_b5f6_11ea_99a1_0242ac1c0002level0_row7\" class=\"row_heading level0 row7\" >7</th>\n",
              "                        <td id=\"T_8a0df066_b5f6_11ea_99a1_0242ac1c0002row7_col0\" class=\"data row7 col0\" >it</td>\n",
              "                        <td id=\"T_8a0df066_b5f6_11ea_99a1_0242ac1c0002row7_col1\" class=\"data row7 col1\" >1562</td>\n",
              "            </tr>\n",
              "            <tr>\n",
              "                        <th id=\"T_8a0df066_b5f6_11ea_99a1_0242ac1c0002level0_row8\" class=\"row_heading level0 row8\" >8</th>\n",
              "                        <td id=\"T_8a0df066_b5f6_11ea_99a1_0242ac1c0002row8_col0\" class=\"data row8 col0\" >not</td>\n",
              "                        <td id=\"T_8a0df066_b5f6_11ea_99a1_0242ac1c0002row8_col1\" class=\"data row8 col1\" >1340</td>\n",
              "            </tr>\n",
              "            <tr>\n",
              "                        <th id=\"T_8a0df066_b5f6_11ea_99a1_0242ac1c0002level0_row9\" class=\"row_heading level0 row9\" >9</th>\n",
              "                        <td id=\"T_8a0df066_b5f6_11ea_99a1_0242ac1c0002row9_col0\" class=\"data row9 col0\" >that</td>\n",
              "                        <td id=\"T_8a0df066_b5f6_11ea_99a1_0242ac1c0002row9_col1\" class=\"data row9 col1\" >1256</td>\n",
              "            </tr>\n",
              "            <tr>\n",
              "                        <th id=\"T_8a0df066_b5f6_11ea_99a1_0242ac1c0002level0_row10\" class=\"row_heading level0 row10\" >10</th>\n",
              "                        <td id=\"T_8a0df066_b5f6_11ea_99a1_0242ac1c0002row10_col0\" class=\"data row10 col0\" >of</td>\n",
              "                        <td id=\"T_8a0df066_b5f6_11ea_99a1_0242ac1c0002row10_col1\" class=\"data row10 col1\" >1159</td>\n",
              "            </tr>\n",
              "            <tr>\n",
              "                        <th id=\"T_8a0df066_b5f6_11ea_99a1_0242ac1c0002level0_row11\" class=\"row_heading level0 row11\" >11</th>\n",
              "                        <td id=\"T_8a0df066_b5f6_11ea_99a1_0242ac1c0002row11_col0\" class=\"data row11 col0\" >for</td>\n",
              "                        <td id=\"T_8a0df066_b5f6_11ea_99a1_0242ac1c0002row11_col1\" class=\"data row11 col1\" >1149</td>\n",
              "            </tr>\n",
              "            <tr>\n",
              "                        <th id=\"T_8a0df066_b5f6_11ea_99a1_0242ac1c0002level0_row12\" class=\"row_heading level0 row12\" >12</th>\n",
              "                        <td id=\"T_8a0df066_b5f6_11ea_99a1_0242ac1c0002row12_col0\" class=\"data row12 col0\" >are</td>\n",
              "                        <td id=\"T_8a0df066_b5f6_11ea_99a1_0242ac1c0002row12_col1\" class=\"data row12 col1\" >1128</td>\n",
              "            </tr>\n",
              "            <tr>\n",
              "                        <th id=\"T_8a0df066_b5f6_11ea_99a1_0242ac1c0002level0_row13\" class=\"row_heading level0 row13\" >13</th>\n",
              "                        <td id=\"T_8a0df066_b5f6_11ea_99a1_0242ac1c0002row13_col0\" class=\"data row13 col0\" >this</td>\n",
              "                        <td id=\"T_8a0df066_b5f6_11ea_99a1_0242ac1c0002row13_col1\" class=\"data row13 col1\" >1110</td>\n",
              "            </tr>\n",
              "            <tr>\n",
              "                        <th id=\"T_8a0df066_b5f6_11ea_99a1_0242ac1c0002level0_row14\" class=\"row_heading level0 row14\" >14</th>\n",
              "                        <td id=\"T_8a0df066_b5f6_11ea_99a1_0242ac1c0002row14_col0\" class=\"data row14 col0\" >in</td>\n",
              "                        <td id=\"T_8a0df066_b5f6_11ea_99a1_0242ac1c0002row14_col1\" class=\"data row14 col1\" >954</td>\n",
              "            </tr>\n",
              "            <tr>\n",
              "                        <th id=\"T_8a0df066_b5f6_11ea_99a1_0242ac1c0002level0_row15\" class=\"row_heading level0 row15\" >15</th>\n",
              "                        <td id=\"T_8a0df066_b5f6_11ea_99a1_0242ac1c0002row15_col0\" class=\"data row15 col0\" >me</td>\n",
              "                        <td id=\"T_8a0df066_b5f6_11ea_99a1_0242ac1c0002row15_col1\" class=\"data row15 col1\" >902</td>\n",
              "            </tr>\n",
              "            <tr>\n",
              "                        <th id=\"T_8a0df066_b5f6_11ea_99a1_0242ac1c0002level0_row16\" class=\"row_heading level0 row16\" >16</th>\n",
              "                        <td id=\"T_8a0df066_b5f6_11ea_99a1_0242ac1c0002row16_col0\" class=\"data row16 col0\" >my</td>\n",
              "                        <td id=\"T_8a0df066_b5f6_11ea_99a1_0242ac1c0002row16_col1\" class=\"data row16 col1\" >890</td>\n",
              "            </tr>\n",
              "            <tr>\n",
              "                        <th id=\"T_8a0df066_b5f6_11ea_99a1_0242ac1c0002level0_row17\" class=\"row_heading level0 row17\" >17</th>\n",
              "                        <td id=\"T_8a0df066_b5f6_11ea_99a1_0242ac1c0002row17_col0\" class=\"data row17 col0\" >am</td>\n",
              "                        <td id=\"T_8a0df066_b5f6_11ea_99a1_0242ac1c0002row17_col1\" class=\"data row17 col1\" >836</td>\n",
              "            </tr>\n",
              "            <tr>\n",
              "                        <th id=\"T_8a0df066_b5f6_11ea_99a1_0242ac1c0002level0_row18\" class=\"row_heading level0 row18\" >18</th>\n",
              "                        <td id=\"T_8a0df066_b5f6_11ea_99a1_0242ac1c0002row18_col0\" class=\"data row18 col0\" >so</td>\n",
              "                        <td id=\"T_8a0df066_b5f6_11ea_99a1_0242ac1c0002row18_col1\" class=\"data row18 col1\" >787</td>\n",
              "            </tr>\n",
              "            <tr>\n",
              "                        <th id=\"T_8a0df066_b5f6_11ea_99a1_0242ac1c0002level0_row19\" class=\"row_heading level0 row19\" >19</th>\n",
              "                        <td id=\"T_8a0df066_b5f6_11ea_99a1_0242ac1c0002row19_col0\" class=\"data row19 col0\" >do</td>\n",
              "                        <td id=\"T_8a0df066_b5f6_11ea_99a1_0242ac1c0002row19_col1\" class=\"data row19 col1\" >783</td>\n",
              "            </tr>\n",
              "            <tr>\n",
              "                        <th id=\"T_8a0df066_b5f6_11ea_99a1_0242ac1c0002level0_row20\" class=\"row_heading level0 row20\" >20</th>\n",
              "                        <td id=\"T_8a0df066_b5f6_11ea_99a1_0242ac1c0002row20_col0\" class=\"data row20 col0\" >have</td>\n",
              "                        <td id=\"T_8a0df066_b5f6_11ea_99a1_0242ac1c0002row20_col1\" class=\"data row20 col1\" >777</td>\n",
              "            </tr>\n",
              "            <tr>\n",
              "                        <th id=\"T_8a0df066_b5f6_11ea_99a1_0242ac1c0002level0_row21\" class=\"row_heading level0 row21\" >21</th>\n",
              "                        <td id=\"T_8a0df066_b5f6_11ea_99a1_0242ac1c0002row21_col0\" class=\"data row21 col0\" >your</td>\n",
              "                        <td id=\"T_8a0df066_b5f6_11ea_99a1_0242ac1c0002row21_col1\" class=\"data row21 col1\" >697</td>\n",
              "            </tr>\n",
              "            <tr>\n",
              "                        <th id=\"T_8a0df066_b5f6_11ea_99a1_0242ac1c0002level0_row22\" class=\"row_heading level0 row22\" >22</th>\n",
              "                        <td id=\"T_8a0df066_b5f6_11ea_99a1_0242ac1c0002row22_col0\" class=\"data row22 col0\" >be</td>\n",
              "                        <td id=\"T_8a0df066_b5f6_11ea_99a1_0242ac1c0002row22_col1\" class=\"data row22 col1\" >678</td>\n",
              "            </tr>\n",
              "            <tr>\n",
              "                        <th id=\"T_8a0df066_b5f6_11ea_99a1_0242ac1c0002level0_row23\" class=\"row_heading level0 row23\" >23</th>\n",
              "                        <td id=\"T_8a0df066_b5f6_11ea_99a1_0242ac1c0002row23_col0\" class=\"data row23 col0\" >we</td>\n",
              "                        <td id=\"T_8a0df066_b5f6_11ea_99a1_0242ac1c0002row23_col1\" class=\"data row23 col1\" >665</td>\n",
              "            </tr>\n",
              "            <tr>\n",
              "                        <th id=\"T_8a0df066_b5f6_11ea_99a1_0242ac1c0002level0_row24\" class=\"row_heading level0 row24\" >24</th>\n",
              "                        <td id=\"T_8a0df066_b5f6_11ea_99a1_0242ac1c0002row24_col0\" class=\"data row24 col0\" >but</td>\n",
              "                        <td id=\"T_8a0df066_b5f6_11ea_99a1_0242ac1c0002row24_col1\" class=\"data row24 col1\" >637</td>\n",
              "            </tr>\n",
              "            <tr>\n",
              "                        <th id=\"T_8a0df066_b5f6_11ea_99a1_0242ac1c0002level0_row25\" class=\"row_heading level0 row25\" >25</th>\n",
              "                        <td id=\"T_8a0df066_b5f6_11ea_99a1_0242ac1c0002row25_col0\" class=\"data row25 col0\" >on</td>\n",
              "                        <td id=\"T_8a0df066_b5f6_11ea_99a1_0242ac1c0002row25_col1\" class=\"data row25 col1\" >629</td>\n",
              "            </tr>\n",
              "            <tr>\n",
              "                        <th id=\"T_8a0df066_b5f6_11ea_99a1_0242ac1c0002level0_row26\" class=\"row_heading level0 row26\" >26</th>\n",
              "                        <td id=\"T_8a0df066_b5f6_11ea_99a1_0242ac1c0002row26_col0\" class=\"data row26 col0\" >like</td>\n",
              "                        <td id=\"T_8a0df066_b5f6_11ea_99a1_0242ac1c0002row26_col1\" class=\"data row26 col1\" >588</td>\n",
              "            </tr>\n",
              "            <tr>\n",
              "                        <th id=\"T_8a0df066_b5f6_11ea_99a1_0242ac1c0002level0_row27\" class=\"row_heading level0 row27\" >27</th>\n",
              "                        <td id=\"T_8a0df066_b5f6_11ea_99a1_0242ac1c0002row27_col0\" class=\"data row27 col0\" >all</td>\n",
              "                        <td id=\"T_8a0df066_b5f6_11ea_99a1_0242ac1c0002row27_col1\" class=\"data row27 col1\" >571</td>\n",
              "            </tr>\n",
              "            <tr>\n",
              "                        <th id=\"T_8a0df066_b5f6_11ea_99a1_0242ac1c0002level0_row28\" class=\"row_heading level0 row28\" >28</th>\n",
              "                        <td id=\"T_8a0df066_b5f6_11ea_99a1_0242ac1c0002row28_col0\" class=\"data row28 col0\" >just</td>\n",
              "                        <td id=\"T_8a0df066_b5f6_11ea_99a1_0242ac1c0002row28_col1\" class=\"data row28 col1\" >538</td>\n",
              "            </tr>\n",
              "            <tr>\n",
              "                        <th id=\"T_8a0df066_b5f6_11ea_99a1_0242ac1c0002level0_row29\" class=\"row_heading level0 row29\" >29</th>\n",
              "                        <td id=\"T_8a0df066_b5f6_11ea_99a1_0242ac1c0002row29_col0\" class=\"data row29 col0\" >will</td>\n",
              "                        <td id=\"T_8a0df066_b5f6_11ea_99a1_0242ac1c0002row29_col1\" class=\"data row29 col1\" >534</td>\n",
              "            </tr>\n",
              "    </tbody></table>"
            ],
            "text/plain": [
              "<pandas.io.formats.style.Styler at 0x7f4660cfa7b8>"
            ]
          },
          "metadata": {
            "tags": []
          }
        }
      ]
    },
    {
      "cell_type": "code",
      "metadata": {
        "id": "7lHX0Rwb6isx",
        "colab_type": "code",
        "colab": {}
      },
      "source": [
        "for t in tweets:\n",
        "    for idx,token in enumerate(t['text_clean']):\n",
        "        if token in special:\n",
        "            t['text_clean'][idx] = special[token]\n",
        "        if token in emoji_remain_text:\n",
        "            t['text_clean'][idx] = re.sub(\"_\", \" \",re.sub(':','',emoji.demojize(token)))\n",
        "    for idx,token in enumerate(t['reply_clean']):\n",
        "        if token in special:\n",
        "            t['reply_clean'][idx] = special[token]\n",
        "        if token in emoji_remain_reply:\n",
        "            t['reply_clean'][idx] = re.sub(\"_\", \" \",re.sub(':','',emoji.demojize(token)))\n",
        "    #t['text_clean'] = [c for c in t['text_clean'] if c not in weird]\n",
        "    #t['reply_clean'] = [c for c in t['reply_clean'] if c not in weird]\n",
        "for t in dev:\n",
        "    for idx,token in enumerate(t['text_clean']):\n",
        "        if token in special:\n",
        "            t['text_clean'][idx] = special[token]\n",
        "        if token in emoji_remain_text:\n",
        "            t['text_clean'][idx] = re.sub(\"_\", \" \",re.sub(':','',emoji.demojize(token)))\n",
        "    for idx,token in enumerate(t['reply_clean']):\n",
        "        if token in special:\n",
        "            t['reply_clean'][idx] = special[token]\n",
        "        if token in emoji_remain_reply:\n",
        "            t['reply_clean'][idx] = re.sub(\"_\", \" \",re.sub(':','',emoji.demojize(token)))\n",
        "    #t['text_clean'] = [c for c in t['text_clean'] if c not in weird]\n",
        "    #t['reply_clean'] = [c for c in t['reply_clean'] if c not in weird]\n",
        "for t in test:\n",
        "    for idx,token in enumerate(t['text_clean']):\n",
        "        if token in special:\n",
        "            t['text_clean'][idx] = special[token]\n",
        "        if token in emoji_remain_text:\n",
        "            t['text_clean'][idx] = re.sub(\"_\", \" \",re.sub(':','',emoji.demojize(token)))\n",
        "    for idx,token in enumerate(t['reply_clean']):\n",
        "        if token in special:\n",
        "            t['reply_clean'][idx] = special[token]\n",
        "        if token in emoji_remain_reply:\n",
        "            t['reply_clean'][idx] = re.sub(\"_\", \" \",re.sub(':','',emoji.demojize(token)))\n",
        "    #t['text_clean'] = [c for c in t['text_clean'] if c not in weird]\n",
        "    #t['reply_clean'] = [c for c in t['reply_clean'] if c not in weird]"
      ],
      "execution_count": null,
      "outputs": []
    },
    {
      "cell_type": "code",
      "metadata": {
        "id": "kx1lQp3d7N7V",
        "colab_type": "code",
        "colab": {}
      },
      "source": [
        "cat_index = {}\n",
        "for idx,c in enumerate(categories):\n",
        "    cat_index[c]=idx\n",
        "    \n",
        "def cat2vec(cat):\n",
        "    res = []\n",
        "    for tweet in cat:\n",
        "        temp = np.zeros(43)\n",
        "        for c in tweet:\n",
        "            temp[cat_index[c]] = 1\n",
        "        res.append(temp)\n",
        "    return np.array(res)"
      ],
      "execution_count": null,
      "outputs": []
    },
    {
      "cell_type": "code",
      "metadata": {
        "id": "zZCAGLY86rjF",
        "colab_type": "code",
        "colab": {}
      },
      "source": [
        "tweets[25376]['text_clean'] = tweets[25376]['text_clean'][3:]\n",
        "train_text = [\" \".join(t['text_clean']) for t in tweets]\n",
        "tweets[28767]['reply_clean'] = tweets[28767]['reply_clean'][:55]\n",
        "train_reply = [\" \".join(t['reply_clean']) for t in tweets]\n",
        "train_y = [t['categories'] for t in tweets]\n",
        "\n",
        "\n",
        "dev[1581]['text_clean'] = dev[1581]['text_clean'][20:]\n",
        "dev_text = [\" \".join(t['text_clean']) for t in dev]\n",
        "dev_reply = [\" \".join(t['reply_clean']) for t in dev]\n",
        "\n",
        "test[1487]['text_clean'] = test[1487]['text_clean'][20:]\n",
        "test[2949]['reply_clean'] = test[2949]['reply_clean'][:9]\n",
        "test_text = [\" \".join(t['text_clean']) for t in test]\n",
        "test_reply = [\" \".join(t['reply_clean']) for t in test]"
      ],
      "execution_count": null,
      "outputs": []
    },
    {
      "cell_type": "code",
      "metadata": {
        "id": "Ou47jbZP6-gb",
        "colab_type": "code",
        "colab": {
          "base_uri": "https://localhost:8080/",
          "height": 69
        },
        "outputId": "a80e00a7-fa14-4696-f124-98d3576c3f41"
      },
      "source": [
        "train_y = cat2vec(train_y)\n",
        "train_y[0]"
      ],
      "execution_count": null,
      "outputs": [
        {
          "output_type": "execute_result",
          "data": {
            "text/plain": [
              "array([0., 0., 0., 0., 0., 0., 0., 0., 0., 0., 0., 0., 0., 0., 0., 0., 0.,\n",
              "       0., 0., 0., 0., 0., 0., 0., 0., 0., 0., 0., 0., 0., 0., 0., 0., 0.,\n",
              "       0., 0., 0., 0., 0., 0., 1., 0., 0.])"
            ]
          },
          "metadata": {
            "tags": []
          },
          "execution_count": 23
        }
      ]
    },
    {
      "cell_type": "code",
      "metadata": {
        "id": "qwiEo_Ovr1Fl",
        "colab_type": "code",
        "colab": {}
      },
      "source": [
        "train_dict = {}\n",
        "for i in range(32000):\n",
        "  temp = train_text[i]+train_reply[i]\n",
        "  if temp in train_dict:\n",
        "    train_dict[temp].append((train_y[i],i))\n",
        "  else:\n",
        "    train_dict[temp] = [(train_y[i],i)]\n",
        "\n",
        "duplicated = []\n",
        "for key in train_dict:\n",
        "  if len(train_dict[key])>1:\n",
        "    for id in train_dict[key][1:]:\n",
        "      duplicated.append(id[1])\n",
        "\n",
        "new = []\n",
        "for key in train_dict:\n",
        "  if len(train_dict[key])>1:\n",
        "    first_idx = train_dict[key][0][1]\n",
        "    temp = np.zeros(43)\n",
        "    for id in train_dict[key]:\n",
        "      temp = np.logical_or(temp, id[0])\n",
        "    temp = temp.astype(int)\n",
        "    new.append((first_idx,temp))"
      ],
      "execution_count": null,
      "outputs": []
    },
    {
      "cell_type": "code",
      "metadata": {
        "id": "pUfHtI67WWOu",
        "colab_type": "code",
        "colab": {}
      },
      "source": [
        "for idx, cat in new:\n",
        "  train_y[idx] = cat"
      ],
      "execution_count": null,
      "outputs": []
    },
    {
      "cell_type": "code",
      "metadata": {
        "id": "n6_g2OWbsgBY",
        "colab_type": "code",
        "colab": {
          "base_uri": "https://localhost:8080/",
          "height": 52
        },
        "outputId": "e53b710c-e464-4f69-8476-c8e964a1489f"
      },
      "source": [
        "print('before: ',len(train_text), len(train_reply), len(train_y))\n",
        "_tweets = np.delete(tweets, duplicated)\n",
        "train_text = np.delete(train_text, duplicated)\n",
        "train_reply = np.delete(train_reply, duplicated)\n",
        "train_y = np.delete(train_y, duplicated, axis=0)\n",
        "print('after: ',len(train_text), len(train_reply), len(train_y), len(_tweets))"
      ],
      "execution_count": null,
      "outputs": [
        {
          "output_type": "stream",
          "text": [
            "before:  32000 32000 32000\n",
            "after:  26967 26967 26967 26967\n"
          ],
          "name": "stdout"
        }
      ]
    },
    {
      "cell_type": "code",
      "metadata": {
        "id": "21OTqkO1NggU",
        "colab_type": "code",
        "colab": {
          "base_uri": "https://localhost:8080/",
          "height": 66,
          "referenced_widgets": [
            "f2865da279944c2ab36c2e330483a10f",
            "014ff6fcce9c424aba12bae12de08dfa",
            "e5f4e974162f47248ef23580b5a9f063",
            "0a31284ecf67453eacab64d72c6c9432",
            "e1d2581257014e2b90276481ab233f0b",
            "8441b85d09474569886a2283bb2471cb",
            "6eeb62675c9847d19e9c49b2595da831",
            "4a40451531f94262b25332deb617f6ed"
          ]
        },
        "outputId": "8741e450-7050-48d6-c804-ac295edf4f91"
      },
      "source": [
        "#tokenizer = BertTokenizer.from_pretrained('bert-large-uncased-whole-word-masking')\n",
        "tokenizer = BertTokenizer.from_pretrained('bert-base-uncased')"
      ],
      "execution_count": null,
      "outputs": [
        {
          "output_type": "display_data",
          "data": {
            "application/vnd.jupyter.widget-view+json": {
              "model_id": "f2865da279944c2ab36c2e330483a10f",
              "version_minor": 0,
              "version_major": 2
            },
            "text/plain": [
              "HBox(children=(FloatProgress(value=0.0, description='Downloading', max=231508.0, style=ProgressStyle(descripti…"
            ]
          },
          "metadata": {
            "tags": []
          }
        },
        {
          "output_type": "stream",
          "text": [
            "\n"
          ],
          "name": "stdout"
        }
      ]
    },
    {
      "cell_type": "code",
      "metadata": {
        "id": "XHW5_UJt7pXB",
        "colab_type": "code",
        "colab": {}
      },
      "source": [
        "train_x = []\n",
        "for i in range(len(train_text)):\n",
        "  train_x.append(tokenizer.encode(train_text[i], train_reply[i],skip_special_tokens=True))\n",
        "\n",
        "dev_x = []\n",
        "for i in range(len(dev_text)):\n",
        "  dev_x.append(tokenizer.encode(dev_text[i], dev_reply[i],skip_special_tokens=True))\n",
        "\n",
        "test_x = []\n",
        "for i in range(len(test_text)):\n",
        "  test_x.append(tokenizer.encode(test_text[i], test_reply[i],skip_special_tokens=True))"
      ],
      "execution_count": null,
      "outputs": []
    },
    {
      "cell_type": "code",
      "metadata": {
        "id": "GOUElz6jTbV8",
        "colab_type": "code",
        "colab": {
          "base_uri": "https://localhost:8080/",
          "height": 69
        },
        "outputId": "7ea4acc1-6eab-4b95-bcf0-51bf05340bba"
      },
      "source": [
        "print(len(max(train_x,key=len)))\n",
        "print(len(max(dev_x,key=len)))\n",
        "print(len(max(test_x,key=len)))"
      ],
      "execution_count": null,
      "outputs": [
        {
          "output_type": "stream",
          "text": [
            "160\n",
            "122\n",
            "139\n"
          ],
          "name": "stdout"
        }
      ]
    },
    {
      "cell_type": "code",
      "metadata": {
        "id": "nZpqTIBgRKLq",
        "colab_type": "code",
        "colab": {
          "base_uri": "https://localhost:8080/",
          "height": 191
        },
        "outputId": "4adaccd6-c508-49f4-8f25-da7046ffb40b"
      },
      "source": [
        "gg = []\n",
        "for idx,t in enumerate(train_x):\n",
        "  gg.append((len(t),idx))\n",
        "sorted(gg,key=lambda x:x[0],reverse=True)[:10]"
      ],
      "execution_count": null,
      "outputs": [
        {
          "output_type": "execute_result",
          "data": {
            "text/plain": [
              "[(160, 9241),\n",
              " (139, 15112),\n",
              " (139, 21609),\n",
              " (132, 24351),\n",
              " (130, 22963),\n",
              " (128, 16528),\n",
              " (128, 26300),\n",
              " (127, 13504),\n",
              " (126, 12215),\n",
              " (126, 24434)]"
            ]
          },
          "metadata": {
            "tags": []
          },
          "execution_count": 30
        }
      ]
    },
    {
      "cell_type": "code",
      "metadata": {
        "id": "zWqL18KbYiTD",
        "colab_type": "code",
        "colab": {}
      },
      "source": [
        "MAX_LEN=165"
      ],
      "execution_count": null,
      "outputs": []
    },
    {
      "cell_type": "code",
      "metadata": {
        "id": "eNDvof9Z_aEA",
        "colab_type": "code",
        "colab": {}
      },
      "source": [
        "attention_mask = []\n",
        "for t in train_x:\n",
        "  N = len(t)\n",
        "  attention_mask.append(list(np.ones(N, dtype=int))+list(np.zeros(MAX_LEN-N, dtype=int)))\n",
        "\n",
        "attention_mask_d = []\n",
        "for t in dev_x:\n",
        "  N = len(t)\n",
        "  attention_mask_d.append(list(np.ones(N, dtype=int))+list(np.zeros(MAX_LEN-N, dtype=int)))\n",
        "\n",
        "attention_mask_t = []\n",
        "for t in test_x:\n",
        "  N = len(t)\n",
        "  attention_mask_t.append(list(np.ones(N, dtype=int))+list(np.zeros(MAX_LEN-N, dtype=int)))"
      ],
      "execution_count": null,
      "outputs": []
    },
    {
      "cell_type": "code",
      "metadata": {
        "id": "r4RmRSZTDuwW",
        "colab_type": "code",
        "colab": {}
      },
      "source": [
        "attention_mask = np.mat(attention_mask)\n",
        "attention_mask_d = np.mat(attention_mask_d)\n",
        "attention_mask_t = np.mat(attention_mask_t)"
      ],
      "execution_count": null,
      "outputs": []
    },
    {
      "cell_type": "code",
      "metadata": {
        "id": "rNpQ6MYu-iG3",
        "colab_type": "code",
        "colab": {}
      },
      "source": [
        "train_x = pad_sequences(train_x,  maxlen=MAX_LEN, dtype='int', padding='post', value = 0)\n",
        "dev_x = pad_sequences(dev_x,  maxlen=MAX_LEN, dtype='int', padding='post', value = 0)\n",
        "test_x = pad_sequences(test_x,  maxlen=MAX_LEN, dtype='int', padding='post', value = 0)"
      ],
      "execution_count": null,
      "outputs": []
    },
    {
      "cell_type": "code",
      "metadata": {
        "id": "WcwPwA0UAf9Q",
        "colab_type": "code",
        "colab": {}
      },
      "source": [
        "token_type_ids = np.zeros((train_x.shape[0],MAX_LEN))\n",
        "token_type_ids_d = np.zeros((dev_x.shape[0],MAX_LEN))\n",
        "token_type_ids_t = np.zeros((test_x.shape[0],MAX_LEN))"
      ],
      "execution_count": null,
      "outputs": []
    },
    {
      "cell_type": "markdown",
      "metadata": {
        "id": "3uI27jRd8UmJ",
        "colab_type": "text"
      },
      "source": [
        "## Build BERT Model"
      ]
    },
    {
      "cell_type": "code",
      "metadata": {
        "id": "SZV35EkAzloN",
        "colab_type": "code",
        "colab": {}
      },
      "source": [
        "def build_model():\n",
        "    ids = tf.keras.layers.Input((MAX_LEN,), dtype=tf.int32)\n",
        "    att = tf.keras.layers.Input((MAX_LEN,), dtype=tf.int32)\n",
        "    tok = tf.keras.layers.Input((MAX_LEN,), dtype=tf.int32)\n",
        "\n",
        "    config = BertConfig.from_pretrained('bert-base-uncased', num_labels=43)\n",
        "    bert_model = TFBertForSequenceClassification.from_pretrained('bert-base-uncased',config=config)\n",
        "    x = bert_model(ids,attention_mask=att,token_type_ids=tok)\n",
        "    \n",
        "    x1 = tf.keras.layers.Dropout(0.1)(x[0]) \n",
        "    x1 = tf.keras.layers.Dense(43)(x1)\n",
        "    x1 = tf.keras.layers.Activation('sigmoid')(x1)\n",
        "\n",
        "    model = tf.keras.models.Model(inputs=[ids, att, tok], outputs=x1)\n",
        "    optimizer = tf.keras.optimizers.Adam(learning_rate=3e-5)\n",
        "    model.compile(loss='binary_crossentropy', optimizer=optimizer)\n",
        "\n",
        "    return model"
      ],
      "execution_count": null,
      "outputs": []
    },
    {
      "cell_type": "code",
      "metadata": {
        "id": "K5rocE1Mwtoj",
        "colab_type": "code",
        "colab": {}
      },
      "source": [
        "def build_model_large():\n",
        "    ids = tf.keras.layers.Input((MAX_LEN,), dtype=tf.int32)\n",
        "    att = tf.keras.layers.Input((MAX_LEN,), dtype=tf.int32)\n",
        "    tok = tf.keras.layers.Input((MAX_LEN,), dtype=tf.int32)\n",
        "\n",
        "    config = BertConfig.from_pretrained('bert-large-uncased', num_labels=43)\n",
        "    bert_model = TFBertForSequenceClassification.from_pretrained('bert-large-uncased',config=config)\n",
        "    x = bert_model(ids,attention_mask=att,token_type_ids=tok)\n",
        "    \n",
        "    x1 = tf.keras.layers.Dropout(0.1)(x[0]) \n",
        "    x1 = tf.keras.layers.Dense(43)(x1)\n",
        "    x1 = tf.keras.layers.Activation('sigmoid')(x1)\n",
        "\n",
        "    model = tf.keras.models.Model(inputs=[ids, att, tok], outputs=x1)\n",
        "    optimizer = tf.keras.optimizers.Adam(learning_rate=3e-5)\n",
        "    model.compile(loss='binary_crossentropy', optimizer=optimizer)\n",
        "\n",
        "    return model"
      ],
      "execution_count": null,
      "outputs": []
    },
    {
      "cell_type": "code",
      "metadata": {
        "id": "FLzKuamEGsdr",
        "colab_type": "code",
        "colab": {}
      },
      "source": [
        "def build_model_wwm():\n",
        "    ids = tf.keras.layers.Input((MAX_LEN,), dtype=tf.int32)\n",
        "    att = tf.keras.layers.Input((MAX_LEN,), dtype=tf.int32)\n",
        "    tok = tf.keras.layers.Input((MAX_LEN,), dtype=tf.int32)\n",
        "\n",
        "    config = BertConfig.from_pretrained('bert-large-uncased-whole-word-masking', num_labels=43)\n",
        "    bert_model = TFBertForSequenceClassification.from_pretrained('bert-large-uncased-whole-word-masking',config=config)\n",
        "    x = bert_model(ids,attention_mask=att,token_type_ids=tok)\n",
        "    \n",
        "    x1 = tf.keras.layers.Dropout(0.1)(x[0]) \n",
        "    x1 = tf.keras.layers.Dense(43)(x1)\n",
        "    x1 = tf.keras.layers.Activation('sigmoid')(x1)\n",
        "\n",
        "    model = tf.keras.models.Model(inputs=[ids, att, tok], outputs=x1)\n",
        "    optimizer = tf.keras.optimizers.Adam()\n",
        "    model.compile(loss='binary_crossentropy', optimizer=optimizer)\n",
        "\n",
        "    return model"
      ],
      "execution_count": null,
      "outputs": []
    },
    {
      "cell_type": "markdown",
      "metadata": {
        "id": "Hzt8tTc97_pP",
        "colab_type": "text"
      },
      "source": [
        "### BERT(Base)"
      ]
    },
    {
      "cell_type": "code",
      "metadata": {
        "id": "d1wYS0Q8fIbJ",
        "colab_type": "code",
        "colab": {
          "base_uri": "https://localhost:8080/",
          "height": 124
        },
        "outputId": "c9b48750-88a3-40c8-8e9a-a4be6282c9a5"
      },
      "source": [
        "from google.colab import drive\n",
        "drive.mount('/content/drive')"
      ],
      "execution_count": null,
      "outputs": [
        {
          "output_type": "stream",
          "text": [
            "Go to this URL in a browser: https://accounts.google.com/o/oauth2/auth?client_id=947318989803-6bn6qk8qdgf4n4g3pfee6491hc0brc4i.apps.googleusercontent.com&redirect_uri=urn%3aietf%3awg%3aoauth%3a2.0%3aoob&response_type=code&scope=email%20https%3a%2f%2fwww.googleapis.com%2fauth%2fdocs.test%20https%3a%2f%2fwww.googleapis.com%2fauth%2fdrive%20https%3a%2f%2fwww.googleapis.com%2fauth%2fdrive.photos.readonly%20https%3a%2f%2fwww.googleapis.com%2fauth%2fpeopleapi.readonly\n",
            "\n",
            "Enter your authorization code:\n",
            "··········\n",
            "Mounted at /content/drive\n"
          ],
          "name": "stdout"
        }
      ]
    },
    {
      "cell_type": "code",
      "metadata": {
        "id": "WvOYZcjuCjt9",
        "colab_type": "code",
        "colab": {}
      },
      "source": [
        "model = build_model()\n",
        "\n",
        "config = tf.compat.v1.ConfigProto()\n",
        "config.gpu_options.allow_growth = True\n",
        "\n",
        "model.fit([train_x, attention_mask, token_type_ids], train_y, epochs=5, batch_size=32, verbose=1)"
      ],
      "execution_count": null,
      "outputs": []
    },
    {
      "cell_type": "markdown",
      "metadata": {
        "id": "x-lxJLRM8CLN",
        "colab_type": "text"
      },
      "source": [
        "### BERT (Large)\n",
        "> MAX_LEN=140, batchsize=16\n",
        "\n"
      ]
    },
    {
      "cell_type": "code",
      "metadata": {
        "id": "QfU7CEEwxJGb",
        "colab_type": "code",
        "colab": {
          "base_uri": "https://localhost:8080/",
          "height": 219,
          "referenced_widgets": [
            "1c83df503105446694f5b1a4859d6062",
            "4c57876fab7f4e709a15f05f0f4da217",
            "c23cd4e69cdb462581fdc483a93bad01",
            "da1e472397dd42d9bacf0a01ad7482af",
            "836071e6b8a3457e9d0bfd4631b624cd",
            "8509c6a645644325bd9327c17c1db73f",
            "a0ba19b8b9264fcd9d825eadcf30589e",
            "99cda7fd9378434cb483a9dc938837a6"
          ]
        },
        "outputId": "fd300004-c9d3-4572-ae13-de3ffd38a8c0"
      },
      "source": [
        "model_large = build_model_large()\n",
        "\n",
        "config = tf.compat.v1.ConfigProto()\n",
        "config.gpu_options.allow_growth = True\n",
        "\n",
        "model_large.fit([train_x, attention_mask, token_type_ids], train_y, epochs=4, batch_size=16, verbose=1)"
      ],
      "execution_count": null,
      "outputs": [
        {
          "output_type": "display_data",
          "data": {
            "application/vnd.jupyter.widget-view+json": {
              "model_id": "1c83df503105446694f5b1a4859d6062",
              "version_minor": 0,
              "version_major": 2
            },
            "text/plain": [
              "HBox(children=(FloatProgress(value=0.0, description='Downloading', max=1472569832.0, style=ProgressStyle(descr…"
            ]
          },
          "metadata": {
            "tags": []
          }
        },
        {
          "output_type": "stream",
          "text": [
            "\n",
            "Epoch 1/4\n",
            "1674/1674 [==============================] - 1406s 840ms/step - loss: 0.1911\n",
            "Epoch 2/4\n",
            "1674/1674 [==============================] - 1405s 839ms/step - loss: 0.1599\n",
            "Epoch 3/4\n",
            "1674/1674 [==============================] - 1405s 839ms/step - loss: 0.1557\n",
            "Epoch 4/4\n",
            "1674/1674 [==============================] - 1405s 839ms/step - loss: 0.1536\n"
          ],
          "name": "stdout"
        },
        {
          "output_type": "execute_result",
          "data": {
            "text/plain": [
              "<tensorflow.python.keras.callbacks.History at 0x7f7ace9daf28>"
            ]
          },
          "metadata": {
            "tags": []
          },
          "execution_count": 223
        }
      ]
    },
    {
      "cell_type": "markdown",
      "metadata": {
        "id": "fWmSQv388JdO",
        "colab_type": "text"
      },
      "source": [
        "### Pred and Save"
      ]
    },
    {
      "cell_type": "code",
      "metadata": {
        "id": "Tzj9BJWNiDO0",
        "colab_type": "code",
        "colab": {}
      },
      "source": [
        "pred = model_large.predict([dev_x, attention_mask_d, token_type_ids_d])\n",
        "pred_t = model_large.predict([test_x, attention_mask_t, token_type_ids_t])"
      ],
      "execution_count": null,
      "outputs": []
    },
    {
      "cell_type": "code",
      "metadata": {
        "id": "RbFBx3VCiIkv",
        "colab_type": "code",
        "colab": {}
      },
      "source": [
        "with open(PATH+'pred_bert_large_uncased_d.npy', 'wb') as f:\n",
        "    np.save(f, pred)\n",
        "\n",
        "with open(PATH+'pred_bert_large_uncased_t.npy', 'wb') as f:\n",
        "    np.save(f, pred_t)"
      ],
      "execution_count": null,
      "outputs": []
    },
    {
      "cell_type": "markdown",
      "metadata": {
        "id": "c51hzUCB7qYs",
        "colab_type": "text"
      },
      "source": [
        "## Ensemble BERT(Base)\n",
        "* 0-10: batchsize 16 epoch 5\n",
        "* batchsize 16, epoch 8 ->worse"
      ]
    },
    {
      "cell_type": "code",
      "metadata": {
        "id": "6J-RWGBE_B8G",
        "colab_type": "code",
        "colab": {
          "base_uri": "https://localhost:8080/",
          "height": 1000,
          "referenced_widgets": [
            "f7ed84b4634d442f83b2b2c709338584",
            "1cd525503bd74e0f89b27df76b954c6f",
            "5ad74bc00a224bc5a042f689e4a7f9d2",
            "42d27c19af6b4086a4395488d6f9e6d6",
            "4e5b1d639c1947468c7c65474f2eb77e",
            "bdbb6a88bdfb4d83a2390bff8b45850c",
            "58baf9e2c9f345028f64f08f10ee8680",
            "d74fbef402d14af3b4fab89b5fa5ae62",
            "ed749125d6814a08a3b558521293e50d",
            "0a4c5e737e964bcdb60207bc07269afb",
            "7eede042ccc245d2a6e4deb14147aa88",
            "178e8352144c49beaada45e7592b25cb",
            "4517de8962214032939fc703b7a2f0e2",
            "5d7631db334f41cb8ea0f72351c29212",
            "9b6014cadbe34c84bb7d06d114e42f46",
            "ee6ec2e61f124f8aba1468244a588a89"
          ]
        },
        "outputId": "b61e00d4-fd2c-4958-d59f-e5dda6aa0897"
      },
      "source": [
        "start = 11\n",
        "for i in range(start,start+10):\n",
        "  config = tf.compat.v1.ConfigProto()\n",
        "  config.gpu_options.allow_growth = True\n",
        "  model = build_model()\n",
        "  model.fit([train_x, attention_mask, token_type_ids], train_y, epochs=5, batch_size=16, verbose=1)\n",
        "  pred = model.predict([dev_x, attention_mask_d, token_type_ids_d])\n",
        "  pred_t = model.predict([test_x, attention_mask_t, token_type_ids_t])\n",
        "  with open(PATH+'pred_bert_uncased{}_d.npy'.format(i), 'wb') as f:\n",
        "    np.save(f, pred)\n",
        "\n",
        "  with open(PATH+'pred_bert_uncased{}_t.npy'.format(i), 'wb') as f:\n",
        "    np.save(f, pred_t)\n",
        "  del model"
      ],
      "execution_count": null,
      "outputs": [
        {
          "output_type": "display_data",
          "data": {
            "application/vnd.jupyter.widget-view+json": {
              "model_id": "f7ed84b4634d442f83b2b2c709338584",
              "version_minor": 0,
              "version_major": 2
            },
            "text/plain": [
              "HBox(children=(FloatProgress(value=0.0, description='Downloading', max=433.0, style=ProgressStyle(description_…"
            ]
          },
          "metadata": {
            "tags": []
          }
        },
        {
          "output_type": "stream",
          "text": [
            "\n"
          ],
          "name": "stdout"
        },
        {
          "output_type": "display_data",
          "data": {
            "application/vnd.jupyter.widget-view+json": {
              "model_id": "ed749125d6814a08a3b558521293e50d",
              "version_minor": 0,
              "version_major": 2
            },
            "text/plain": [
              "HBox(children=(FloatProgress(value=0.0, description='Downloading', max=536063208.0, style=ProgressStyle(descri…"
            ]
          },
          "metadata": {
            "tags": []
          }
        },
        {
          "output_type": "stream",
          "text": [
            "\n",
            "Epoch 1/8\n",
            "1686/1686 [==============================] - 596s 353ms/step - loss: 0.1952\n",
            "Epoch 2/8\n",
            "1686/1686 [==============================] - 596s 353ms/step - loss: 0.1516\n",
            "Epoch 3/8\n",
            "1686/1686 [==============================] - 596s 353ms/step - loss: 0.1416\n",
            "Epoch 4/8\n",
            "1686/1686 [==============================] - 596s 354ms/step - loss: 0.1319\n",
            "Epoch 5/8\n",
            "1686/1686 [==============================] - 596s 354ms/step - loss: 0.1197\n",
            "Epoch 6/8\n",
            "1686/1686 [==============================] - 596s 353ms/step - loss: 0.1069\n",
            "Epoch 7/8\n",
            "1686/1686 [==============================] - 598s 354ms/step - loss: 0.0954\n",
            "Epoch 8/8\n",
            "1686/1686 [==============================] - 598s 354ms/step - loss: 0.0853\n",
            "Epoch 1/8\n",
            "1686/1686 [==============================] - 596s 354ms/step - loss: 0.2054\n",
            "Epoch 2/8\n",
            "1686/1686 [==============================] - 597s 354ms/step - loss: 0.1511\n",
            "Epoch 3/8\n",
            "1686/1686 [==============================] - 596s 353ms/step - loss: 0.1379\n",
            "Epoch 4/8\n",
            "1686/1686 [==============================] - 595s 353ms/step - loss: 0.1239\n",
            "Epoch 5/8\n",
            "1686/1686 [==============================] - 595s 353ms/step - loss: 0.1086\n",
            "Epoch 6/8\n",
            "1686/1686 [==============================] - 596s 353ms/step - loss: 0.0950\n",
            "Epoch 7/8\n",
            "1686/1686 [==============================] - 596s 353ms/step - loss: 0.0834\n",
            "Epoch 8/8\n",
            "1686/1686 [==============================] - 596s 353ms/step - loss: 0.0739\n",
            "Epoch 1/8\n",
            "1686/1686 [==============================] - 596s 353ms/step - loss: 0.1915\n",
            "Epoch 2/8\n",
            "1686/1686 [==============================] - 596s 353ms/step - loss: 0.1510\n",
            "Epoch 3/8\n",
            "1686/1686 [==============================] - 595s 353ms/step - loss: 0.1393\n",
            "Epoch 4/8\n",
            "1686/1686 [==============================] - 595s 353ms/step - loss: 0.1274\n",
            "Epoch 5/8\n",
            "1686/1686 [==============================] - 595s 353ms/step - loss: 0.1147\n",
            "Epoch 6/8\n",
            "1686/1686 [==============================] - 596s 353ms/step - loss: 0.1023\n",
            "Epoch 7/8\n",
            "1686/1686 [==============================] - 596s 353ms/step - loss: 0.0910\n",
            "Epoch 8/8\n",
            "1686/1686 [==============================] - 596s 353ms/step - loss: 0.0805\n",
            "Epoch 1/8\n",
            "1686/1686 [==============================] - 596s 353ms/step - loss: 0.1824\n",
            "Epoch 2/8\n",
            "1686/1686 [==============================] - 595s 353ms/step - loss: 0.1469\n",
            "Epoch 3/8\n",
            "1686/1686 [==============================] - 596s 353ms/step - loss: 0.1352\n",
            "Epoch 4/8\n",
            "1686/1686 [==============================] - 596s 353ms/step - loss: 0.1216\n",
            "Epoch 5/8\n",
            "1686/1686 [==============================] - 596s 353ms/step - loss: 0.1082\n",
            "Epoch 6/8\n",
            "1686/1686 [==============================] - 596s 354ms/step - loss: 0.0956\n",
            "Epoch 7/8\n",
            "1686/1686 [==============================] - 596s 354ms/step - loss: 0.0844\n",
            "Epoch 8/8\n",
            "1686/1686 [==============================] - 596s 354ms/step - loss: 0.0746\n",
            "Epoch 1/8\n",
            "1686/1686 [==============================] - 596s 354ms/step - loss: 0.1862\n",
            "Epoch 2/8\n",
            "1686/1686 [==============================] - 596s 353ms/step - loss: 0.1494\n",
            "Epoch 3/8\n",
            "1686/1686 [==============================] - 596s 354ms/step - loss: 0.1382\n",
            "Epoch 4/8\n",
            "1686/1686 [==============================] - 596s 353ms/step - loss: 0.1254\n",
            "Epoch 5/8\n",
            "1686/1686 [==============================] - 597s 354ms/step - loss: 0.1113\n",
            "Epoch 6/8\n",
            "1686/1686 [==============================] - 598s 355ms/step - loss: 0.0986\n",
            "Epoch 7/8\n",
            "1686/1686 [==============================] - 597s 354ms/step - loss: 0.0872\n",
            "Epoch 8/8\n",
            "1686/1686 [==============================] - 598s 355ms/step - loss: 0.0771\n",
            "Epoch 1/8\n",
            "1686/1686 [==============================] - 598s 355ms/step - loss: 0.2061\n",
            "Epoch 2/8\n",
            "1686/1686 [==============================] - 597s 354ms/step - loss: 0.1523\n",
            "Epoch 3/8\n",
            "1686/1686 [==============================] - 598s 355ms/step - loss: 0.1389\n",
            "Epoch 4/8\n",
            "1686/1686 [==============================] - 598s 355ms/step - loss: 0.1259\n",
            "Epoch 5/8\n",
            "1686/1686 [==============================] - 598s 354ms/step - loss: 0.1121\n",
            "Epoch 6/8\n",
            "1686/1686 [==============================] - 598s 355ms/step - loss: 0.0993\n",
            "Epoch 7/8\n",
            " 224/1686 [==>...........................] - ETA: 8:36 - loss: 0.0870"
          ],
          "name": "stdout"
        }
      ]
    },
    {
      "cell_type": "code",
      "metadata": {
        "id": "oMCcWlSJ3z1t",
        "colab_type": "code",
        "colab": {
          "base_uri": "https://localhost:8080/",
          "height": 54
        },
        "outputId": "d75d2623-8d59-406d-bf1c-5b1813d7a96d"
      },
      "source": [
        "pred = []\n",
        "pred_t = []\n",
        "start = 16\n",
        "end = 20\n",
        "for i in range(start, end+1):\n",
        "  with open(PATH+'pred_bert_uncased{}_d.npy'.format(i), 'rb') as f:\n",
        "    a = np.load(f)\n",
        "    pred.append(a)\n",
        "  with open(PATH+'pred_bert_uncased{}_t.npy'.format(i), 'rb') as f:\n",
        "    a = np.load(f)\n",
        "    pred_t.append(a)\n",
        "pred = np.mean(pred,axis=0)\n",
        "pred_t = np.mean(pred_t,axis=0)\n",
        "\n",
        "with open(PATH+'pred_bert_uncased_ensemble{}-{}_d.npy'.format(start,end), 'wb') as f:\n",
        "    np.save(f, pred)\n",
        "\n",
        "with open(PATH+'pred_bert_uncased_ensemble{}-{}_t.npy'.format(start,end), 'wb') as f:\n",
        "    np.save(f, pred_t)"
      ],
      "execution_count": null,
      "outputs": [
        {
          "output_type": "execute_result",
          "data": {
            "text/plain": [
              "\"with open(PATH+'pred_bert_uncased_ensemble{}-{}_d.npy'.format(start,end), 'wb') as f:\\n    np.save(f, pred)\\n\\nwith open(PATH+'pred_bert_uncased_ensemble{}-{}_t.npy'.format(start,end), 'wb') as f:\\n    np.save(f, pred_t)\""
            ]
          },
          "metadata": {
            "tags": []
          },
          "execution_count": 56
        }
      ]
    },
    {
      "cell_type": "markdown",
      "metadata": {
        "id": "TJe5r7DMIt0h",
        "colab_type": "text"
      },
      "source": [
        "## Ensemble BERT(Large-WWM)"
      ]
    },
    {
      "cell_type": "code",
      "metadata": {
        "id": "Ons1z4rfG_Fk",
        "colab_type": "code",
        "colab": {}
      },
      "source": [
        "start = 0\n",
        "for i in range(start,start+10):\n",
        "  config = tf.compat.v1.ConfigProto()\n",
        "  config.gpu_options.allow_growth = True\n",
        "  model = build_model_wwm()\n",
        "  model.fit([train_x, attention_mask, token_type_ids], train_y, epochs=5, batch_size=16, verbose=1)\n",
        "  pred = model.predict([dev_x, attention_mask_d, token_type_ids_d])\n",
        "  pred_t = model.predict([test_x, attention_mask_t, token_type_ids_t])\n",
        "  with open(PATH+'pred_bert_large_wwm_uncased{}_d.npy'.format(i), 'wb') as f:\n",
        "    np.save(f, pred)\n",
        "\n",
        "  with open(PATH+'pred_bert_large_wwm_uncased{}_t.npy'.format(i), 'wb') as f:\n",
        "    np.save(f, pred_t)\n",
        "  del model"
      ],
      "execution_count": null,
      "outputs": []
    },
    {
      "cell_type": "code",
      "metadata": {
        "id": "AOEqVZ1MIxVV",
        "colab_type": "code",
        "colab": {}
      },
      "source": [
        "pred = []\n",
        "pred_t = []\n",
        "start = 0\n",
        "end = 10\n",
        "for i in range(start, end+1):\n",
        "  with open(PATH+'pred_bert_large_wwm_uncased{}_d.npy'.format(i), 'rb') as f:\n",
        "    a = np.load(f)\n",
        "    pred.append(a)\n",
        "  with open(PATH+'pred_bert_large_wwm_uncased{}_t.npy'.format(i), 'rb') as f:\n",
        "    a = np.load(f)\n",
        "    pred_t.append(a)\n",
        "pred = np.mean(pred,axis=0)\n",
        "pred_t = np.mean(pred_t,axis=0)\n",
        "\n",
        "with open(PATH+'pred_bert_large_wwm_uncased_ensemble{}-{}_d.npy'.format(start,end), 'wb') as f:\n",
        "    np.save(f, pred)\n",
        "\n",
        "with open(PATH+'pred_bert_large_wwm_uncased_ensemble{}-{}_t.npy'.format(start,end), 'wb') as f:\n",
        "    np.save(f, pred_t)"
      ],
      "execution_count": null,
      "outputs": []
    },
    {
      "cell_type": "markdown",
      "metadata": {
        "id": "Cd5wbZt_v6xx",
        "colab_type": "text"
      },
      "source": [
        ""
      ]
    },
    {
      "cell_type": "markdown",
      "metadata": {
        "id": "RkrjKizy8Nre",
        "colab_type": "text"
      },
      "source": [
        "## Get Result"
      ]
    },
    {
      "cell_type": "code",
      "metadata": {
        "id": "dEUg7jvYtU9q",
        "colab_type": "code",
        "colab": {}
      },
      "source": [
        "def decode_cat(res):\n",
        "    ans = []\n",
        "    for r in res:\n",
        "        temp = [categories[i] for i in r]\n",
        "        ans.append(temp)\n",
        "    return ans"
      ],
      "execution_count": null,
      "outputs": []
    },
    {
      "cell_type": "code",
      "metadata": {
        "id": "KLSViCQ5rV0n",
        "colab_type": "code",
        "colab": {}
      },
      "source": [
        "results = [np.argsort(res)[::-1][:6] for res in pred]\n",
        "results = decode_cat(results)"
      ],
      "execution_count": null,
      "outputs": []
    },
    {
      "cell_type": "code",
      "metadata": {
        "id": "jGBfdE5ItNA3",
        "colab_type": "code",
        "colab": {}
      },
      "source": [
        "for idx,t in enumerate(dev):\n",
        "    t['categories'] = results[idx]"
      ],
      "execution_count": null,
      "outputs": []
    },
    {
      "cell_type": "code",
      "metadata": {
        "id": "q_P5wTdVtkKy",
        "colab_type": "code",
        "colab": {}
      },
      "source": [
        "dev2 = []\n",
        "for line in open(PATH+'dev_unlabeled.json','r'):\n",
        "    dev2.append(json.loads(line))\n",
        "for idx,d in enumerate(dev):\n",
        "    dev2[idx]['categories']=d['categories']"
      ],
      "execution_count": null,
      "outputs": []
    },
    {
      "cell_type": "code",
      "metadata": {
        "id": "7eweRTxwtk8G",
        "colab_type": "code",
        "colab": {}
      },
      "source": [
        "for i in dev2:\n",
        "  with open('dev.json', 'a', encoding='utf-8') as f:\n",
        "    json.dump(i, f, ensure_ascii=False)\n",
        "    f.write('\\n')"
      ],
      "execution_count": null,
      "outputs": []
    },
    {
      "cell_type": "code",
      "metadata": {
        "id": "ycAtKmmf_-_N",
        "colab_type": "code",
        "colab": {}
      },
      "source": [
        ""
      ],
      "execution_count": null,
      "outputs": []
    }
  ]
}