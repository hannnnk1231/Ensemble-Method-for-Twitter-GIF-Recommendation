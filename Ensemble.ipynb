{
  "nbformat": 4,
  "nbformat_minor": 0,
  "metadata": {
    "colab": {
      "name": "Ensemble.ipynb",
      "provenance": [],
      "collapsed_sections": []
    },
    "kernelspec": {
      "name": "python3",
      "display_name": "Python 3"
    }
  },
  "cells": [
    {
      "cell_type": "code",
      "metadata": {
        "id": "0moM5fsQdxY9",
        "colab_type": "code",
        "colab": {}
      },
      "source": [
        "PATH = '/content/drive/My Drive/NLP/'"
      ],
      "execution_count": 1,
      "outputs": []
    },
    {
      "cell_type": "code",
      "metadata": {
        "id": "sQ0fl1HVd0zI",
        "colab_type": "code",
        "colab": {}
      },
      "source": [
        "import os\n",
        "import json\n",
        "import numpy as np"
      ],
      "execution_count": 3,
      "outputs": []
    },
    {
      "cell_type": "code",
      "metadata": {
        "id": "P6fhYEe-etRk",
        "colab_type": "code",
        "colab": {}
      },
      "source": [
        "def decode_cat(res):\n",
        "    ans = []\n",
        "    for r in res:\n",
        "        temp = [categories[i] for i in r]\n",
        "        ans.append(temp)\n",
        "    return ans"
      ],
      "execution_count": 4,
      "outputs": []
    },
    {
      "cell_type": "code",
      "metadata": {
        "id": "RqyZk0bHe5Yq",
        "colab_type": "code",
        "colab": {}
      },
      "source": [
        "with open(PATH+'categories.json') as f:\n",
        "  categories = json.load(f)\n",
        "\n",
        "tweets = []\n",
        "for line in open(PATH+'train_gold.json', 'r'):\n",
        "    tweets.append(json.loads(line))\n",
        "\n",
        "test = []\n",
        "for line in open(PATH+'test_unlabeled.json', 'r'):\n",
        "    test.append(json.loads(line))\n",
        "    \n",
        "dev = []\n",
        "for line in open(PATH+'dev_unlabeled.json','r'):\n",
        "  dev.append(json.loads(line))"
      ],
      "execution_count": 5,
      "outputs": []
    },
    {
      "cell_type": "markdown",
      "metadata": {
        "id": "0I6pOXJqzA6F",
        "colab_type": "text"
      },
      "source": [
        "Note: use `np.average(array,axis,weights)` to fine-tune weights"
      ]
    },
    {
      "cell_type": "code",
      "metadata": {
        "id": "iYFE21JxeERR",
        "colab_type": "code",
        "colab": {}
      },
      "source": [
        "_pred = []\n",
        "_pred_t = []\n",
        "model = ['pred_distilroberta_ensemble0-15','pred_distilbert_ensemble0-4','pred_bert_uncased_ensemble0-10','pred_roberta_ensemble0-31','pred_xlnet_ensemble0-6']\n",
        "\n",
        "for m in model:\n",
        "  with open(PATH+m+'_d.npy', 'rb') as f:\n",
        "    a = np.load(f)\n",
        "    _pred.append(a)\n",
        "  with open(PATH+m+'_t.npy', 'rb') as f:\n",
        "    a = np.load(f)\n",
        "    _pred_t.append(a)"
      ],
      "execution_count": 6,
      "outputs": []
    },
    {
      "cell_type": "code",
      "metadata": {
        "id": "faE8f9s8-JlD",
        "colab_type": "code",
        "colab": {}
      },
      "source": [
        "with open(PATH+'LSTM_text_d.npy', 'rb') as f:\n",
        "  lstm = np.load(f)\n",
        "with open(PATH+'LSTM_text_t.npy', 'rb') as f:\n",
        "  lstm_t = np.load(f)"
      ],
      "execution_count": 92,
      "outputs": []
    },
    {
      "cell_type": "markdown",
      "metadata": {
        "id": "Dm5sgvp91iXo",
        "colab_type": "text"
      },
      "source": [
        "Grid search"
      ]
    },
    {
      "cell_type": "code",
      "metadata": {
        "id": "jePbS52ZfquI",
        "colab_type": "code",
        "colab": {}
      },
      "source": [
        "for i in range(100):\n",
        "  weights = np.random.dirichlet(np.ones(5),size=1)[0]\n",
        "  pred = np.average(_pred,axis=0,weights=weights)\n",
        "  #pred_t = np.average(_pred_t,axis=0,weights=weights)\n",
        "  '''for idx, d in enumerate(dev):\n",
        "    if d['reply']=='':\n",
        "      pred[idx] = 0.7*pred[idx]+0.3*lstm[idx]'''\n",
        "  results = [np.argsort(res)[::-1][:6] for res in pred]\n",
        "  results = decode_cat(results)\n",
        "  for idx,t in enumerate(dev):\n",
        "    t['categories'] = results[idx]\n",
        "  weights = (np.round(weights,2)*100).astype(int)\n",
        "  if not os.path.isfile(PATH+'dev{}-{}-{}-{}-{}.json'.format(weights[0],weights[1],weights[2],weights[3],weights[4])):\n",
        "    for i in dev:\n",
        "      with open(PATH+'dev{}-{}-{}-{}-{}.json'.format(weights[0],weights[1],weights[2],weights[3],weights[4]), 'a', encoding='utf-8') as f:\n",
        "        json.dump(i, f, ensure_ascii=False)\n",
        "        f.write('\\n')"
      ],
      "execution_count": 7,
      "outputs": []
    },
    {
      "cell_type": "markdown",
      "metadata": {
        "id": "iIcY7OhZ1_KD",
        "colab_type": "text"
      },
      "source": [
        "# Ensemble Final"
      ]
    },
    {
      "cell_type": "code",
      "metadata": {
        "id": "TLftpcA8wLG8",
        "colab_type": "code",
        "colab": {}
      },
      "source": [
        "weights = [0.07,0.07,0.34,0.22,0.28]\n",
        "pred = np.average(_pred,axis=0,weights=weights)\n",
        "pred_t = np.average(_pred_t,axis=0,weights=weights)\n",
        "for idx, d in enumerate(dev):\n",
        "  if d['reply']=='':\n",
        "    pred[idx] = 0.7*pred[idx]+0.3*lstm[idx]\n",
        "for idx, d in enumerate(test):\n",
        "  if d['reply']=='':\n",
        "    pred_t[idx] = 0.7*pred_t[idx]+0.3*lstm_t[idx]"
      ],
      "execution_count": 93,
      "outputs": []
    },
    {
      "cell_type": "code",
      "metadata": {
        "id": "Ni4Y9c-DexG9",
        "colab_type": "code",
        "colab": {}
      },
      "source": [
        "results = [np.argsort(res)[::-1][:6] for res in pred]\n",
        "results = decode_cat(results)\n",
        "\n",
        "results_t = [np.argsort(res)[::-1][:6] for res in pred_t]\n",
        "results_t = decode_cat(results_t)"
      ],
      "execution_count": 94,
      "outputs": []
    },
    {
      "cell_type": "code",
      "metadata": {
        "id": "WKNXXtk7eyXv",
        "colab_type": "code",
        "colab": {}
      },
      "source": [
        "for idx,t in enumerate(dev):\n",
        "    t['categories'] = results[idx]\n",
        "for idx,t in enumerate(test):\n",
        "    t['categories'] = results_t[idx]"
      ],
      "execution_count": 95,
      "outputs": []
    },
    {
      "cell_type": "code",
      "metadata": {
        "id": "bzleJCHde056",
        "colab_type": "code",
        "colab": {}
      },
      "source": [
        "for i in dev:\n",
        "  with open('dev.json', 'a', encoding='utf-8') as f:\n",
        "    json.dump(i, f, ensure_ascii=False)\n",
        "    f.write('\\n')\n",
        "for i in test:\n",
        "  with open('eval.json', 'a', encoding='utf-8') as f:\n",
        "    json.dump(i, f, ensure_ascii=False)\n",
        "    f.write('\\n')"
      ],
      "execution_count": 96,
      "outputs": []
    },
    {
      "cell_type": "code",
      "metadata": {
        "id": "Ak4bMYJuAde_",
        "colab_type": "code",
        "colab": {}
      },
      "source": [
        ""
      ],
      "execution_count": null,
      "outputs": []
    }
  ]
}