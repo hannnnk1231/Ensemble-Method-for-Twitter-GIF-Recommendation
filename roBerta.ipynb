{
  "nbformat": 4,
  "nbformat_minor": 0,
  "metadata": {
    "colab": {
      "name": "roBerta.ipynb",
      "provenance": [],
      "collapsed_sections": [],
      "toc_visible": true
    },
    "kernelspec": {
      "name": "python3",
      "display_name": "Python 3"
    },
    "accelerator": "GPU",
    "widgets": {
      "application/vnd.jupyter.widget-state+json": {
        "af92766c7d3240e191a1cb451c6997de": {
          "model_module": "@jupyter-widgets/controls",
          "model_name": "HBoxModel",
          "state": {
            "_view_name": "HBoxView",
            "_dom_classes": [],
            "_model_name": "HBoxModel",
            "_view_module": "@jupyter-widgets/controls",
            "_model_module_version": "1.5.0",
            "_view_count": null,
            "_view_module_version": "1.5.0",
            "box_style": "",
            "layout": "IPY_MODEL_457e5022ba39402287fb22614f0de0be",
            "_model_module": "@jupyter-widgets/controls",
            "children": [
              "IPY_MODEL_73d106688dc04d78ab890fc34ccbb66f",
              "IPY_MODEL_7f646f46d50c4421a3ccfbad4d9784b2"
            ]
          }
        },
        "457e5022ba39402287fb22614f0de0be": {
          "model_module": "@jupyter-widgets/base",
          "model_name": "LayoutModel",
          "state": {
            "_view_name": "LayoutView",
            "grid_template_rows": null,
            "right": null,
            "justify_content": null,
            "_view_module": "@jupyter-widgets/base",
            "overflow": null,
            "_model_module_version": "1.2.0",
            "_view_count": null,
            "flex_flow": null,
            "width": null,
            "min_width": null,
            "border": null,
            "align_items": null,
            "bottom": null,
            "_model_module": "@jupyter-widgets/base",
            "top": null,
            "grid_column": null,
            "overflow_y": null,
            "overflow_x": null,
            "grid_auto_flow": null,
            "grid_area": null,
            "grid_template_columns": null,
            "flex": null,
            "_model_name": "LayoutModel",
            "justify_items": null,
            "grid_row": null,
            "max_height": null,
            "align_content": null,
            "visibility": null,
            "align_self": null,
            "height": null,
            "min_height": null,
            "padding": null,
            "grid_auto_rows": null,
            "grid_gap": null,
            "max_width": null,
            "order": null,
            "_view_module_version": "1.2.0",
            "grid_template_areas": null,
            "object_position": null,
            "object_fit": null,
            "grid_auto_columns": null,
            "margin": null,
            "display": null,
            "left": null
          }
        },
        "73d106688dc04d78ab890fc34ccbb66f": {
          "model_module": "@jupyter-widgets/controls",
          "model_name": "FloatProgressModel",
          "state": {
            "_view_name": "ProgressView",
            "style": "IPY_MODEL_b0260ed244a745fc9147af2f44e42173",
            "_dom_classes": [],
            "description": "Downloading: 100%",
            "_model_name": "FloatProgressModel",
            "bar_style": "success",
            "max": 898823,
            "_view_module": "@jupyter-widgets/controls",
            "_model_module_version": "1.5.0",
            "value": 898823,
            "_view_count": null,
            "_view_module_version": "1.5.0",
            "orientation": "horizontal",
            "min": 0,
            "description_tooltip": null,
            "_model_module": "@jupyter-widgets/controls",
            "layout": "IPY_MODEL_11bc915bf1f0488498e104c0c1101ee6"
          }
        },
        "7f646f46d50c4421a3ccfbad4d9784b2": {
          "model_module": "@jupyter-widgets/controls",
          "model_name": "HTMLModel",
          "state": {
            "_view_name": "HTMLView",
            "style": "IPY_MODEL_ae578700aea94bdfa8bcc6b4d6edec4a",
            "_dom_classes": [],
            "description": "",
            "_model_name": "HTMLModel",
            "placeholder": "​",
            "_view_module": "@jupyter-widgets/controls",
            "_model_module_version": "1.5.0",
            "value": " 899k/899k [14:15&lt;00:00, 1.05kB/s]",
            "_view_count": null,
            "_view_module_version": "1.5.0",
            "description_tooltip": null,
            "_model_module": "@jupyter-widgets/controls",
            "layout": "IPY_MODEL_b7467ba8a8994ac2afa32c033330e107"
          }
        },
        "b0260ed244a745fc9147af2f44e42173": {
          "model_module": "@jupyter-widgets/controls",
          "model_name": "ProgressStyleModel",
          "state": {
            "_view_name": "StyleView",
            "_model_name": "ProgressStyleModel",
            "description_width": "initial",
            "_view_module": "@jupyter-widgets/base",
            "_model_module_version": "1.5.0",
            "_view_count": null,
            "_view_module_version": "1.2.0",
            "bar_color": null,
            "_model_module": "@jupyter-widgets/controls"
          }
        },
        "11bc915bf1f0488498e104c0c1101ee6": {
          "model_module": "@jupyter-widgets/base",
          "model_name": "LayoutModel",
          "state": {
            "_view_name": "LayoutView",
            "grid_template_rows": null,
            "right": null,
            "justify_content": null,
            "_view_module": "@jupyter-widgets/base",
            "overflow": null,
            "_model_module_version": "1.2.0",
            "_view_count": null,
            "flex_flow": null,
            "width": null,
            "min_width": null,
            "border": null,
            "align_items": null,
            "bottom": null,
            "_model_module": "@jupyter-widgets/base",
            "top": null,
            "grid_column": null,
            "overflow_y": null,
            "overflow_x": null,
            "grid_auto_flow": null,
            "grid_area": null,
            "grid_template_columns": null,
            "flex": null,
            "_model_name": "LayoutModel",
            "justify_items": null,
            "grid_row": null,
            "max_height": null,
            "align_content": null,
            "visibility": null,
            "align_self": null,
            "height": null,
            "min_height": null,
            "padding": null,
            "grid_auto_rows": null,
            "grid_gap": null,
            "max_width": null,
            "order": null,
            "_view_module_version": "1.2.0",
            "grid_template_areas": null,
            "object_position": null,
            "object_fit": null,
            "grid_auto_columns": null,
            "margin": null,
            "display": null,
            "left": null
          }
        },
        "ae578700aea94bdfa8bcc6b4d6edec4a": {
          "model_module": "@jupyter-widgets/controls",
          "model_name": "DescriptionStyleModel",
          "state": {
            "_view_name": "StyleView",
            "_model_name": "DescriptionStyleModel",
            "description_width": "",
            "_view_module": "@jupyter-widgets/base",
            "_model_module_version": "1.5.0",
            "_view_count": null,
            "_view_module_version": "1.2.0",
            "_model_module": "@jupyter-widgets/controls"
          }
        },
        "b7467ba8a8994ac2afa32c033330e107": {
          "model_module": "@jupyter-widgets/base",
          "model_name": "LayoutModel",
          "state": {
            "_view_name": "LayoutView",
            "grid_template_rows": null,
            "right": null,
            "justify_content": null,
            "_view_module": "@jupyter-widgets/base",
            "overflow": null,
            "_model_module_version": "1.2.0",
            "_view_count": null,
            "flex_flow": null,
            "width": null,
            "min_width": null,
            "border": null,
            "align_items": null,
            "bottom": null,
            "_model_module": "@jupyter-widgets/base",
            "top": null,
            "grid_column": null,
            "overflow_y": null,
            "overflow_x": null,
            "grid_auto_flow": null,
            "grid_area": null,
            "grid_template_columns": null,
            "flex": null,
            "_model_name": "LayoutModel",
            "justify_items": null,
            "grid_row": null,
            "max_height": null,
            "align_content": null,
            "visibility": null,
            "align_self": null,
            "height": null,
            "min_height": null,
            "padding": null,
            "grid_auto_rows": null,
            "grid_gap": null,
            "max_width": null,
            "order": null,
            "_view_module_version": "1.2.0",
            "grid_template_areas": null,
            "object_position": null,
            "object_fit": null,
            "grid_auto_columns": null,
            "margin": null,
            "display": null,
            "left": null
          }
        },
        "ba7d1c19f4634e6394c2ee7ed9cc121b": {
          "model_module": "@jupyter-widgets/controls",
          "model_name": "HBoxModel",
          "state": {
            "_view_name": "HBoxView",
            "_dom_classes": [],
            "_model_name": "HBoxModel",
            "_view_module": "@jupyter-widgets/controls",
            "_model_module_version": "1.5.0",
            "_view_count": null,
            "_view_module_version": "1.5.0",
            "box_style": "",
            "layout": "IPY_MODEL_e0dc3e5714ea4b188959b6c31d0c0e09",
            "_model_module": "@jupyter-widgets/controls",
            "children": [
              "IPY_MODEL_f0a467e33d844b9db6a73af940974562",
              "IPY_MODEL_7bd0392e285940b290b7aa4af8d2f022"
            ]
          }
        },
        "e0dc3e5714ea4b188959b6c31d0c0e09": {
          "model_module": "@jupyter-widgets/base",
          "model_name": "LayoutModel",
          "state": {
            "_view_name": "LayoutView",
            "grid_template_rows": null,
            "right": null,
            "justify_content": null,
            "_view_module": "@jupyter-widgets/base",
            "overflow": null,
            "_model_module_version": "1.2.0",
            "_view_count": null,
            "flex_flow": null,
            "width": null,
            "min_width": null,
            "border": null,
            "align_items": null,
            "bottom": null,
            "_model_module": "@jupyter-widgets/base",
            "top": null,
            "grid_column": null,
            "overflow_y": null,
            "overflow_x": null,
            "grid_auto_flow": null,
            "grid_area": null,
            "grid_template_columns": null,
            "flex": null,
            "_model_name": "LayoutModel",
            "justify_items": null,
            "grid_row": null,
            "max_height": null,
            "align_content": null,
            "visibility": null,
            "align_self": null,
            "height": null,
            "min_height": null,
            "padding": null,
            "grid_auto_rows": null,
            "grid_gap": null,
            "max_width": null,
            "order": null,
            "_view_module_version": "1.2.0",
            "grid_template_areas": null,
            "object_position": null,
            "object_fit": null,
            "grid_auto_columns": null,
            "margin": null,
            "display": null,
            "left": null
          }
        },
        "f0a467e33d844b9db6a73af940974562": {
          "model_module": "@jupyter-widgets/controls",
          "model_name": "FloatProgressModel",
          "state": {
            "_view_name": "ProgressView",
            "style": "IPY_MODEL_81d8c3a0fdba4fbba01dca9f8a72a187",
            "_dom_classes": [],
            "description": "Downloading: 100%",
            "_model_name": "FloatProgressModel",
            "bar_style": "success",
            "max": 456318,
            "_view_module": "@jupyter-widgets/controls",
            "_model_module_version": "1.5.0",
            "value": 456318,
            "_view_count": null,
            "_view_module_version": "1.5.0",
            "orientation": "horizontal",
            "min": 0,
            "description_tooltip": null,
            "_model_module": "@jupyter-widgets/controls",
            "layout": "IPY_MODEL_f299a4f357dd48e5ab667f511621652d"
          }
        },
        "7bd0392e285940b290b7aa4af8d2f022": {
          "model_module": "@jupyter-widgets/controls",
          "model_name": "HTMLModel",
          "state": {
            "_view_name": "HTMLView",
            "style": "IPY_MODEL_df15526ca93e4840b7ab1da42ccd5c76",
            "_dom_classes": [],
            "description": "",
            "_model_name": "HTMLModel",
            "placeholder": "​",
            "_view_module": "@jupyter-widgets/controls",
            "_model_module_version": "1.5.0",
            "value": " 456k/456k [00:00&lt;00:00, 985kB/s]",
            "_view_count": null,
            "_view_module_version": "1.5.0",
            "description_tooltip": null,
            "_model_module": "@jupyter-widgets/controls",
            "layout": "IPY_MODEL_048c05e2b20345caa7a5c0814129a071"
          }
        },
        "81d8c3a0fdba4fbba01dca9f8a72a187": {
          "model_module": "@jupyter-widgets/controls",
          "model_name": "ProgressStyleModel",
          "state": {
            "_view_name": "StyleView",
            "_model_name": "ProgressStyleModel",
            "description_width": "initial",
            "_view_module": "@jupyter-widgets/base",
            "_model_module_version": "1.5.0",
            "_view_count": null,
            "_view_module_version": "1.2.0",
            "bar_color": null,
            "_model_module": "@jupyter-widgets/controls"
          }
        },
        "f299a4f357dd48e5ab667f511621652d": {
          "model_module": "@jupyter-widgets/base",
          "model_name": "LayoutModel",
          "state": {
            "_view_name": "LayoutView",
            "grid_template_rows": null,
            "right": null,
            "justify_content": null,
            "_view_module": "@jupyter-widgets/base",
            "overflow": null,
            "_model_module_version": "1.2.0",
            "_view_count": null,
            "flex_flow": null,
            "width": null,
            "min_width": null,
            "border": null,
            "align_items": null,
            "bottom": null,
            "_model_module": "@jupyter-widgets/base",
            "top": null,
            "grid_column": null,
            "overflow_y": null,
            "overflow_x": null,
            "grid_auto_flow": null,
            "grid_area": null,
            "grid_template_columns": null,
            "flex": null,
            "_model_name": "LayoutModel",
            "justify_items": null,
            "grid_row": null,
            "max_height": null,
            "align_content": null,
            "visibility": null,
            "align_self": null,
            "height": null,
            "min_height": null,
            "padding": null,
            "grid_auto_rows": null,
            "grid_gap": null,
            "max_width": null,
            "order": null,
            "_view_module_version": "1.2.0",
            "grid_template_areas": null,
            "object_position": null,
            "object_fit": null,
            "grid_auto_columns": null,
            "margin": null,
            "display": null,
            "left": null
          }
        },
        "df15526ca93e4840b7ab1da42ccd5c76": {
          "model_module": "@jupyter-widgets/controls",
          "model_name": "DescriptionStyleModel",
          "state": {
            "_view_name": "StyleView",
            "_model_name": "DescriptionStyleModel",
            "description_width": "",
            "_view_module": "@jupyter-widgets/base",
            "_model_module_version": "1.5.0",
            "_view_count": null,
            "_view_module_version": "1.2.0",
            "_model_module": "@jupyter-widgets/controls"
          }
        },
        "048c05e2b20345caa7a5c0814129a071": {
          "model_module": "@jupyter-widgets/base",
          "model_name": "LayoutModel",
          "state": {
            "_view_name": "LayoutView",
            "grid_template_rows": null,
            "right": null,
            "justify_content": null,
            "_view_module": "@jupyter-widgets/base",
            "overflow": null,
            "_model_module_version": "1.2.0",
            "_view_count": null,
            "flex_flow": null,
            "width": null,
            "min_width": null,
            "border": null,
            "align_items": null,
            "bottom": null,
            "_model_module": "@jupyter-widgets/base",
            "top": null,
            "grid_column": null,
            "overflow_y": null,
            "overflow_x": null,
            "grid_auto_flow": null,
            "grid_area": null,
            "grid_template_columns": null,
            "flex": null,
            "_model_name": "LayoutModel",
            "justify_items": null,
            "grid_row": null,
            "max_height": null,
            "align_content": null,
            "visibility": null,
            "align_self": null,
            "height": null,
            "min_height": null,
            "padding": null,
            "grid_auto_rows": null,
            "grid_gap": null,
            "max_width": null,
            "order": null,
            "_view_module_version": "1.2.0",
            "grid_template_areas": null,
            "object_position": null,
            "object_fit": null,
            "grid_auto_columns": null,
            "margin": null,
            "display": null,
            "left": null
          }
        },
        "a994a3ff8be54f9cbe1d27504b8c0478": {
          "model_module": "@jupyter-widgets/controls",
          "model_name": "HBoxModel",
          "state": {
            "_view_name": "HBoxView",
            "_dom_classes": [],
            "_model_name": "HBoxModel",
            "_view_module": "@jupyter-widgets/controls",
            "_model_module_version": "1.5.0",
            "_view_count": null,
            "_view_module_version": "1.5.0",
            "box_style": "",
            "layout": "IPY_MODEL_5d05e31e0e53401da8c268821aadc4af",
            "_model_module": "@jupyter-widgets/controls",
            "children": [
              "IPY_MODEL_c2cf9d7ae3b14f8299a0a49d3eb2242e",
              "IPY_MODEL_f0c33819b87843bc84f003aaccb8f19f"
            ]
          }
        },
        "5d05e31e0e53401da8c268821aadc4af": {
          "model_module": "@jupyter-widgets/base",
          "model_name": "LayoutModel",
          "state": {
            "_view_name": "LayoutView",
            "grid_template_rows": null,
            "right": null,
            "justify_content": null,
            "_view_module": "@jupyter-widgets/base",
            "overflow": null,
            "_model_module_version": "1.2.0",
            "_view_count": null,
            "flex_flow": null,
            "width": null,
            "min_width": null,
            "border": null,
            "align_items": null,
            "bottom": null,
            "_model_module": "@jupyter-widgets/base",
            "top": null,
            "grid_column": null,
            "overflow_y": null,
            "overflow_x": null,
            "grid_auto_flow": null,
            "grid_area": null,
            "grid_template_columns": null,
            "flex": null,
            "_model_name": "LayoutModel",
            "justify_items": null,
            "grid_row": null,
            "max_height": null,
            "align_content": null,
            "visibility": null,
            "align_self": null,
            "height": null,
            "min_height": null,
            "padding": null,
            "grid_auto_rows": null,
            "grid_gap": null,
            "max_width": null,
            "order": null,
            "_view_module_version": "1.2.0",
            "grid_template_areas": null,
            "object_position": null,
            "object_fit": null,
            "grid_auto_columns": null,
            "margin": null,
            "display": null,
            "left": null
          }
        },
        "c2cf9d7ae3b14f8299a0a49d3eb2242e": {
          "model_module": "@jupyter-widgets/controls",
          "model_name": "FloatProgressModel",
          "state": {
            "_view_name": "ProgressView",
            "style": "IPY_MODEL_7942c17ffca2401b86374bdd595c96b2",
            "_dom_classes": [],
            "description": "Downloading: 100%",
            "_model_name": "FloatProgressModel",
            "bar_style": "success",
            "max": 480,
            "_view_module": "@jupyter-widgets/controls",
            "_model_module_version": "1.5.0",
            "value": 480,
            "_view_count": null,
            "_view_module_version": "1.5.0",
            "orientation": "horizontal",
            "min": 0,
            "description_tooltip": null,
            "_model_module": "@jupyter-widgets/controls",
            "layout": "IPY_MODEL_c92b5180a18047ae908c0182635efd91"
          }
        },
        "f0c33819b87843bc84f003aaccb8f19f": {
          "model_module": "@jupyter-widgets/controls",
          "model_name": "HTMLModel",
          "state": {
            "_view_name": "HTMLView",
            "style": "IPY_MODEL_0ce7baa8382c41f280f2a9df9ac828a5",
            "_dom_classes": [],
            "description": "",
            "_model_name": "HTMLModel",
            "placeholder": "​",
            "_view_module": "@jupyter-widgets/controls",
            "_model_module_version": "1.5.0",
            "value": " 480/480 [00:07&lt;00:00, 64.7B/s]",
            "_view_count": null,
            "_view_module_version": "1.5.0",
            "description_tooltip": null,
            "_model_module": "@jupyter-widgets/controls",
            "layout": "IPY_MODEL_e5abd1961c11450680240bd53be57099"
          }
        },
        "7942c17ffca2401b86374bdd595c96b2": {
          "model_module": "@jupyter-widgets/controls",
          "model_name": "ProgressStyleModel",
          "state": {
            "_view_name": "StyleView",
            "_model_name": "ProgressStyleModel",
            "description_width": "initial",
            "_view_module": "@jupyter-widgets/base",
            "_model_module_version": "1.5.0",
            "_view_count": null,
            "_view_module_version": "1.2.0",
            "bar_color": null,
            "_model_module": "@jupyter-widgets/controls"
          }
        },
        "c92b5180a18047ae908c0182635efd91": {
          "model_module": "@jupyter-widgets/base",
          "model_name": "LayoutModel",
          "state": {
            "_view_name": "LayoutView",
            "grid_template_rows": null,
            "right": null,
            "justify_content": null,
            "_view_module": "@jupyter-widgets/base",
            "overflow": null,
            "_model_module_version": "1.2.0",
            "_view_count": null,
            "flex_flow": null,
            "width": null,
            "min_width": null,
            "border": null,
            "align_items": null,
            "bottom": null,
            "_model_module": "@jupyter-widgets/base",
            "top": null,
            "grid_column": null,
            "overflow_y": null,
            "overflow_x": null,
            "grid_auto_flow": null,
            "grid_area": null,
            "grid_template_columns": null,
            "flex": null,
            "_model_name": "LayoutModel",
            "justify_items": null,
            "grid_row": null,
            "max_height": null,
            "align_content": null,
            "visibility": null,
            "align_self": null,
            "height": null,
            "min_height": null,
            "padding": null,
            "grid_auto_rows": null,
            "grid_gap": null,
            "max_width": null,
            "order": null,
            "_view_module_version": "1.2.0",
            "grid_template_areas": null,
            "object_position": null,
            "object_fit": null,
            "grid_auto_columns": null,
            "margin": null,
            "display": null,
            "left": null
          }
        },
        "0ce7baa8382c41f280f2a9df9ac828a5": {
          "model_module": "@jupyter-widgets/controls",
          "model_name": "DescriptionStyleModel",
          "state": {
            "_view_name": "StyleView",
            "_model_name": "DescriptionStyleModel",
            "description_width": "",
            "_view_module": "@jupyter-widgets/base",
            "_model_module_version": "1.5.0",
            "_view_count": null,
            "_view_module_version": "1.2.0",
            "_model_module": "@jupyter-widgets/controls"
          }
        },
        "e5abd1961c11450680240bd53be57099": {
          "model_module": "@jupyter-widgets/base",
          "model_name": "LayoutModel",
          "state": {
            "_view_name": "LayoutView",
            "grid_template_rows": null,
            "right": null,
            "justify_content": null,
            "_view_module": "@jupyter-widgets/base",
            "overflow": null,
            "_model_module_version": "1.2.0",
            "_view_count": null,
            "flex_flow": null,
            "width": null,
            "min_width": null,
            "border": null,
            "align_items": null,
            "bottom": null,
            "_model_module": "@jupyter-widgets/base",
            "top": null,
            "grid_column": null,
            "overflow_y": null,
            "overflow_x": null,
            "grid_auto_flow": null,
            "grid_area": null,
            "grid_template_columns": null,
            "flex": null,
            "_model_name": "LayoutModel",
            "justify_items": null,
            "grid_row": null,
            "max_height": null,
            "align_content": null,
            "visibility": null,
            "align_self": null,
            "height": null,
            "min_height": null,
            "padding": null,
            "grid_auto_rows": null,
            "grid_gap": null,
            "max_width": null,
            "order": null,
            "_view_module_version": "1.2.0",
            "grid_template_areas": null,
            "object_position": null,
            "object_fit": null,
            "grid_auto_columns": null,
            "margin": null,
            "display": null,
            "left": null
          }
        },
        "b2acd6073fd145ab84d201749809a398": {
          "model_module": "@jupyter-widgets/controls",
          "model_name": "HBoxModel",
          "state": {
            "_view_name": "HBoxView",
            "_dom_classes": [],
            "_model_name": "HBoxModel",
            "_view_module": "@jupyter-widgets/controls",
            "_model_module_version": "1.5.0",
            "_view_count": null,
            "_view_module_version": "1.5.0",
            "box_style": "",
            "layout": "IPY_MODEL_4844de6ed3c2491897c1ed94dd2fb0a7",
            "_model_module": "@jupyter-widgets/controls",
            "children": [
              "IPY_MODEL_b2e7bbf46b4944c2aa7c133e99ffa23f",
              "IPY_MODEL_90d7141a66c54def840235a05d3fc85b"
            ]
          }
        },
        "4844de6ed3c2491897c1ed94dd2fb0a7": {
          "model_module": "@jupyter-widgets/base",
          "model_name": "LayoutModel",
          "state": {
            "_view_name": "LayoutView",
            "grid_template_rows": null,
            "right": null,
            "justify_content": null,
            "_view_module": "@jupyter-widgets/base",
            "overflow": null,
            "_model_module_version": "1.2.0",
            "_view_count": null,
            "flex_flow": null,
            "width": null,
            "min_width": null,
            "border": null,
            "align_items": null,
            "bottom": null,
            "_model_module": "@jupyter-widgets/base",
            "top": null,
            "grid_column": null,
            "overflow_y": null,
            "overflow_x": null,
            "grid_auto_flow": null,
            "grid_area": null,
            "grid_template_columns": null,
            "flex": null,
            "_model_name": "LayoutModel",
            "justify_items": null,
            "grid_row": null,
            "max_height": null,
            "align_content": null,
            "visibility": null,
            "align_self": null,
            "height": null,
            "min_height": null,
            "padding": null,
            "grid_auto_rows": null,
            "grid_gap": null,
            "max_width": null,
            "order": null,
            "_view_module_version": "1.2.0",
            "grid_template_areas": null,
            "object_position": null,
            "object_fit": null,
            "grid_auto_columns": null,
            "margin": null,
            "display": null,
            "left": null
          }
        },
        "b2e7bbf46b4944c2aa7c133e99ffa23f": {
          "model_module": "@jupyter-widgets/controls",
          "model_name": "FloatProgressModel",
          "state": {
            "_view_name": "ProgressView",
            "style": "IPY_MODEL_a39757c420364b67aff910ceb69e0d1d",
            "_dom_classes": [],
            "description": "Downloading: 100%",
            "_model_name": "FloatProgressModel",
            "bar_style": "success",
            "max": 487203636,
            "_view_module": "@jupyter-widgets/controls",
            "_model_module_version": "1.5.0",
            "value": 487203636,
            "_view_count": null,
            "_view_module_version": "1.5.0",
            "orientation": "horizontal",
            "min": 0,
            "description_tooltip": null,
            "_model_module": "@jupyter-widgets/controls",
            "layout": "IPY_MODEL_4a88f4eb59ae428ba981cca44c137f43"
          }
        },
        "90d7141a66c54def840235a05d3fc85b": {
          "model_module": "@jupyter-widgets/controls",
          "model_name": "HTMLModel",
          "state": {
            "_view_name": "HTMLView",
            "style": "IPY_MODEL_e38996c565164b2fa5db40f6047f609b",
            "_dom_classes": [],
            "description": "",
            "_model_name": "HTMLModel",
            "placeholder": "​",
            "_view_module": "@jupyter-widgets/controls",
            "_model_module_version": "1.5.0",
            "value": " 487M/487M [00:06&lt;00:00, 73.3MB/s]",
            "_view_count": null,
            "_view_module_version": "1.5.0",
            "description_tooltip": null,
            "_model_module": "@jupyter-widgets/controls",
            "layout": "IPY_MODEL_f32fbf1ad9cd4fcfa91516650bf3db54"
          }
        },
        "a39757c420364b67aff910ceb69e0d1d": {
          "model_module": "@jupyter-widgets/controls",
          "model_name": "ProgressStyleModel",
          "state": {
            "_view_name": "StyleView",
            "_model_name": "ProgressStyleModel",
            "description_width": "initial",
            "_view_module": "@jupyter-widgets/base",
            "_model_module_version": "1.5.0",
            "_view_count": null,
            "_view_module_version": "1.2.0",
            "bar_color": null,
            "_model_module": "@jupyter-widgets/controls"
          }
        },
        "4a88f4eb59ae428ba981cca44c137f43": {
          "model_module": "@jupyter-widgets/base",
          "model_name": "LayoutModel",
          "state": {
            "_view_name": "LayoutView",
            "grid_template_rows": null,
            "right": null,
            "justify_content": null,
            "_view_module": "@jupyter-widgets/base",
            "overflow": null,
            "_model_module_version": "1.2.0",
            "_view_count": null,
            "flex_flow": null,
            "width": null,
            "min_width": null,
            "border": null,
            "align_items": null,
            "bottom": null,
            "_model_module": "@jupyter-widgets/base",
            "top": null,
            "grid_column": null,
            "overflow_y": null,
            "overflow_x": null,
            "grid_auto_flow": null,
            "grid_area": null,
            "grid_template_columns": null,
            "flex": null,
            "_model_name": "LayoutModel",
            "justify_items": null,
            "grid_row": null,
            "max_height": null,
            "align_content": null,
            "visibility": null,
            "align_self": null,
            "height": null,
            "min_height": null,
            "padding": null,
            "grid_auto_rows": null,
            "grid_gap": null,
            "max_width": null,
            "order": null,
            "_view_module_version": "1.2.0",
            "grid_template_areas": null,
            "object_position": null,
            "object_fit": null,
            "grid_auto_columns": null,
            "margin": null,
            "display": null,
            "left": null
          }
        },
        "e38996c565164b2fa5db40f6047f609b": {
          "model_module": "@jupyter-widgets/controls",
          "model_name": "DescriptionStyleModel",
          "state": {
            "_view_name": "StyleView",
            "_model_name": "DescriptionStyleModel",
            "description_width": "",
            "_view_module": "@jupyter-widgets/base",
            "_model_module_version": "1.5.0",
            "_view_count": null,
            "_view_module_version": "1.2.0",
            "_model_module": "@jupyter-widgets/controls"
          }
        },
        "f32fbf1ad9cd4fcfa91516650bf3db54": {
          "model_module": "@jupyter-widgets/base",
          "model_name": "LayoutModel",
          "state": {
            "_view_name": "LayoutView",
            "grid_template_rows": null,
            "right": null,
            "justify_content": null,
            "_view_module": "@jupyter-widgets/base",
            "overflow": null,
            "_model_module_version": "1.2.0",
            "_view_count": null,
            "flex_flow": null,
            "width": null,
            "min_width": null,
            "border": null,
            "align_items": null,
            "bottom": null,
            "_model_module": "@jupyter-widgets/base",
            "top": null,
            "grid_column": null,
            "overflow_y": null,
            "overflow_x": null,
            "grid_auto_flow": null,
            "grid_area": null,
            "grid_template_columns": null,
            "flex": null,
            "_model_name": "LayoutModel",
            "justify_items": null,
            "grid_row": null,
            "max_height": null,
            "align_content": null,
            "visibility": null,
            "align_self": null,
            "height": null,
            "min_height": null,
            "padding": null,
            "grid_auto_rows": null,
            "grid_gap": null,
            "max_width": null,
            "order": null,
            "_view_module_version": "1.2.0",
            "grid_template_areas": null,
            "object_position": null,
            "object_fit": null,
            "grid_auto_columns": null,
            "margin": null,
            "display": null,
            "left": null
          }
        }
      }
    }
  },
  "cells": [
    {
      "cell_type": "code",
      "metadata": {
        "id": "afYXUf-Q0yT1",
        "colab_type": "code",
        "colab": {
          "base_uri": "https://localhost:8080/",
          "height": 34
        },
        "outputId": "c8e84f4a-4cf7-4b1c-acf3-fadbe58ab54f"
      },
      "source": [
        "'''from google.colab import files\n",
        "uploaded = files.upload()'''"
      ],
      "execution_count": 9,
      "outputs": [
        {
          "output_type": "execute_result",
          "data": {
            "text/plain": [
              "'from google.colab import files\\nuploaded = files.upload()'"
            ]
          },
          "metadata": {
            "tags": []
          },
          "execution_count": 9
        }
      ]
    },
    {
      "cell_type": "code",
      "metadata": {
        "id": "OY4tQg9BY8mH",
        "colab_type": "code",
        "colab": {
          "base_uri": "https://localhost:8080/",
          "height": 364
        },
        "outputId": "6e31a8ab-0bee-4577-f005-1f1236acdff1"
      },
      "source": [
        "!nvidia-smi"
      ],
      "execution_count": 10,
      "outputs": [
        {
          "output_type": "stream",
          "text": [
            "Wed Jun 24 00:08:23 2020       \n",
            "+-----------------------------------------------------------------------------+\n",
            "| NVIDIA-SMI 450.36.06    Driver Version: 418.67       CUDA Version: 10.1     |\n",
            "|-------------------------------+----------------------+----------------------+\n",
            "| GPU  Name        Persistence-M| Bus-Id        Disp.A | Volatile Uncorr. ECC |\n",
            "| Fan  Temp  Perf  Pwr:Usage/Cap|         Memory-Usage | GPU-Util  Compute M. |\n",
            "|                               |                      |               MIG M. |\n",
            "|===============================+======================+======================|\n",
            "|   0  Tesla P100-PCIE...  Off  | 00000000:00:04.0 Off |                    0 |\n",
            "| N/A   34C    P0    26W / 250W |      0MiB / 16280MiB |      0%      Default |\n",
            "|                               |                      |                 ERR! |\n",
            "+-------------------------------+----------------------+----------------------+\n",
            "                                                                               \n",
            "+-----------------------------------------------------------------------------+\n",
            "| Processes:                                                                  |\n",
            "|  GPU   GI   CI        PID   Type   Process name                  GPU Memory |\n",
            "|        ID   ID                                                   Usage      |\n",
            "|=============================================================================|\n",
            "|  No running processes found                                                 |\n",
            "+-----------------------------------------------------------------------------+\n"
          ],
          "name": "stdout"
        }
      ]
    },
    {
      "cell_type": "code",
      "metadata": {
        "id": "4KFZbLzFZyOf",
        "colab_type": "code",
        "colab": {}
      },
      "source": [
        "PATH = '/content/drive/My Drive/NLP/'"
      ],
      "execution_count": 11,
      "outputs": []
    },
    {
      "cell_type": "code",
      "metadata": {
        "id": "mRkIKpaN0xT4",
        "colab_type": "code",
        "colab": {
          "base_uri": "https://localhost:8080/",
          "height": 402
        },
        "outputId": "8f865b83-f58d-4403-853f-63b3ae4ac310"
      },
      "source": [
        "import pandas as pd, numpy as np\n",
        "import tensorflow as tf\n",
        "import tensorflow.keras.backend as K\n",
        "from sklearn.model_selection import StratifiedKFold\n",
        "!pip install transformers\n",
        "from transformers import *\n",
        "import tokenizers\n",
        "print('TF version',tf.__version__)\n",
        "import re\n",
        "import math\n",
        "import keras\n",
        "import json\n",
        "!pip install emoji\n",
        "import emoji\n",
        "import string\n",
        "import torch\n",
        "import numpy as np\n",
        "import pandas as pd\n",
        "import seaborn as sns\n",
        "from collections import Counter\n",
        "import matplotlib.pyplot as plt\n",
        "from keras.preprocessing.sequence import pad_sequences"
      ],
      "execution_count": 12,
      "outputs": [
        {
          "output_type": "stream",
          "text": [
            "Requirement already satisfied: transformers in /usr/local/lib/python3.6/dist-packages (2.11.0)\n",
            "Requirement already satisfied: sentencepiece in /usr/local/lib/python3.6/dist-packages (from transformers) (0.1.91)\n",
            "Requirement already satisfied: requests in /usr/local/lib/python3.6/dist-packages (from transformers) (2.23.0)\n",
            "Requirement already satisfied: regex!=2019.12.17 in /usr/local/lib/python3.6/dist-packages (from transformers) (2019.12.20)\n",
            "Requirement already satisfied: dataclasses; python_version < \"3.7\" in /usr/local/lib/python3.6/dist-packages (from transformers) (0.7)\n",
            "Requirement already satisfied: tqdm>=4.27 in /usr/local/lib/python3.6/dist-packages (from transformers) (4.41.1)\n",
            "Requirement already satisfied: sacremoses in /usr/local/lib/python3.6/dist-packages (from transformers) (0.0.43)\n",
            "Requirement already satisfied: numpy in /usr/local/lib/python3.6/dist-packages (from transformers) (1.18.5)\n",
            "Requirement already satisfied: packaging in /usr/local/lib/python3.6/dist-packages (from transformers) (20.4)\n",
            "Requirement already satisfied: filelock in /usr/local/lib/python3.6/dist-packages (from transformers) (3.0.12)\n",
            "Requirement already satisfied: tokenizers==0.7.0 in /usr/local/lib/python3.6/dist-packages (from transformers) (0.7.0)\n",
            "Requirement already satisfied: urllib3!=1.25.0,!=1.25.1,<1.26,>=1.21.1 in /usr/local/lib/python3.6/dist-packages (from requests->transformers) (1.24.3)\n",
            "Requirement already satisfied: chardet<4,>=3.0.2 in /usr/local/lib/python3.6/dist-packages (from requests->transformers) (3.0.4)\n",
            "Requirement already satisfied: idna<3,>=2.5 in /usr/local/lib/python3.6/dist-packages (from requests->transformers) (2.9)\n",
            "Requirement already satisfied: certifi>=2017.4.17 in /usr/local/lib/python3.6/dist-packages (from requests->transformers) (2020.4.5.2)\n",
            "Requirement already satisfied: joblib in /usr/local/lib/python3.6/dist-packages (from sacremoses->transformers) (0.15.1)\n",
            "Requirement already satisfied: six in /usr/local/lib/python3.6/dist-packages (from sacremoses->transformers) (1.12.0)\n",
            "Requirement already satisfied: click in /usr/local/lib/python3.6/dist-packages (from sacremoses->transformers) (7.1.2)\n",
            "Requirement already satisfied: pyparsing>=2.0.2 in /usr/local/lib/python3.6/dist-packages (from packaging->transformers) (2.4.7)\n",
            "TF version 2.2.0\n",
            "Requirement already satisfied: emoji in /usr/local/lib/python3.6/dist-packages (0.5.4)\n"
          ],
          "name": "stdout"
        }
      ]
    },
    {
      "cell_type": "code",
      "metadata": {
        "id": "OTRczysC09AN",
        "colab_type": "code",
        "colab": {}
      },
      "source": [
        "with open(PATH+'categories.json') as f:\n",
        "  categories = json.load(f)\n",
        "\n",
        "tweets = []\n",
        "for line in open(PATH+'train_gold.json', 'r'):\n",
        "    tweets.append(json.loads(line))\n",
        "\n",
        "test = []\n",
        "for line in open(PATH+'test_unlabeled.json', 'r'):\n",
        "    test.append(json.loads(line))\n",
        "    \n",
        "dev = []\n",
        "for line in open(PATH+'dev_unlabeled.json','r'):\n",
        "  dev.append(json.loads(line))"
      ],
      "execution_count": 13,
      "outputs": []
    },
    {
      "cell_type": "code",
      "metadata": {
        "id": "TSYpNsYIc5TM",
        "colab_type": "code",
        "colab": {}
      },
      "source": [
        "f = open(PATH+\"weird.txt\")\n",
        "weird = f.read().splitlines()\n",
        "#print(weird)\n",
        "f.close()"
      ],
      "execution_count": 14,
      "outputs": []
    },
    {
      "cell_type": "code",
      "metadata": {
        "id": "9HKIUowQyIub",
        "colab_type": "code",
        "colab": {
          "base_uri": "https://localhost:8080/",
          "height": 54
        },
        "outputId": "f430aeca-eb73-45ae-cd2b-0e7921b8db12"
      },
      "source": [
        "\"\"\"input_ids = torch.tensor(tokenizer.encode(\"Hello, my dog is cute\", add_special_tokens=True)).unsqueeze(0)  # Batch size 1\n",
        "labels = torch.tensor([1]).unsqueeze(0)  # Batch size 1\n",
        "outputs = model(input_ids, labels=labels)\n",
        "loss, logits = outputs[:2]\n",
        "\n",
        "tokenizer = RobertaTokenizer.from_pretrained('roberta-base')\n",
        "model = RobertaForSequenceClassification.from_pretrained('roberta-base')\n",
        "input_ids = torch.tensor(tokenizer.encode(\"Hello, my dog is cute\", add_special_tokens=True)).unsqueeze(0)  # Batch size 1\n",
        "labels = torch.tensor([1]).unsqueeze(0)  # Batch size 1\n",
        "outputs = model(input_ids, labels=labels)\n",
        "loss, logits = outputs[:2]\"\"\""
      ],
      "execution_count": 15,
      "outputs": [
        {
          "output_type": "execute_result",
          "data": {
            "text/plain": [
              "'input_ids = torch.tensor(tokenizer.encode(\"Hello, my dog is cute\", add_special_tokens=True)).unsqueeze(0)  # Batch size 1\\nlabels = torch.tensor([1]).unsqueeze(0)  # Batch size 1\\noutputs = model(input_ids, labels=labels)\\nloss, logits = outputs[:2]\\n\\ntokenizer = RobertaTokenizer.from_pretrained(\\'roberta-base\\')\\nmodel = RobertaForSequenceClassification.from_pretrained(\\'roberta-base\\')\\ninput_ids = torch.tensor(tokenizer.encode(\"Hello, my dog is cute\", add_special_tokens=True)).unsqueeze(0)  # Batch size 1\\nlabels = torch.tensor([1]).unsqueeze(0)  # Batch size 1\\noutputs = model(input_ids, labels=labels)\\nloss, logits = outputs[:2]'"
            ]
          },
          "metadata": {
            "tags": []
          },
          "execution_count": 15
        }
      ]
    },
    {
      "cell_type": "code",
      "metadata": {
        "id": "wLa0w58p1xkh",
        "colab_type": "code",
        "colab": {}
      },
      "source": [
        "def rule(token):\n",
        "    '''\n",
        "    Remove tokens with\n",
        "    x. stop words  Ex. the, we (Update: only rmv '️')\n",
        "    2. punctuation Ex. !!\n",
        "    3. numbers     Ex. 1kg\n",
        "    4. hashtags    Ex. #NLP\n",
        "    5. tags        Ex. @hannnnk\n",
        "    6. hyper link  Ex. https://...\n",
        "    '''\n",
        "    return True if token not in stopword and \\\n",
        "                   token not in punctuation and \\\n",
        "                   \"\\n\" not in token and \\\n",
        "                   not re.search('\\d+', token) and \\\n",
        "                   not token.startswith('#') and \\\n",
        "                   not token.startswith('@') and \\\n",
        "                   not token.startswith('https:') \\\n",
        "                   else False"
      ],
      "execution_count": 16,
      "outputs": []
    },
    {
      "cell_type": "code",
      "metadata": {
        "id": "6-lezO9u3PND",
        "colab_type": "code",
        "colab": {}
      },
      "source": [
        "def clean(tweet):\n",
        "    tweet = re.sub(r\"what's\", \"what is\", tweet)\n",
        "    tweet = re.sub(r\"we'll\", \"we will\", tweet)\n",
        "    tweet = re.sub(r\"who's\", \"who is\", tweet)\n",
        "    tweet = re.sub(r\"here's\", \"here is\", tweet)\n",
        "    tweet = re.sub(r\"today's\", \"today is\", tweet)\n",
        "    tweet = re.sub(r\"ain't\", \"are not\", tweet)\n",
        "    tweet = re.sub(r\"we've\", \"we have\", tweet)\n",
        "    tweet = re.sub(r\"how's\", \"how is\", tweet)\n",
        "    tweet = re.sub(r\"thet've\", \"they have\", tweet)\n",
        "    tweet = re.sub(r\"it'll\", \"it will\", tweet)\n",
        "    tweet = re.sub(r\"ya'll\", \"you all\", tweet)\n",
        "    tweet = re.sub(r\"i'm\", \"i am\", tweet)\n",
        "    tweet = re.sub(r\"don't\", \"do not\", tweet)\n",
        "    tweet = re.sub(r\"it's\", \"it is\", tweet)\n",
        "    tweet = re.sub(r\"you're\", \"you are\", tweet)\n",
        "    tweet = re.sub(r\"can't\", \"cannot\", tweet)\n",
        "    tweet = re.sub(r\"i've\", \"i have\", tweet)\n",
        "    tweet = re.sub(r\"that's\", \"that is\", tweet)\n",
        "    tweet = re.sub(r\"we're\", \"we are\", tweet)\n",
        "    tweet = re.sub(r\"i'll\", \"I will\", tweet)\n",
        "    tweet = re.sub(r\"he's\", \"he is\", tweet)\n",
        "    tweet = re.sub(r\"let's\", \"let us\", tweet)\n",
        "    tweet = re.sub(r\"didn't\", \"did not\", tweet)\n",
        "    tweet = re.sub(r\"y'all\", \"you all\", tweet)\n",
        "    tweet = re.sub(r\"doesn't\", \"does not\", tweet)\n",
        "    tweet = re.sub(r\"i'd\", \"I would\", tweet)\n",
        "    tweet = re.sub(r\"who-the-hell-even-knows-anymore\", \"who the hell even knows anymore\", tweet)\n",
        "    tweet = re.sub(r\"there's\", \"there is\", tweet)\n",
        "    tweet = re.sub(r\"isn't\", \"is not\", tweet)\n",
        "    tweet = re.sub(r\"won't\", \"will not\", tweet)\n",
        "    tweet = re.sub(r\"they're\", \"they are\", tweet)\n",
        "    tweet = re.sub(r\"haven't\", \"have not\", tweet)\n",
        "    tweet = re.sub(r\"couldn't\", \"could not\", tweet)\n",
        "    tweet = re.sub(r\"she's\", \"she is\", tweet)\n",
        "    tweet = re.sub(r\"aren't\", \"are not\", tweet)\n",
        "    tweet = re.sub(r\"you've\", \"you have\", tweet)\n",
        "    tweet = re.sub(r\"you'll\", \"you will\", tweet)\n",
        "    tweet = re.sub(r\"wouldn't\", \"would not\", tweet)\n",
        "    tweet = re.sub(r\"wasn't\", \"was not\", tweet)\n",
        "    tweet = re.sub(r\"shouldn't\", \"shoud not\", tweet)  \n",
        "    tweet = re.sub(r\"they'll\", \"they will\", tweet)\n",
        "    tweet = re.sub(r\"weren't\", \"were not\", tweet)\n",
        "    tweet = re.sub(r\"you'd\", \"you had\", tweet)\n",
        "    tweet = re.sub(r\"they've\", \"they have\", tweet)\n",
        "    tweet = re.sub(r\"no-excuse\", \"no excuse\", tweet)\n",
        "    tweet = re.sub(r\"vote-by-mail\", \"vote by mail\", tweet)\n",
        "    tweet = re.sub(r\"votesafe\", \"vote safe\", tweet)\n",
        "    tweet = re.sub(r\"lmaoooo\", \"laugh my ass off\", tweet)\n",
        "    tweet = re.sub(r\"we'd\", \"we had\", tweet)\n",
        "    tweet = re.sub(r\"he'll\", \"he will\", tweet)\n",
        "    tweet = re.sub(r\"he'd\", \"he had\", tweet)\n",
        "    tweet = re.sub(r\"would've\", \"would have\", tweet)\n",
        "    tweet = re.sub(r\"hadn't\", \"had not\", tweet)\n",
        "    tweet = re.sub(r\"diefrom\", \"die from\", tweet)\n",
        "    tweet = re.sub(r\"dababy\", \"rapper\", tweet)\n",
        "    tweet = re.sub(r\"hasn't\", \"has not\", tweet)\n",
        "    tweet = re.sub(r\"testing-based\", \"testing based\", tweet)\n",
        "    tweet = re.sub(r\"that'll\", \"that will\", tweet)\n",
        "    tweet = re.sub(r\"should've\", \"should have\", tweet)\n",
        "    tweet = re.sub(r\"cashapp\", \"cash app\", tweet)\n",
        "    tweet = re.sub(r\"brexit-induced\", \"brexit induced\", tweet)\n",
        "    tweet = re.sub(r\"president-hating\", \"president hating\", tweet)\n",
        "    tweet = re.sub(r\"picked-over\", \"picked over\", tweet)\n",
        "    \n",
        "    tweet = re.sub(r\"what’s\", \"what is\", tweet)\n",
        "    tweet = re.sub(r\"we’ll\", \"we will\", tweet)\n",
        "    tweet = re.sub(r\"who’s\", \"who is\", tweet)\n",
        "    tweet = re.sub(r\"here’s\", \"here is\", tweet)\n",
        "    tweet = re.sub(r\"today’s\", \"today is\", tweet)\n",
        "    tweet = re.sub(r\"ain’t\", \"are not\", tweet)\n",
        "    tweet = re.sub(r\"we’ve\", \"we have\", tweet)\n",
        "    tweet = re.sub(r\"how’s\", \"how is\", tweet)\n",
        "    tweet = re.sub(r\"thet’ve\", \"they have\", tweet)\n",
        "    tweet = re.sub(r\"it’ll\", \"it will\", tweet)\n",
        "    tweet = re.sub(r\"ya’ll\", \"you all\", tweet)\n",
        "    tweet = re.sub(r\"i’m\", \"i am\", tweet)\n",
        "    tweet = re.sub(r\"don’t\", \"do not\", tweet)\n",
        "    tweet = re.sub(r\"it’s\", \"it is\", tweet)\n",
        "    tweet = re.sub(r\"you’re\", \"you are\", tweet)\n",
        "    tweet = re.sub(r\"can’t\", \"cannot\", tweet)\n",
        "    tweet = re.sub(r\"i’ve\", \"i have\", tweet)\n",
        "    tweet = re.sub(r\"that’s\", \"that is\", tweet)\n",
        "    tweet = re.sub(r\"we’re\", \"we are\", tweet)\n",
        "    tweet = re.sub(r\"i’ll\", \"I will\", tweet)\n",
        "    tweet = re.sub(r\"he’s\", \"he is\", tweet)\n",
        "    tweet = re.sub(r\"let’s\", \"let us\", tweet)\n",
        "    tweet = re.sub(r\"didn’t\", \"did not\", tweet)\n",
        "    tweet = re.sub(r\"y’all\", \"you all\", tweet)\n",
        "    tweet = re.sub(r\"doesn’t\", \"does not\", tweet)\n",
        "    tweet = re.sub(r\"i’d\", \"I would\", tweet)\n",
        "    tweet = re.sub(r\"there’s\", \"there is\", tweet)\n",
        "    tweet = re.sub(r\"isn’t\", \"is not\", tweet)\n",
        "    tweet = re.sub(r\"won’t\", \"will not\", tweet)\n",
        "    tweet = re.sub(r\"they’re\", \"they are\", tweet)\n",
        "    tweet = re.sub(r\"haven’t\", \"have not\", tweet)\n",
        "    tweet = re.sub(r\"couldn’t\", \"could not\", tweet)\n",
        "    tweet = re.sub(r\"she’s\", \"she is\", tweet)\n",
        "    tweet = re.sub(r\"aren’t\", \"are not\", tweet)\n",
        "    tweet = re.sub(r\"you’ve\", \"you have\", tweet)\n",
        "    tweet = re.sub(r\"you’ll\", \"you will\", tweet)\n",
        "    tweet = re.sub(r\"wouldn’t\", \"would not\", tweet)\n",
        "    tweet = re.sub(r\"wasn’t\", \"was not\", tweet)\n",
        "    tweet = re.sub(r\"shouldn’t\", \"shoud not\", tweet)\n",
        "    tweet = re.sub(r\"they’ll\", \"they will\", tweet)\n",
        "    tweet = re.sub(r\"weren’t\", \"were not\", tweet)\n",
        "    tweet = re.sub(r\"you’d\", \"you had\", tweet)\n",
        "    tweet = re.sub(r\"they’ve\", \"they have\", tweet)\n",
        "    tweet = re.sub(r\"we’d\", \"we had\", tweet)\n",
        "    tweet = re.sub(r\"he’ll\", \"he will\", tweet)\n",
        "    tweet = re.sub(r\"he’d\", \"he had\", tweet)\n",
        "    tweet = re.sub(r\"would’ve\", \"would have\", tweet)\n",
        "    tweet = re.sub(r\"hadn’t\", \"had not\", tweet)\n",
        "    tweet = re.sub(r\"hasn’t\", \"has not\", tweet)\n",
        "    tweet = re.sub(r\"that’ll\", \"that will\", tweet)\n",
        "    tweet = re.sub(r\"should’ve\", \"should have\", tweet)\n",
        "    \n",
        "    return tweet"
      ],
      "execution_count": 17,
      "outputs": []
    },
    {
      "cell_type": "code",
      "metadata": {
        "id": "lq5oQvWA5geK",
        "colab_type": "code",
        "colab": {}
      },
      "source": [
        "import nltk\n",
        "from nltk.tokenize import TweetTokenizer\n",
        "from nltk.corpus import stopwords\n",
        "from nltk.stem import PorterStemmer\n",
        "tknzr = TweetTokenizer()"
      ],
      "execution_count": 18,
      "outputs": []
    },
    {
      "cell_type": "code",
      "metadata": {
        "id": "_o1IK7445r-I",
        "colab_type": "code",
        "colab": {}
      },
      "source": [
        "stopword = ['️']\n",
        "punctuation = string.punctuation+'“’”...—…‼‘'"
      ],
      "execution_count": 19,
      "outputs": []
    },
    {
      "cell_type": "code",
      "metadata": {
        "id": "dzwr5zBm3-81",
        "colab_type": "code",
        "colab": {}
      },
      "source": [
        "for t in tweets:\n",
        "    t['text'] = clean(t['text'].lower())\n",
        "    t['reply'] = clean(t['reply'].lower())\n",
        "for t in dev:\n",
        "    t['text'] = clean(t['text'].lower())\n",
        "    t['reply'] = clean(t['reply'].lower())\n",
        "for t in test:\n",
        "    t['text'] = clean(t['text'].lower())\n",
        "    t['reply'] = clean(t['reply'].lower())"
      ],
      "execution_count": 20,
      "outputs": []
    },
    {
      "cell_type": "code",
      "metadata": {
        "id": "1dRGLcS-4yvN",
        "colab_type": "code",
        "colab": {}
      },
      "source": [
        "for t in tweets:\n",
        "    temp = [token.lower() for token in tknzr.tokenize(t['text']) if rule(token.lower())]\n",
        "    temp2 = [token.lower() for token in tknzr.tokenize(t['reply']) if rule(token.lower())]\n",
        "\n",
        "    t['text_clean'] = temp\n",
        "    t['reply_clean'] = temp2\n",
        "\n",
        "for t in dev:\n",
        "    temp = [token.lower() for token in tknzr.tokenize(t['text']) if rule(token.lower())]\n",
        "    temp2 = [token.lower() for token in tknzr.tokenize(t['reply']) if rule(token.lower())]\n",
        "\n",
        "    t['text_clean'] = temp\n",
        "    t['reply_clean'] = temp2\n",
        "    \n",
        "for t in test:\n",
        "    temp = [token.lower() for token in tknzr.tokenize(t['text']) if rule(token.lower())]\n",
        "    temp2 = [token.lower() for token in tknzr.tokenize(t['reply']) if rule(token.lower())]\n",
        "\n",
        "    t['text_clean'] = temp\n",
        "    t['reply_clean'] = temp2"
      ],
      "execution_count": 21,
      "outputs": []
    },
    {
      "cell_type": "code",
      "metadata": {
        "id": "-3lI5gCo6MIk",
        "colab_type": "code",
        "colab": {}
      },
      "source": [
        "'''\n",
        "Deal with special words for embedding such as\n",
        "covid  (806) → coronavirus\n",
        "'''\n",
        "special = {\n",
        "    'covid':'coronavirus',\n",
        "    \"ventilators\":\"ventilator\",\n",
        "    \"virologist\":'virology',\n",
        "    'fauci':'physician',\n",
        "    \"onlyfans\":\"app\",\n",
        "    \"fortnite\":\"game\",\n",
        "    \"valorant\":\"game\",\n",
        "    \"jeudy\":\"athlete\",\n",
        "    \"ruggs\":\"athlete\",\n",
        "    \"tagovailoa\":\"athlete\",\n",
        "    \"rashford\":\"athlete\",\n",
        "    \"birx\":\"doctor\",\n",
        "    \"blaqbonez\":\"rapper\",\n",
        "    'mcsally':\"politician\",\n",
        "    \"intubated\":\"intubation\",\n",
        "    \"hydroxychloroquine\":\"medication\",\n",
        "    \"today's\":\"today\",\n",
        "    \"pubg\":\"game\",\n",
        "    \"government's\":'government',\n",
        "    \"man's\":'man',\n",
        "    \"someone's\":'someone',\n",
        "    \"country's\":'country',\n",
        "    \"everyone's\":'everyone',\n",
        "    \"people's\":'people',\n",
        "    \"club's\":'club',\n",
        "    \"china's\":'china',\n",
        "    \"america's\":'america',\n",
        "    \"world's\":'world',\n",
        "    \"life's\":'life',\n",
        "    \"earth's\":'earth',\n",
        "    \"mom's\":'mom',\n",
        "    '<3':'❤',\n",
        "    ':)':\"🙂\",\n",
        "    \":(\":\"😞\",\n",
        "    \"):\":\"😞\",\n",
        "    \":/\":\"😕\",\n",
        "    \"pre-covid\":'coronavirus',\n",
        "    \"strategise\":\"strategies\",\n",
        "    'stratagy':'strategy',\n",
        "    \"strategiser\":\"strategy\",\n",
        "    \"stratagised\":\"strategy\",\n",
        "    'ohhhh':\"ohhh\",\n",
        "    'yesssss':\"yes\",\n",
        "    'youuu':'you',\n",
        "    'sirrr':'sir',\n",
        "    'ohhhhh':'ohhh',\n",
        "    'youuuu':'you',\n",
        "    'lmaooooo':'lamo',\n",
        "    'guysss':'guys',\n",
        "    'meeeee':'me',\n",
        "    'yessss':'yes',\n",
        "    'lieeeeeee':'lie',\n",
        "    'youuuuu':'you',\n",
        "    'yesssssss':'yes',\n",
        "    'lollll':'lol',\n",
        "    'plzzzz':'plz',\n",
        "    'enddddddd':'end',\n",
        "}"
      ],
      "execution_count": 22,
      "outputs": []
    },
    {
      "cell_type": "code",
      "metadata": {
        "id": "nBsGF4vX4GSo",
        "colab_type": "code",
        "colab": {}
      },
      "source": [
        "emoji_remain_text = ['😭','❤','👏','😊','😔','🙏','🙃','💜','👍','🙌','😁','🤗','💔','☹','😎','😢','💛','💖','💰','💯','💗','💪','😞','😣',\"🙂\",\"😞\",\"😕\"]\n",
        "emoji_remain_reply = ['❤','🙏','😭','👏','💜','👍','🤗','💕','💖','😘','💙','♥','💞','🙌','💗','😉','💛','🤦','💓','🖤','🙄','💯','☺','💃','🎉','😔','💚','💔','✨','😢','🌹',\"🙂\",\"😞\",\"😕\"]"
      ],
      "execution_count": 23,
      "outputs": []
    },
    {
      "cell_type": "code",
      "metadata": {
        "id": "vSjcNiSd6c8h",
        "colab_type": "code",
        "colab": {}
      },
      "source": [
        "def rule_emoji_text(token, emoji_remain):\n",
        "    if len(token)==1:\n",
        "        if ord(token)>122:\n",
        "            if token not in emoji_remain:\n",
        "              return False\n",
        "    return True"
      ],
      "execution_count": 24,
      "outputs": []
    },
    {
      "cell_type": "code",
      "metadata": {
        "id": "I7JIDf5p6ZY3",
        "colab_type": "code",
        "colab": {
          "base_uri": "https://localhost:8080/",
          "height": 1000
        },
        "outputId": "a8104a46-d57d-4738-8b9e-96e40304fff4"
      },
      "source": [
        "tokens = Counter()\n",
        "tokens2 = Counter()\n",
        "for t in tweets:\n",
        "    temp = [token for token in t['text_clean'] if rule_emoji_text(token,emoji_remain_text)]\n",
        "    t['text_clean'] = temp\n",
        "    tokens.update(temp)\n",
        "    temp2 = [token for token in t['reply_clean'] if rule_emoji_text(token,emoji_remain_reply)]\n",
        "    for idx,token in enumerate(temp2):\n",
        "        if token == '🥺':\n",
        "            temp2[idx] = '❤'\n",
        "    t['reply_clean'] = temp2\n",
        "    tokens2.update(temp2)\n",
        "    \n",
        "temp = pd.DataFrame(tokens.most_common(30))\n",
        "temp.columns = ['tokens_main','count']\n",
        "display(temp.style.background_gradient(cmap='Blues'))\n",
        "temp2 = pd.DataFrame(tokens2.most_common(30))\n",
        "temp2.columns = ['tokens_reply','count']\n",
        "display(temp2.style.background_gradient(cmap='Reds'))\n",
        "\n",
        "for t in dev:\n",
        "    temp = [token for token in t['text_clean'] if rule_emoji_text(token,emoji_remain_text)]\n",
        "    t['text_clean'] = temp\n",
        "    temp2 = [token for token in t['reply_clean'] if rule_emoji_text(token,emoji_remain_reply)]\n",
        "    for idx,token in enumerate(temp2):\n",
        "        if token == '🥺':\n",
        "            temp2[idx] = '❤'\n",
        "    t['reply_clean'] = temp2\n",
        "    \n",
        "for t in test:\n",
        "    temp = [token for token in t['text_clean'] if rule_emoji_text(token,emoji_remain_text)]\n",
        "    t['text_clean'] = temp\n",
        "    temp2 = [token for token in t['reply_clean'] if rule_emoji_text(token,emoji_remain_reply)]\n",
        "    for idx,token in enumerate(temp2):\n",
        "        if token == '🥺':\n",
        "            temp2[idx] = '❤'\n",
        "    t['reply_clean'] = temp2"
      ],
      "execution_count": 25,
      "outputs": [
        {
          "output_type": "display_data",
          "data": {
            "text/html": [
              "<style  type=\"text/css\" >\n",
              "    #T_e0b8274e_b5ae_11ea_921d_0242ac1c0002row0_col1 {\n",
              "            background-color:  #08306b;\n",
              "            color:  #f1f1f1;\n",
              "        }    #T_e0b8274e_b5ae_11ea_921d_0242ac1c0002row1_col1 {\n",
              "            background-color:  #1562a9;\n",
              "            color:  #f1f1f1;\n",
              "        }    #T_e0b8274e_b5ae_11ea_921d_0242ac1c0002row2_col1 {\n",
              "            background-color:  #2777b8;\n",
              "            color:  #000000;\n",
              "        }    #T_e0b8274e_b5ae_11ea_921d_0242ac1c0002row3_col1 {\n",
              "            background-color:  #4896c8;\n",
              "            color:  #000000;\n",
              "        }    #T_e0b8274e_b5ae_11ea_921d_0242ac1c0002row4_col1 {\n",
              "            background-color:  #75b4d8;\n",
              "            color:  #000000;\n",
              "        }    #T_e0b8274e_b5ae_11ea_921d_0242ac1c0002row5_col1 {\n",
              "            background-color:  #77b5d9;\n",
              "            color:  #000000;\n",
              "        }    #T_e0b8274e_b5ae_11ea_921d_0242ac1c0002row6_col1 {\n",
              "            background-color:  #85bcdc;\n",
              "            color:  #000000;\n",
              "        }    #T_e0b8274e_b5ae_11ea_921d_0242ac1c0002row7_col1 {\n",
              "            background-color:  #b5d4e9;\n",
              "            color:  #000000;\n",
              "        }    #T_e0b8274e_b5ae_11ea_921d_0242ac1c0002row8_col1 {\n",
              "            background-color:  #cadef0;\n",
              "            color:  #000000;\n",
              "        }    #T_e0b8274e_b5ae_11ea_921d_0242ac1c0002row9_col1 {\n",
              "            background-color:  #ccdff1;\n",
              "            color:  #000000;\n",
              "        }    #T_e0b8274e_b5ae_11ea_921d_0242ac1c0002row10_col1 {\n",
              "            background-color:  #cee0f2;\n",
              "            color:  #000000;\n",
              "        }    #T_e0b8274e_b5ae_11ea_921d_0242ac1c0002row11_col1 {\n",
              "            background-color:  #cfe1f2;\n",
              "            color:  #000000;\n",
              "        }    #T_e0b8274e_b5ae_11ea_921d_0242ac1c0002row12_col1 {\n",
              "            background-color:  #d3e3f3;\n",
              "            color:  #000000;\n",
              "        }    #T_e0b8274e_b5ae_11ea_921d_0242ac1c0002row13_col1 {\n",
              "            background-color:  #dae8f6;\n",
              "            color:  #000000;\n",
              "        }    #T_e0b8274e_b5ae_11ea_921d_0242ac1c0002row14_col1 {\n",
              "            background-color:  #ddeaf7;\n",
              "            color:  #000000;\n",
              "        }    #T_e0b8274e_b5ae_11ea_921d_0242ac1c0002row15_col1 {\n",
              "            background-color:  #e3eef8;\n",
              "            color:  #000000;\n",
              "        }    #T_e0b8274e_b5ae_11ea_921d_0242ac1c0002row16_col1 {\n",
              "            background-color:  #e3eef8;\n",
              "            color:  #000000;\n",
              "        }    #T_e0b8274e_b5ae_11ea_921d_0242ac1c0002row17_col1 {\n",
              "            background-color:  #e3eef9;\n",
              "            color:  #000000;\n",
              "        }    #T_e0b8274e_b5ae_11ea_921d_0242ac1c0002row18_col1 {\n",
              "            background-color:  #e7f1fa;\n",
              "            color:  #000000;\n",
              "        }    #T_e0b8274e_b5ae_11ea_921d_0242ac1c0002row19_col1 {\n",
              "            background-color:  #e9f2fa;\n",
              "            color:  #000000;\n",
              "        }    #T_e0b8274e_b5ae_11ea_921d_0242ac1c0002row20_col1 {\n",
              "            background-color:  #ebf3fb;\n",
              "            color:  #000000;\n",
              "        }    #T_e0b8274e_b5ae_11ea_921d_0242ac1c0002row21_col1 {\n",
              "            background-color:  #eef5fc;\n",
              "            color:  #000000;\n",
              "        }    #T_e0b8274e_b5ae_11ea_921d_0242ac1c0002row22_col1 {\n",
              "            background-color:  #f2f7fd;\n",
              "            color:  #000000;\n",
              "        }    #T_e0b8274e_b5ae_11ea_921d_0242ac1c0002row23_col1 {\n",
              "            background-color:  #f3f8fe;\n",
              "            color:  #000000;\n",
              "        }    #T_e0b8274e_b5ae_11ea_921d_0242ac1c0002row24_col1 {\n",
              "            background-color:  #f4f9fe;\n",
              "            color:  #000000;\n",
              "        }    #T_e0b8274e_b5ae_11ea_921d_0242ac1c0002row25_col1 {\n",
              "            background-color:  #f4f9fe;\n",
              "            color:  #000000;\n",
              "        }    #T_e0b8274e_b5ae_11ea_921d_0242ac1c0002row26_col1 {\n",
              "            background-color:  #f5f9fe;\n",
              "            color:  #000000;\n",
              "        }    #T_e0b8274e_b5ae_11ea_921d_0242ac1c0002row27_col1 {\n",
              "            background-color:  #f7fbff;\n",
              "            color:  #000000;\n",
              "        }    #T_e0b8274e_b5ae_11ea_921d_0242ac1c0002row28_col1 {\n",
              "            background-color:  #f7fbff;\n",
              "            color:  #000000;\n",
              "        }    #T_e0b8274e_b5ae_11ea_921d_0242ac1c0002row29_col1 {\n",
              "            background-color:  #f7fbff;\n",
              "            color:  #000000;\n",
              "        }</style><table id=\"T_e0b8274e_b5ae_11ea_921d_0242ac1c0002\" ><thead>    <tr>        <th class=\"blank level0\" ></th>        <th class=\"col_heading level0 col0\" >tokens_main</th>        <th class=\"col_heading level0 col1\" >count</th>    </tr></thead><tbody>\n",
              "                <tr>\n",
              "                        <th id=\"T_e0b8274e_b5ae_11ea_921d_0242ac1c0002level0_row0\" class=\"row_heading level0 row0\" >0</th>\n",
              "                        <td id=\"T_e0b8274e_b5ae_11ea_921d_0242ac1c0002row0_col0\" class=\"data row0 col0\" >i</td>\n",
              "                        <td id=\"T_e0b8274e_b5ae_11ea_921d_0242ac1c0002row0_col1\" class=\"data row0 col1\" >22433</td>\n",
              "            </tr>\n",
              "            <tr>\n",
              "                        <th id=\"T_e0b8274e_b5ae_11ea_921d_0242ac1c0002level0_row1\" class=\"row_heading level0 row1\" >1</th>\n",
              "                        <td id=\"T_e0b8274e_b5ae_11ea_921d_0242ac1c0002row1_col0\" class=\"data row1 col0\" >the</td>\n",
              "                        <td id=\"T_e0b8274e_b5ae_11ea_921d_0242ac1c0002row1_col1\" class=\"data row1 col1\" >18746</td>\n",
              "            </tr>\n",
              "            <tr>\n",
              "                        <th id=\"T_e0b8274e_b5ae_11ea_921d_0242ac1c0002level0_row2\" class=\"row_heading level0 row2\" >2</th>\n",
              "                        <td id=\"T_e0b8274e_b5ae_11ea_921d_0242ac1c0002row2_col0\" class=\"data row2 col0\" >to</td>\n",
              "                        <td id=\"T_e0b8274e_b5ae_11ea_921d_0242ac1c0002row2_col1\" class=\"data row2 col1\" >17175</td>\n",
              "            </tr>\n",
              "            <tr>\n",
              "                        <th id=\"T_e0b8274e_b5ae_11ea_921d_0242ac1c0002level0_row3\" class=\"row_heading level0 row3\" >3</th>\n",
              "                        <td id=\"T_e0b8274e_b5ae_11ea_921d_0242ac1c0002row3_col0\" class=\"data row3 col0\" >a</td>\n",
              "                        <td id=\"T_e0b8274e_b5ae_11ea_921d_0242ac1c0002row3_col1\" class=\"data row3 col1\" >14900</td>\n",
              "            </tr>\n",
              "            <tr>\n",
              "                        <th id=\"T_e0b8274e_b5ae_11ea_921d_0242ac1c0002level0_row4\" class=\"row_heading level0 row4\" >4</th>\n",
              "                        <td id=\"T_e0b8274e_b5ae_11ea_921d_0242ac1c0002row4_col0\" class=\"data row4 col0\" >and</td>\n",
              "                        <td id=\"T_e0b8274e_b5ae_11ea_921d_0242ac1c0002row4_col1\" class=\"data row4 col1\" >12369</td>\n",
              "            </tr>\n",
              "            <tr>\n",
              "                        <th id=\"T_e0b8274e_b5ae_11ea_921d_0242ac1c0002level0_row5\" class=\"row_heading level0 row5\" >5</th>\n",
              "                        <td id=\"T_e0b8274e_b5ae_11ea_921d_0242ac1c0002row5_col0\" class=\"data row5 col0\" >is</td>\n",
              "                        <td id=\"T_e0b8274e_b5ae_11ea_921d_0242ac1c0002row5_col1\" class=\"data row5 col1\" >12307</td>\n",
              "            </tr>\n",
              "            <tr>\n",
              "                        <th id=\"T_e0b8274e_b5ae_11ea_921d_0242ac1c0002level0_row6\" class=\"row_heading level0 row6\" >6</th>\n",
              "                        <td id=\"T_e0b8274e_b5ae_11ea_921d_0242ac1c0002row6_col0\" class=\"data row6 col0\" >you</td>\n",
              "                        <td id=\"T_e0b8274e_b5ae_11ea_921d_0242ac1c0002row6_col1\" class=\"data row6 col1\" >11669</td>\n",
              "            </tr>\n",
              "            <tr>\n",
              "                        <th id=\"T_e0b8274e_b5ae_11ea_921d_0242ac1c0002level0_row7\" class=\"row_heading level0 row7\" >7</th>\n",
              "                        <td id=\"T_e0b8274e_b5ae_11ea_921d_0242ac1c0002row7_col0\" class=\"data row7 col0\" >of</td>\n",
              "                        <td id=\"T_e0b8274e_b5ae_11ea_921d_0242ac1c0002row7_col1\" class=\"data row7 col1\" >9100</td>\n",
              "            </tr>\n",
              "            <tr>\n",
              "                        <th id=\"T_e0b8274e_b5ae_11ea_921d_0242ac1c0002level0_row8\" class=\"row_heading level0 row8\" >8</th>\n",
              "                        <td id=\"T_e0b8274e_b5ae_11ea_921d_0242ac1c0002row8_col0\" class=\"data row8 col0\" >my</td>\n",
              "                        <td id=\"T_e0b8274e_b5ae_11ea_921d_0242ac1c0002row8_col1\" class=\"data row8 col1\" >7713</td>\n",
              "            </tr>\n",
              "            <tr>\n",
              "                        <th id=\"T_e0b8274e_b5ae_11ea_921d_0242ac1c0002level0_row9\" class=\"row_heading level0 row9\" >9</th>\n",
              "                        <td id=\"T_e0b8274e_b5ae_11ea_921d_0242ac1c0002row9_col0\" class=\"data row9 col0\" >in</td>\n",
              "                        <td id=\"T_e0b8274e_b5ae_11ea_921d_0242ac1c0002row9_col1\" class=\"data row9 col1\" >7540</td>\n",
              "            </tr>\n",
              "            <tr>\n",
              "                        <th id=\"T_e0b8274e_b5ae_11ea_921d_0242ac1c0002level0_row10\" class=\"row_heading level0 row10\" >10</th>\n",
              "                        <td id=\"T_e0b8274e_b5ae_11ea_921d_0242ac1c0002row10_col0\" class=\"data row10 col0\" >it</td>\n",
              "                        <td id=\"T_e0b8274e_b5ae_11ea_921d_0242ac1c0002row10_col1\" class=\"data row10 col1\" >7355</td>\n",
              "            </tr>\n",
              "            <tr>\n",
              "                        <th id=\"T_e0b8274e_b5ae_11ea_921d_0242ac1c0002level0_row11\" class=\"row_heading level0 row11\" >11</th>\n",
              "                        <td id=\"T_e0b8274e_b5ae_11ea_921d_0242ac1c0002row11_col0\" class=\"data row11 col0\" >not</td>\n",
              "                        <td id=\"T_e0b8274e_b5ae_11ea_921d_0242ac1c0002row11_col1\" class=\"data row11 col1\" >7269</td>\n",
              "            </tr>\n",
              "            <tr>\n",
              "                        <th id=\"T_e0b8274e_b5ae_11ea_921d_0242ac1c0002level0_row12\" class=\"row_heading level0 row12\" >12</th>\n",
              "                        <td id=\"T_e0b8274e_b5ae_11ea_921d_0242ac1c0002row12_col0\" class=\"data row12 col0\" >for</td>\n",
              "                        <td id=\"T_e0b8274e_b5ae_11ea_921d_0242ac1c0002row12_col1\" class=\"data row12 col1\" >6855</td>\n",
              "            </tr>\n",
              "            <tr>\n",
              "                        <th id=\"T_e0b8274e_b5ae_11ea_921d_0242ac1c0002level0_row13\" class=\"row_heading level0 row13\" >13</th>\n",
              "                        <td id=\"T_e0b8274e_b5ae_11ea_921d_0242ac1c0002row13_col0\" class=\"data row13 col0\" >that</td>\n",
              "                        <td id=\"T_e0b8274e_b5ae_11ea_921d_0242ac1c0002row13_col1\" class=\"data row13 col1\" >6095</td>\n",
              "            </tr>\n",
              "            <tr>\n",
              "                        <th id=\"T_e0b8274e_b5ae_11ea_921d_0242ac1c0002level0_row14\" class=\"row_heading level0 row14\" >14</th>\n",
              "                        <td id=\"T_e0b8274e_b5ae_11ea_921d_0242ac1c0002row14_col0\" class=\"data row14 col0\" >are</td>\n",
              "                        <td id=\"T_e0b8274e_b5ae_11ea_921d_0242ac1c0002row14_col1\" class=\"data row14 col1\" >5793</td>\n",
              "            </tr>\n",
              "            <tr>\n",
              "                        <th id=\"T_e0b8274e_b5ae_11ea_921d_0242ac1c0002level0_row15\" class=\"row_heading level0 row15\" >15</th>\n",
              "                        <td id=\"T_e0b8274e_b5ae_11ea_921d_0242ac1c0002row15_col0\" class=\"data row15 col0\" >have</td>\n",
              "                        <td id=\"T_e0b8274e_b5ae_11ea_921d_0242ac1c0002row15_col1\" class=\"data row15 col1\" >5272</td>\n",
              "            </tr>\n",
              "            <tr>\n",
              "                        <th id=\"T_e0b8274e_b5ae_11ea_921d_0242ac1c0002level0_row16\" class=\"row_heading level0 row16\" >16</th>\n",
              "                        <td id=\"T_e0b8274e_b5ae_11ea_921d_0242ac1c0002row16_col0\" class=\"data row16 col0\" >me</td>\n",
              "                        <td id=\"T_e0b8274e_b5ae_11ea_921d_0242ac1c0002row16_col1\" class=\"data row16 col1\" >5269</td>\n",
              "            </tr>\n",
              "            <tr>\n",
              "                        <th id=\"T_e0b8274e_b5ae_11ea_921d_0242ac1c0002level0_row17\" class=\"row_heading level0 row17\" >17</th>\n",
              "                        <td id=\"T_e0b8274e_b5ae_11ea_921d_0242ac1c0002row17_col0\" class=\"data row17 col0\" >am</td>\n",
              "                        <td id=\"T_e0b8274e_b5ae_11ea_921d_0242ac1c0002row17_col1\" class=\"data row17 col1\" >5263</td>\n",
              "            </tr>\n",
              "            <tr>\n",
              "                        <th id=\"T_e0b8274e_b5ae_11ea_921d_0242ac1c0002level0_row18\" class=\"row_heading level0 row18\" >18</th>\n",
              "                        <td id=\"T_e0b8274e_b5ae_11ea_921d_0242ac1c0002row18_col0\" class=\"data row18 col0\" >this</td>\n",
              "                        <td id=\"T_e0b8274e_b5ae_11ea_921d_0242ac1c0002row18_col1\" class=\"data row18 col1\" >4824</td>\n",
              "            </tr>\n",
              "            <tr>\n",
              "                        <th id=\"T_e0b8274e_b5ae_11ea_921d_0242ac1c0002level0_row19\" class=\"row_heading level0 row19\" >19</th>\n",
              "                        <td id=\"T_e0b8274e_b5ae_11ea_921d_0242ac1c0002row19_col0\" class=\"data row19 col0\" >on</td>\n",
              "                        <td id=\"T_e0b8274e_b5ae_11ea_921d_0242ac1c0002row19_col1\" class=\"data row19 col1\" >4726</td>\n",
              "            </tr>\n",
              "            <tr>\n",
              "                        <th id=\"T_e0b8274e_b5ae_11ea_921d_0242ac1c0002level0_row20\" class=\"row_heading level0 row20\" >20</th>\n",
              "                        <td id=\"T_e0b8274e_b5ae_11ea_921d_0242ac1c0002row20_col0\" class=\"data row20 col0\" >do</td>\n",
              "                        <td id=\"T_e0b8274e_b5ae_11ea_921d_0242ac1c0002row20_col1\" class=\"data row20 col1\" >4514</td>\n",
              "            </tr>\n",
              "            <tr>\n",
              "                        <th id=\"T_e0b8274e_b5ae_11ea_921d_0242ac1c0002level0_row21\" class=\"row_heading level0 row21\" >21</th>\n",
              "                        <td id=\"T_e0b8274e_b5ae_11ea_921d_0242ac1c0002row21_col0\" class=\"data row21 col0\" >be</td>\n",
              "                        <td id=\"T_e0b8274e_b5ae_11ea_921d_0242ac1c0002row21_col1\" class=\"data row21 col1\" >4230</td>\n",
              "            </tr>\n",
              "            <tr>\n",
              "                        <th id=\"T_e0b8274e_b5ae_11ea_921d_0242ac1c0002level0_row22\" class=\"row_heading level0 row22\" >22</th>\n",
              "                        <td id=\"T_e0b8274e_b5ae_11ea_921d_0242ac1c0002row22_col0\" class=\"data row22 col0\" >all</td>\n",
              "                        <td id=\"T_e0b8274e_b5ae_11ea_921d_0242ac1c0002row22_col1\" class=\"data row22 col1\" >3870</td>\n",
              "            </tr>\n",
              "            <tr>\n",
              "                        <th id=\"T_e0b8274e_b5ae_11ea_921d_0242ac1c0002level0_row23\" class=\"row_heading level0 row23\" >23</th>\n",
              "                        <td id=\"T_e0b8274e_b5ae_11ea_921d_0242ac1c0002row23_col0\" class=\"data row23 col0\" >with</td>\n",
              "                        <td id=\"T_e0b8274e_b5ae_11ea_921d_0242ac1c0002row23_col1\" class=\"data row23 col1\" >3759</td>\n",
              "            </tr>\n",
              "            <tr>\n",
              "                        <th id=\"T_e0b8274e_b5ae_11ea_921d_0242ac1c0002level0_row24\" class=\"row_heading level0 row24\" >24</th>\n",
              "                        <td id=\"T_e0b8274e_b5ae_11ea_921d_0242ac1c0002row24_col0\" class=\"data row24 col0\" >your</td>\n",
              "                        <td id=\"T_e0b8274e_b5ae_11ea_921d_0242ac1c0002row24_col1\" class=\"data row24 col1\" >3691</td>\n",
              "            </tr>\n",
              "            <tr>\n",
              "                        <th id=\"T_e0b8274e_b5ae_11ea_921d_0242ac1c0002level0_row25\" class=\"row_heading level0 row25\" >25</th>\n",
              "                        <td id=\"T_e0b8274e_b5ae_11ea_921d_0242ac1c0002row25_col0\" class=\"data row25 col0\" >we</td>\n",
              "                        <td id=\"T_e0b8274e_b5ae_11ea_921d_0242ac1c0002row25_col1\" class=\"data row25 col1\" >3676</td>\n",
              "            </tr>\n",
              "            <tr>\n",
              "                        <th id=\"T_e0b8274e_b5ae_11ea_921d_0242ac1c0002level0_row26\" class=\"row_heading level0 row26\" >26</th>\n",
              "                        <td id=\"T_e0b8274e_b5ae_11ea_921d_0242ac1c0002row26_col0\" class=\"data row26 col0\" >just</td>\n",
              "                        <td id=\"T_e0b8274e_b5ae_11ea_921d_0242ac1c0002row26_col1\" class=\"data row26 col1\" >3596</td>\n",
              "            </tr>\n",
              "            <tr>\n",
              "                        <th id=\"T_e0b8274e_b5ae_11ea_921d_0242ac1c0002level0_row27\" class=\"row_heading level0 row27\" >27</th>\n",
              "                        <td id=\"T_e0b8274e_b5ae_11ea_921d_0242ac1c0002row27_col0\" class=\"data row27 col0\" >so</td>\n",
              "                        <td id=\"T_e0b8274e_b5ae_11ea_921d_0242ac1c0002row27_col1\" class=\"data row27 col1\" >3381</td>\n",
              "            </tr>\n",
              "            <tr>\n",
              "                        <th id=\"T_e0b8274e_b5ae_11ea_921d_0242ac1c0002level0_row28\" class=\"row_heading level0 row28\" >28</th>\n",
              "                        <td id=\"T_e0b8274e_b5ae_11ea_921d_0242ac1c0002row28_col0\" class=\"data row28 col0\" >if</td>\n",
              "                        <td id=\"T_e0b8274e_b5ae_11ea_921d_0242ac1c0002row28_col1\" class=\"data row28 col1\" >3334</td>\n",
              "            </tr>\n",
              "            <tr>\n",
              "                        <th id=\"T_e0b8274e_b5ae_11ea_921d_0242ac1c0002level0_row29\" class=\"row_heading level0 row29\" >29</th>\n",
              "                        <td id=\"T_e0b8274e_b5ae_11ea_921d_0242ac1c0002row29_col0\" class=\"data row29 col0\" >will</td>\n",
              "                        <td id=\"T_e0b8274e_b5ae_11ea_921d_0242ac1c0002row29_col1\" class=\"data row29 col1\" >3327</td>\n",
              "            </tr>\n",
              "    </tbody></table>"
            ],
            "text/plain": [
              "<pandas.io.formats.style.Styler at 0x7fa08c55bbe0>"
            ]
          },
          "metadata": {
            "tags": []
          }
        },
        {
          "output_type": "display_data",
          "data": {
            "text/html": [
              "<style  type=\"text/css\" >\n",
              "    #T_e0bbd24a_b5ae_11ea_921d_0242ac1c0002row0_col1 {\n",
              "            background-color:  #67000d;\n",
              "            color:  #f1f1f1;\n",
              "        }    #T_e0bbd24a_b5ae_11ea_921d_0242ac1c0002row1_col1 {\n",
              "            background-color:  #880811;\n",
              "            color:  #f1f1f1;\n",
              "        }    #T_e0bbd24a_b5ae_11ea_921d_0242ac1c0002row2_col1 {\n",
              "            background-color:  #e32f27;\n",
              "            color:  #f1f1f1;\n",
              "        }    #T_e0bbd24a_b5ae_11ea_921d_0242ac1c0002row3_col1 {\n",
              "            background-color:  #f75c41;\n",
              "            color:  #000000;\n",
              "        }    #T_e0bbd24a_b5ae_11ea_921d_0242ac1c0002row4_col1 {\n",
              "            background-color:  #fb7050;\n",
              "            color:  #000000;\n",
              "        }    #T_e0bbd24a_b5ae_11ea_921d_0242ac1c0002row5_col1 {\n",
              "            background-color:  #fb7757;\n",
              "            color:  #000000;\n",
              "        }    #T_e0bbd24a_b5ae_11ea_921d_0242ac1c0002row6_col1 {\n",
              "            background-color:  #fc8565;\n",
              "            color:  #000000;\n",
              "        }    #T_e0bbd24a_b5ae_11ea_921d_0242ac1c0002row7_col1 {\n",
              "            background-color:  #fca082;\n",
              "            color:  #000000;\n",
              "        }    #T_e0bbd24a_b5ae_11ea_921d_0242ac1c0002row8_col1 {\n",
              "            background-color:  #fcb89e;\n",
              "            color:  #000000;\n",
              "        }    #T_e0bbd24a_b5ae_11ea_921d_0242ac1c0002row9_col1 {\n",
              "            background-color:  #fcc1a8;\n",
              "            color:  #000000;\n",
              "        }    #T_e0bbd24a_b5ae_11ea_921d_0242ac1c0002row10_col1 {\n",
              "            background-color:  #fdcab5;\n",
              "            color:  #000000;\n",
              "        }    #T_e0bbd24a_b5ae_11ea_921d_0242ac1c0002row11_col1 {\n",
              "            background-color:  #fdcab5;\n",
              "            color:  #000000;\n",
              "        }    #T_e0bbd24a_b5ae_11ea_921d_0242ac1c0002row12_col1 {\n",
              "            background-color:  #fdccb8;\n",
              "            color:  #000000;\n",
              "        }    #T_e0bbd24a_b5ae_11ea_921d_0242ac1c0002row13_col1 {\n",
              "            background-color:  #fdcebb;\n",
              "            color:  #000000;\n",
              "        }    #T_e0bbd24a_b5ae_11ea_921d_0242ac1c0002row14_col1 {\n",
              "            background-color:  #fedecf;\n",
              "            color:  #000000;\n",
              "        }    #T_e0bbd24a_b5ae_11ea_921d_0242ac1c0002row15_col1 {\n",
              "            background-color:  #fee1d4;\n",
              "            color:  #000000;\n",
              "        }    #T_e0bbd24a_b5ae_11ea_921d_0242ac1c0002row16_col1 {\n",
              "            background-color:  #fee2d5;\n",
              "            color:  #000000;\n",
              "        }    #T_e0bbd24a_b5ae_11ea_921d_0242ac1c0002row17_col1 {\n",
              "            background-color:  #fee5d8;\n",
              "            color:  #000000;\n",
              "        }    #T_e0bbd24a_b5ae_11ea_921d_0242ac1c0002row18_col1 {\n",
              "            background-color:  #fee8dd;\n",
              "            color:  #000000;\n",
              "        }    #T_e0bbd24a_b5ae_11ea_921d_0242ac1c0002row19_col1 {\n",
              "            background-color:  #fee8dd;\n",
              "            color:  #000000;\n",
              "        }    #T_e0bbd24a_b5ae_11ea_921d_0242ac1c0002row20_col1 {\n",
              "            background-color:  #fee8dd;\n",
              "            color:  #000000;\n",
              "        }    #T_e0bbd24a_b5ae_11ea_921d_0242ac1c0002row21_col1 {\n",
              "            background-color:  #ffece4;\n",
              "            color:  #000000;\n",
              "        }    #T_e0bbd24a_b5ae_11ea_921d_0242ac1c0002row22_col1 {\n",
              "            background-color:  #ffeee6;\n",
              "            color:  #000000;\n",
              "        }    #T_e0bbd24a_b5ae_11ea_921d_0242ac1c0002row23_col1 {\n",
              "            background-color:  #ffeee7;\n",
              "            color:  #000000;\n",
              "        }    #T_e0bbd24a_b5ae_11ea_921d_0242ac1c0002row24_col1 {\n",
              "            background-color:  #fff0e8;\n",
              "            color:  #000000;\n",
              "        }    #T_e0bbd24a_b5ae_11ea_921d_0242ac1c0002row25_col1 {\n",
              "            background-color:  #fff0e9;\n",
              "            color:  #000000;\n",
              "        }    #T_e0bbd24a_b5ae_11ea_921d_0242ac1c0002row26_col1 {\n",
              "            background-color:  #fff2ec;\n",
              "            color:  #000000;\n",
              "        }    #T_e0bbd24a_b5ae_11ea_921d_0242ac1c0002row27_col1 {\n",
              "            background-color:  #fff3ed;\n",
              "            color:  #000000;\n",
              "        }    #T_e0bbd24a_b5ae_11ea_921d_0242ac1c0002row28_col1 {\n",
              "            background-color:  #fff5f0;\n",
              "            color:  #000000;\n",
              "        }    #T_e0bbd24a_b5ae_11ea_921d_0242ac1c0002row29_col1 {\n",
              "            background-color:  #fff5f0;\n",
              "            color:  #000000;\n",
              "        }</style><table id=\"T_e0bbd24a_b5ae_11ea_921d_0242ac1c0002\" ><thead>    <tr>        <th class=\"blank level0\" ></th>        <th class=\"col_heading level0 col0\" >tokens_reply</th>        <th class=\"col_heading level0 col1\" >count</th>    </tr></thead><tbody>\n",
              "                <tr>\n",
              "                        <th id=\"T_e0bbd24a_b5ae_11ea_921d_0242ac1c0002level0_row0\" class=\"row_heading level0 row0\" >0</th>\n",
              "                        <td id=\"T_e0bbd24a_b5ae_11ea_921d_0242ac1c0002row0_col0\" class=\"data row0 col0\" >i</td>\n",
              "                        <td id=\"T_e0bbd24a_b5ae_11ea_921d_0242ac1c0002row0_col1\" class=\"data row0 col1\" >3620</td>\n",
              "            </tr>\n",
              "            <tr>\n",
              "                        <th id=\"T_e0bbd24a_b5ae_11ea_921d_0242ac1c0002level0_row1\" class=\"row_heading level0 row1\" >1</th>\n",
              "                        <td id=\"T_e0bbd24a_b5ae_11ea_921d_0242ac1c0002row1_col0\" class=\"data row1 col0\" >you</td>\n",
              "                        <td id=\"T_e0bbd24a_b5ae_11ea_921d_0242ac1c0002row1_col1\" class=\"data row1 col1\" >3411</td>\n",
              "            </tr>\n",
              "            <tr>\n",
              "                        <th id=\"T_e0bbd24a_b5ae_11ea_921d_0242ac1c0002level0_row2\" class=\"row_heading level0 row2\" >2</th>\n",
              "                        <td id=\"T_e0bbd24a_b5ae_11ea_921d_0242ac1c0002row2_col0\" class=\"data row2 col0\" >the</td>\n",
              "                        <td id=\"T_e0bbd24a_b5ae_11ea_921d_0242ac1c0002row2_col1\" class=\"data row2 col1\" >2588</td>\n",
              "            </tr>\n",
              "            <tr>\n",
              "                        <th id=\"T_e0bbd24a_b5ae_11ea_921d_0242ac1c0002level0_row3\" class=\"row_heading level0 row3\" >3</th>\n",
              "                        <td id=\"T_e0bbd24a_b5ae_11ea_921d_0242ac1c0002row3_col0\" class=\"data row3 col0\" >to</td>\n",
              "                        <td id=\"T_e0bbd24a_b5ae_11ea_921d_0242ac1c0002row3_col1\" class=\"data row3 col1\" >2197</td>\n",
              "            </tr>\n",
              "            <tr>\n",
              "                        <th id=\"T_e0bbd24a_b5ae_11ea_921d_0242ac1c0002level0_row4\" class=\"row_heading level0 row4\" >4</th>\n",
              "                        <td id=\"T_e0bbd24a_b5ae_11ea_921d_0242ac1c0002row4_col0\" class=\"data row4 col0\" >is</td>\n",
              "                        <td id=\"T_e0bbd24a_b5ae_11ea_921d_0242ac1c0002row4_col1\" class=\"data row4 col1\" >2025</td>\n",
              "            </tr>\n",
              "            <tr>\n",
              "                        <th id=\"T_e0bbd24a_b5ae_11ea_921d_0242ac1c0002level0_row5\" class=\"row_heading level0 row5\" >5</th>\n",
              "                        <td id=\"T_e0bbd24a_b5ae_11ea_921d_0242ac1c0002row5_col0\" class=\"data row5 col0\" >a</td>\n",
              "                        <td id=\"T_e0bbd24a_b5ae_11ea_921d_0242ac1c0002row5_col1\" class=\"data row5 col1\" >1952</td>\n",
              "            </tr>\n",
              "            <tr>\n",
              "                        <th id=\"T_e0bbd24a_b5ae_11ea_921d_0242ac1c0002level0_row6\" class=\"row_heading level0 row6\" >6</th>\n",
              "                        <td id=\"T_e0bbd24a_b5ae_11ea_921d_0242ac1c0002row6_col0\" class=\"data row6 col0\" >and</td>\n",
              "                        <td id=\"T_e0bbd24a_b5ae_11ea_921d_0242ac1c0002row6_col1\" class=\"data row6 col1\" >1819</td>\n",
              "            </tr>\n",
              "            <tr>\n",
              "                        <th id=\"T_e0bbd24a_b5ae_11ea_921d_0242ac1c0002level0_row7\" class=\"row_heading level0 row7\" >7</th>\n",
              "                        <td id=\"T_e0bbd24a_b5ae_11ea_921d_0242ac1c0002row7_col0\" class=\"data row7 col0\" >it</td>\n",
              "                        <td id=\"T_e0bbd24a_b5ae_11ea_921d_0242ac1c0002row7_col1\" class=\"data row7 col1\" >1562</td>\n",
              "            </tr>\n",
              "            <tr>\n",
              "                        <th id=\"T_e0bbd24a_b5ae_11ea_921d_0242ac1c0002level0_row8\" class=\"row_heading level0 row8\" >8</th>\n",
              "                        <td id=\"T_e0bbd24a_b5ae_11ea_921d_0242ac1c0002row8_col0\" class=\"data row8 col0\" >not</td>\n",
              "                        <td id=\"T_e0bbd24a_b5ae_11ea_921d_0242ac1c0002row8_col1\" class=\"data row8 col1\" >1340</td>\n",
              "            </tr>\n",
              "            <tr>\n",
              "                        <th id=\"T_e0bbd24a_b5ae_11ea_921d_0242ac1c0002level0_row9\" class=\"row_heading level0 row9\" >9</th>\n",
              "                        <td id=\"T_e0bbd24a_b5ae_11ea_921d_0242ac1c0002row9_col0\" class=\"data row9 col0\" >that</td>\n",
              "                        <td id=\"T_e0bbd24a_b5ae_11ea_921d_0242ac1c0002row9_col1\" class=\"data row9 col1\" >1256</td>\n",
              "            </tr>\n",
              "            <tr>\n",
              "                        <th id=\"T_e0bbd24a_b5ae_11ea_921d_0242ac1c0002level0_row10\" class=\"row_heading level0 row10\" >10</th>\n",
              "                        <td id=\"T_e0bbd24a_b5ae_11ea_921d_0242ac1c0002row10_col0\" class=\"data row10 col0\" >of</td>\n",
              "                        <td id=\"T_e0bbd24a_b5ae_11ea_921d_0242ac1c0002row10_col1\" class=\"data row10 col1\" >1159</td>\n",
              "            </tr>\n",
              "            <tr>\n",
              "                        <th id=\"T_e0bbd24a_b5ae_11ea_921d_0242ac1c0002level0_row11\" class=\"row_heading level0 row11\" >11</th>\n",
              "                        <td id=\"T_e0bbd24a_b5ae_11ea_921d_0242ac1c0002row11_col0\" class=\"data row11 col0\" >for</td>\n",
              "                        <td id=\"T_e0bbd24a_b5ae_11ea_921d_0242ac1c0002row11_col1\" class=\"data row11 col1\" >1149</td>\n",
              "            </tr>\n",
              "            <tr>\n",
              "                        <th id=\"T_e0bbd24a_b5ae_11ea_921d_0242ac1c0002level0_row12\" class=\"row_heading level0 row12\" >12</th>\n",
              "                        <td id=\"T_e0bbd24a_b5ae_11ea_921d_0242ac1c0002row12_col0\" class=\"data row12 col0\" >are</td>\n",
              "                        <td id=\"T_e0bbd24a_b5ae_11ea_921d_0242ac1c0002row12_col1\" class=\"data row12 col1\" >1128</td>\n",
              "            </tr>\n",
              "            <tr>\n",
              "                        <th id=\"T_e0bbd24a_b5ae_11ea_921d_0242ac1c0002level0_row13\" class=\"row_heading level0 row13\" >13</th>\n",
              "                        <td id=\"T_e0bbd24a_b5ae_11ea_921d_0242ac1c0002row13_col0\" class=\"data row13 col0\" >this</td>\n",
              "                        <td id=\"T_e0bbd24a_b5ae_11ea_921d_0242ac1c0002row13_col1\" class=\"data row13 col1\" >1110</td>\n",
              "            </tr>\n",
              "            <tr>\n",
              "                        <th id=\"T_e0bbd24a_b5ae_11ea_921d_0242ac1c0002level0_row14\" class=\"row_heading level0 row14\" >14</th>\n",
              "                        <td id=\"T_e0bbd24a_b5ae_11ea_921d_0242ac1c0002row14_col0\" class=\"data row14 col0\" >in</td>\n",
              "                        <td id=\"T_e0bbd24a_b5ae_11ea_921d_0242ac1c0002row14_col1\" class=\"data row14 col1\" >954</td>\n",
              "            </tr>\n",
              "            <tr>\n",
              "                        <th id=\"T_e0bbd24a_b5ae_11ea_921d_0242ac1c0002level0_row15\" class=\"row_heading level0 row15\" >15</th>\n",
              "                        <td id=\"T_e0bbd24a_b5ae_11ea_921d_0242ac1c0002row15_col0\" class=\"data row15 col0\" >me</td>\n",
              "                        <td id=\"T_e0bbd24a_b5ae_11ea_921d_0242ac1c0002row15_col1\" class=\"data row15 col1\" >902</td>\n",
              "            </tr>\n",
              "            <tr>\n",
              "                        <th id=\"T_e0bbd24a_b5ae_11ea_921d_0242ac1c0002level0_row16\" class=\"row_heading level0 row16\" >16</th>\n",
              "                        <td id=\"T_e0bbd24a_b5ae_11ea_921d_0242ac1c0002row16_col0\" class=\"data row16 col0\" >my</td>\n",
              "                        <td id=\"T_e0bbd24a_b5ae_11ea_921d_0242ac1c0002row16_col1\" class=\"data row16 col1\" >890</td>\n",
              "            </tr>\n",
              "            <tr>\n",
              "                        <th id=\"T_e0bbd24a_b5ae_11ea_921d_0242ac1c0002level0_row17\" class=\"row_heading level0 row17\" >17</th>\n",
              "                        <td id=\"T_e0bbd24a_b5ae_11ea_921d_0242ac1c0002row17_col0\" class=\"data row17 col0\" >am</td>\n",
              "                        <td id=\"T_e0bbd24a_b5ae_11ea_921d_0242ac1c0002row17_col1\" class=\"data row17 col1\" >836</td>\n",
              "            </tr>\n",
              "            <tr>\n",
              "                        <th id=\"T_e0bbd24a_b5ae_11ea_921d_0242ac1c0002level0_row18\" class=\"row_heading level0 row18\" >18</th>\n",
              "                        <td id=\"T_e0bbd24a_b5ae_11ea_921d_0242ac1c0002row18_col0\" class=\"data row18 col0\" >so</td>\n",
              "                        <td id=\"T_e0bbd24a_b5ae_11ea_921d_0242ac1c0002row18_col1\" class=\"data row18 col1\" >787</td>\n",
              "            </tr>\n",
              "            <tr>\n",
              "                        <th id=\"T_e0bbd24a_b5ae_11ea_921d_0242ac1c0002level0_row19\" class=\"row_heading level0 row19\" >19</th>\n",
              "                        <td id=\"T_e0bbd24a_b5ae_11ea_921d_0242ac1c0002row19_col0\" class=\"data row19 col0\" >do</td>\n",
              "                        <td id=\"T_e0bbd24a_b5ae_11ea_921d_0242ac1c0002row19_col1\" class=\"data row19 col1\" >783</td>\n",
              "            </tr>\n",
              "            <tr>\n",
              "                        <th id=\"T_e0bbd24a_b5ae_11ea_921d_0242ac1c0002level0_row20\" class=\"row_heading level0 row20\" >20</th>\n",
              "                        <td id=\"T_e0bbd24a_b5ae_11ea_921d_0242ac1c0002row20_col0\" class=\"data row20 col0\" >have</td>\n",
              "                        <td id=\"T_e0bbd24a_b5ae_11ea_921d_0242ac1c0002row20_col1\" class=\"data row20 col1\" >777</td>\n",
              "            </tr>\n",
              "            <tr>\n",
              "                        <th id=\"T_e0bbd24a_b5ae_11ea_921d_0242ac1c0002level0_row21\" class=\"row_heading level0 row21\" >21</th>\n",
              "                        <td id=\"T_e0bbd24a_b5ae_11ea_921d_0242ac1c0002row21_col0\" class=\"data row21 col0\" >your</td>\n",
              "                        <td id=\"T_e0bbd24a_b5ae_11ea_921d_0242ac1c0002row21_col1\" class=\"data row21 col1\" >697</td>\n",
              "            </tr>\n",
              "            <tr>\n",
              "                        <th id=\"T_e0bbd24a_b5ae_11ea_921d_0242ac1c0002level0_row22\" class=\"row_heading level0 row22\" >22</th>\n",
              "                        <td id=\"T_e0bbd24a_b5ae_11ea_921d_0242ac1c0002row22_col0\" class=\"data row22 col0\" >be</td>\n",
              "                        <td id=\"T_e0bbd24a_b5ae_11ea_921d_0242ac1c0002row22_col1\" class=\"data row22 col1\" >678</td>\n",
              "            </tr>\n",
              "            <tr>\n",
              "                        <th id=\"T_e0bbd24a_b5ae_11ea_921d_0242ac1c0002level0_row23\" class=\"row_heading level0 row23\" >23</th>\n",
              "                        <td id=\"T_e0bbd24a_b5ae_11ea_921d_0242ac1c0002row23_col0\" class=\"data row23 col0\" >we</td>\n",
              "                        <td id=\"T_e0bbd24a_b5ae_11ea_921d_0242ac1c0002row23_col1\" class=\"data row23 col1\" >665</td>\n",
              "            </tr>\n",
              "            <tr>\n",
              "                        <th id=\"T_e0bbd24a_b5ae_11ea_921d_0242ac1c0002level0_row24\" class=\"row_heading level0 row24\" >24</th>\n",
              "                        <td id=\"T_e0bbd24a_b5ae_11ea_921d_0242ac1c0002row24_col0\" class=\"data row24 col0\" >but</td>\n",
              "                        <td id=\"T_e0bbd24a_b5ae_11ea_921d_0242ac1c0002row24_col1\" class=\"data row24 col1\" >637</td>\n",
              "            </tr>\n",
              "            <tr>\n",
              "                        <th id=\"T_e0bbd24a_b5ae_11ea_921d_0242ac1c0002level0_row25\" class=\"row_heading level0 row25\" >25</th>\n",
              "                        <td id=\"T_e0bbd24a_b5ae_11ea_921d_0242ac1c0002row25_col0\" class=\"data row25 col0\" >on</td>\n",
              "                        <td id=\"T_e0bbd24a_b5ae_11ea_921d_0242ac1c0002row25_col1\" class=\"data row25 col1\" >629</td>\n",
              "            </tr>\n",
              "            <tr>\n",
              "                        <th id=\"T_e0bbd24a_b5ae_11ea_921d_0242ac1c0002level0_row26\" class=\"row_heading level0 row26\" >26</th>\n",
              "                        <td id=\"T_e0bbd24a_b5ae_11ea_921d_0242ac1c0002row26_col0\" class=\"data row26 col0\" >like</td>\n",
              "                        <td id=\"T_e0bbd24a_b5ae_11ea_921d_0242ac1c0002row26_col1\" class=\"data row26 col1\" >588</td>\n",
              "            </tr>\n",
              "            <tr>\n",
              "                        <th id=\"T_e0bbd24a_b5ae_11ea_921d_0242ac1c0002level0_row27\" class=\"row_heading level0 row27\" >27</th>\n",
              "                        <td id=\"T_e0bbd24a_b5ae_11ea_921d_0242ac1c0002row27_col0\" class=\"data row27 col0\" >all</td>\n",
              "                        <td id=\"T_e0bbd24a_b5ae_11ea_921d_0242ac1c0002row27_col1\" class=\"data row27 col1\" >571</td>\n",
              "            </tr>\n",
              "            <tr>\n",
              "                        <th id=\"T_e0bbd24a_b5ae_11ea_921d_0242ac1c0002level0_row28\" class=\"row_heading level0 row28\" >28</th>\n",
              "                        <td id=\"T_e0bbd24a_b5ae_11ea_921d_0242ac1c0002row28_col0\" class=\"data row28 col0\" >just</td>\n",
              "                        <td id=\"T_e0bbd24a_b5ae_11ea_921d_0242ac1c0002row28_col1\" class=\"data row28 col1\" >538</td>\n",
              "            </tr>\n",
              "            <tr>\n",
              "                        <th id=\"T_e0bbd24a_b5ae_11ea_921d_0242ac1c0002level0_row29\" class=\"row_heading level0 row29\" >29</th>\n",
              "                        <td id=\"T_e0bbd24a_b5ae_11ea_921d_0242ac1c0002row29_col0\" class=\"data row29 col0\" >will</td>\n",
              "                        <td id=\"T_e0bbd24a_b5ae_11ea_921d_0242ac1c0002row29_col1\" class=\"data row29 col1\" >534</td>\n",
              "            </tr>\n",
              "    </tbody></table>"
            ],
            "text/plain": [
              "<pandas.io.formats.style.Styler at 0x7fa08b983a58>"
            ]
          },
          "metadata": {
            "tags": []
          }
        }
      ]
    },
    {
      "cell_type": "code",
      "metadata": {
        "id": "7lHX0Rwb6isx",
        "colab_type": "code",
        "colab": {}
      },
      "source": [
        "for t in tweets:\n",
        "    for idx,token in enumerate(t['text_clean']):\n",
        "        if token in special:\n",
        "            t['text_clean'][idx] = special[token]\n",
        "    for idx,token in enumerate(t['reply_clean']):\n",
        "        if token in special:\n",
        "            t['reply_clean'][idx] = special[token]\n",
        "    t['text_clean'] = [c for c in t['text_clean'] if c not in weird]\n",
        "    t['reply_clean'] = [c for c in t['reply_clean'] if c not in weird]\n",
        "for t in dev:\n",
        "    for idx,token in enumerate(t['text_clean']):\n",
        "        if token in special:\n",
        "            t['text_clean'][idx] = special[token]\n",
        "    for idx,token in enumerate(t['reply_clean']):\n",
        "        if token in special:\n",
        "            t['reply_clean'][idx] = special[token]\n",
        "    t['text_clean'] = [c for c in t['text_clean'] if c not in weird]\n",
        "    t['reply_clean'] = [c for c in t['reply_clean'] if c not in weird]\n",
        "for t in test:\n",
        "    for idx,token in enumerate(t['text_clean']):\n",
        "        if token in special:\n",
        "            t['text_clean'][idx] = special[token]\n",
        "    for idx,token in enumerate(t['reply_clean']):\n",
        "        if token in special:\n",
        "            t['reply_clean'][idx] = special[token]\n",
        "    t['text_clean'] = [c for c in t['text_clean'] if c not in weird]\n",
        "    t['reply_clean'] = [c for c in t['reply_clean'] if c not in weird]"
      ],
      "execution_count": 26,
      "outputs": []
    },
    {
      "cell_type": "markdown",
      "metadata": {
        "id": "xmSmPsBlftpP",
        "colab_type": "text"
      },
      "source": [
        "Deomojize Mode"
      ]
    },
    {
      "cell_type": "code",
      "metadata": {
        "id": "WpslqjlHfjW1",
        "colab_type": "code",
        "colab": {
          "base_uri": "https://localhost:8080/",
          "height": 54
        },
        "outputId": "a35bfcb1-bf77-4bc7-ff1a-edac08b2f76f"
      },
      "source": [
        "'''for t in tweets:\n",
        "    for idx,token in enumerate(t['text_clean']):\n",
        "        if token in special:\n",
        "            t['text_clean'][idx] = special[token]\n",
        "        if token in emoji_remain_text:\n",
        "            t['text_clean'][idx] = re.sub(\"_\", \" \",re.sub(':','',emoji.demojize(token)))\n",
        "    for idx,token in enumerate(t['reply_clean']):\n",
        "        if token in special:\n",
        "            t['reply_clean'][idx] = special[token]\n",
        "        if token in emoji_remain_reply:\n",
        "            t['reply_clean'][idx] = re.sub(\"_\", \" \",re.sub(':','',emoji.demojize(token)))\n",
        "    #t['text_clean'] = [c for c in t['text_clean'] if c not in weird]\n",
        "    #t['reply_clean'] = [c for c in t['reply_clean'] if c not in weird]\n",
        "for t in dev:\n",
        "    for idx,token in enumerate(t['text_clean']):\n",
        "        if token in special:\n",
        "            t['text_clean'][idx] = special[token]\n",
        "        if token in emoji_remain_text:\n",
        "            t['text_clean'][idx] = re.sub(\"_\", \" \",re.sub(':','',emoji.demojize(token)))\n",
        "    for idx,token in enumerate(t['reply_clean']):\n",
        "        if token in special:\n",
        "            t['reply_clean'][idx] = special[token]\n",
        "        if token in emoji_remain_reply:\n",
        "            t['reply_clean'][idx] = re.sub(\"_\", \" \",re.sub(':','',emoji.demojize(token)))\n",
        "    #t['text_clean'] = [c for c in t['text_clean'] if c not in weird]\n",
        "    #t['reply_clean'] = [c for c in t['reply_clean'] if c not in weird]\n",
        "for t in test:\n",
        "    for idx,token in enumerate(t['text_clean']):\n",
        "        if token in special:\n",
        "            t['text_clean'][idx] = special[token]\n",
        "        if token in emoji_remain_text:\n",
        "            t['text_clean'][idx] = re.sub(\"_\", \" \",re.sub(':','',emoji.demojize(token)))\n",
        "    for idx,token in enumerate(t['reply_clean']):\n",
        "        if token in special:\n",
        "            t['reply_clean'][idx] = special[token]\n",
        "        if token in emoji_remain_reply:\n",
        "            t['reply_clean'][idx] = re.sub(\"_\", \" \",re.sub(':','',emoji.demojize(token)))\n",
        "    #t['text_clean'] = [c for c in t['text_clean'] if c not in weird]\n",
        "    #t['reply_clean'] = [c for c in t['reply_clean'] if c not in weird]'''"
      ],
      "execution_count": 27,
      "outputs": [
        {
          "output_type": "execute_result",
          "data": {
            "text/plain": [
              "'for t in tweets:\\n    for idx,token in enumerate(t[\\'text_clean\\']):\\n        if token in special:\\n            t[\\'text_clean\\'][idx] = special[token]\\n        if token in emoji_remain_text:\\n            t[\\'text_clean\\'][idx] = re.sub(\"_\", \" \",re.sub(\\':\\',\\'\\',emoji.demojize(token)))\\n    for idx,token in enumerate(t[\\'reply_clean\\']):\\n        if token in special:\\n            t[\\'reply_clean\\'][idx] = special[token]\\n        if token in emoji_remain_reply:\\n            t[\\'reply_clean\\'][idx] = re.sub(\"_\", \" \",re.sub(\\':\\',\\'\\',emoji.demojize(token)))\\n    #t[\\'text_clean\\'] = [c for c in t[\\'text_clean\\'] if c not in weird]\\n    #t[\\'reply_clean\\'] = [c for c in t[\\'reply_clean\\'] if c not in weird]\\nfor t in dev:\\n    for idx,token in enumerate(t[\\'text_clean\\']):\\n        if token in special:\\n            t[\\'text_clean\\'][idx] = special[token]\\n        if token in emoji_remain_text:\\n            t[\\'text_clean\\'][idx] = re.sub(\"_\", \" \",re.sub(\\':\\',\\'\\',emoji.demojize(token)))\\n    for idx,token in enumerate(t[\\'reply_clean\\']):\\n        if token in special:\\n            t[\\'reply_clean\\'][idx] = special[token]\\n        if token in emoji_remain_reply:\\n            t[\\'reply_clean\\'][idx] = re.sub(\"_\", \" \",re.sub(\\':\\',\\'\\',emoji.demojize(token)))\\n    #t[\\'text_clean\\'] = [c for c in t[\\'text_clean\\'] if c not in weird]\\n    #t[\\'reply_clean\\'] = [c for c in t[\\'reply_clean\\'] if c not in weird]\\nfor t in test:\\n    for idx,token in enumerate(t[\\'text_clean\\']):\\n        if token in special:\\n            t[\\'text_clean\\'][idx] = special[token]\\n        if token in emoji_remain_text:\\n            t[\\'text_clean\\'][idx] = re.sub(\"_\", \" \",re.sub(\\':\\',\\'\\',emoji.demojize(token)))\\n    for idx,token in enumerate(t[\\'reply_clean\\']):\\n        if token in special:\\n            t[\\'reply_clean\\'][idx] = special[token]\\n        if token in emoji_remain_reply:\\n            t[\\'reply_clean\\'][idx] = re.sub(\"_\", \" \",re.sub(\\':\\',\\'\\',emoji.demojize(token)))\\n    #t[\\'text_clean\\'] = [c for c in t[\\'text_clean\\'] if c not in weird]\\n    #t[\\'reply_clean\\'] = [c for c in t[\\'reply_clean\\'] if c not in weird]'"
            ]
          },
          "metadata": {
            "tags": []
          },
          "execution_count": 27
        }
      ]
    },
    {
      "cell_type": "code",
      "metadata": {
        "id": "kx1lQp3d7N7V",
        "colab_type": "code",
        "colab": {}
      },
      "source": [
        "cat_index = {}\n",
        "for idx,c in enumerate(categories):\n",
        "    cat_index[c]=idx\n",
        "    \n",
        "def cat2vec(cat):\n",
        "    res = []\n",
        "    for tweet in cat:\n",
        "        temp = np.zeros(43)\n",
        "        for c in tweet:\n",
        "            temp[cat_index[c]] = 1\n",
        "        res.append(temp)\n",
        "    return np.array(res)"
      ],
      "execution_count": 28,
      "outputs": []
    },
    {
      "cell_type": "code",
      "metadata": {
        "id": "zZCAGLY86rjF",
        "colab_type": "code",
        "colab": {}
      },
      "source": [
        "tweets[4579]['text_clean'] = tweets[4579]['text_clean'][:20]+['what','is','the','most','shocking','book','you','were','forced','to','read','in','high','school']\n",
        "tweets[10415]['reply_clean'] = tweets[10415]['reply_clean'][37:]\n",
        "tweets[25505]['text_clean'] = tweets[25505]['text_clean'][:14]\n",
        "tweets[28767]['reply_clean'] = tweets[28767]['reply_clean'][:63]\n",
        "train_text = [\" \".join(t['text_clean']) for t in tweets]\n",
        "train_reply = [\" \".join(t['reply_clean']) for t in tweets]\n",
        "train_y = [t['categories'] for t in tweets]\n",
        "\n",
        "dev_text = [\" \".join(t['text_clean']) for t in dev]\n",
        "dev_reply = [\" \".join(t['reply_clean']) for t in dev]\n",
        "\n",
        "test[1487]['text_clean'] = test[1487]['text_clean'][5:]\n",
        "test[2949]['reply_clean'] = test[2949]['reply_clean'][:11]\n",
        "test_text = [\" \".join(t['text_clean']) for t in test]\n",
        "test_reply = [\" \".join(t['reply_clean']) for t in test]"
      ],
      "execution_count": 29,
      "outputs": []
    },
    {
      "cell_type": "code",
      "metadata": {
        "id": "Ou47jbZP6-gb",
        "colab_type": "code",
        "colab": {
          "base_uri": "https://localhost:8080/",
          "height": 69
        },
        "outputId": "27fa71ce-5960-407b-dfb9-9b5ff65cd52c"
      },
      "source": [
        "train_y = cat2vec(train_y)\n",
        "train_y[0]"
      ],
      "execution_count": 30,
      "outputs": [
        {
          "output_type": "execute_result",
          "data": {
            "text/plain": [
              "array([0., 0., 0., 0., 0., 0., 0., 0., 0., 0., 0., 0., 0., 0., 0., 0., 0.,\n",
              "       0., 0., 0., 0., 0., 0., 0., 0., 0., 0., 0., 0., 0., 0., 0., 0., 0.,\n",
              "       0., 0., 0., 0., 0., 0., 1., 0., 0.])"
            ]
          },
          "metadata": {
            "tags": []
          },
          "execution_count": 30
        }
      ]
    },
    {
      "cell_type": "code",
      "metadata": {
        "id": "qwiEo_Ovr1Fl",
        "colab_type": "code",
        "colab": {}
      },
      "source": [
        "train_dict = {}\n",
        "for i in range(32000):\n",
        "  temp = train_text[i]+train_reply[i]\n",
        "  if temp in train_dict:\n",
        "    train_dict[temp].append((train_y[i],i))\n",
        "  else:\n",
        "    train_dict[temp] = [(train_y[i],i)]\n",
        "\n",
        "duplicated = []\n",
        "for key in train_dict:\n",
        "  if len(train_dict[key])>1:\n",
        "    for id in train_dict[key][1:]:\n",
        "      duplicated.append(id[1])\n",
        "\n",
        "new = []\n",
        "for key in train_dict:\n",
        "  if len(train_dict[key])>1:\n",
        "    first_idx = train_dict[key][0][1]\n",
        "    temp = np.zeros(43)\n",
        "    for id in train_dict[key]:\n",
        "      temp = np.logical_or(temp, id[0])\n",
        "    temp = temp.astype(int)\n",
        "    new.append((first_idx,temp))"
      ],
      "execution_count": 31,
      "outputs": []
    },
    {
      "cell_type": "code",
      "metadata": {
        "id": "pUfHtI67WWOu",
        "colab_type": "code",
        "colab": {}
      },
      "source": [
        "for idx, cat in new:\n",
        "  train_y[idx] = cat"
      ],
      "execution_count": 32,
      "outputs": []
    },
    {
      "cell_type": "code",
      "metadata": {
        "id": "n6_g2OWbsgBY",
        "colab_type": "code",
        "colab": {
          "base_uri": "https://localhost:8080/",
          "height": 52
        },
        "outputId": "e44c1ef1-d56c-4a08-9201-0615335445aa"
      },
      "source": [
        "print('before: ',len(train_text), len(train_reply), len(train_y))\n",
        "_tweets = np.delete(tweets, duplicated)\n",
        "train_text = np.delete(train_text, duplicated)\n",
        "train_reply = np.delete(train_reply, duplicated)\n",
        "train_y = np.delete(train_y, duplicated, axis=0)\n",
        "print('after: ',len(train_text), len(train_reply), len(train_y))"
      ],
      "execution_count": 33,
      "outputs": [
        {
          "output_type": "stream",
          "text": [
            "before:  32000 32000 32000\n",
            "after:  26784 26784 26784\n"
          ],
          "name": "stdout"
        }
      ]
    },
    {
      "cell_type": "code",
      "metadata": {
        "id": "21OTqkO1NggU",
        "colab_type": "code",
        "colab": {
          "base_uri": "https://localhost:8080/",
          "height": 116,
          "referenced_widgets": [
            "af92766c7d3240e191a1cb451c6997de",
            "457e5022ba39402287fb22614f0de0be",
            "73d106688dc04d78ab890fc34ccbb66f",
            "7f646f46d50c4421a3ccfbad4d9784b2",
            "b0260ed244a745fc9147af2f44e42173",
            "11bc915bf1f0488498e104c0c1101ee6",
            "ae578700aea94bdfa8bcc6b4d6edec4a",
            "b7467ba8a8994ac2afa32c033330e107",
            "ba7d1c19f4634e6394c2ee7ed9cc121b",
            "e0dc3e5714ea4b188959b6c31d0c0e09",
            "f0a467e33d844b9db6a73af940974562",
            "7bd0392e285940b290b7aa4af8d2f022",
            "81d8c3a0fdba4fbba01dca9f8a72a187",
            "f299a4f357dd48e5ab667f511621652d",
            "df15526ca93e4840b7ab1da42ccd5c76",
            "048c05e2b20345caa7a5c0814129a071"
          ]
        },
        "outputId": "04bf7892-0d72-4fc6-c87a-95a9b4c98103"
      },
      "source": [
        "tokenizer = RobertaTokenizer.from_pretrained('roberta-base')\n",
        "#tokenizer = RobertaTokenizer.from_pretrained('distilroberta-base')\n",
        "#tokenizer = RobertaTokenizer.from_pretrained('roberta-large')"
      ],
      "execution_count": 34,
      "outputs": [
        {
          "output_type": "display_data",
          "data": {
            "application/vnd.jupyter.widget-view+json": {
              "model_id": "af92766c7d3240e191a1cb451c6997de",
              "version_minor": 0,
              "version_major": 2
            },
            "text/plain": [
              "HBox(children=(FloatProgress(value=0.0, description='Downloading', max=898823.0, style=ProgressStyle(descripti…"
            ]
          },
          "metadata": {
            "tags": []
          }
        },
        {
          "output_type": "stream",
          "text": [
            "\n"
          ],
          "name": "stdout"
        },
        {
          "output_type": "display_data",
          "data": {
            "application/vnd.jupyter.widget-view+json": {
              "model_id": "ba7d1c19f4634e6394c2ee7ed9cc121b",
              "version_minor": 0,
              "version_major": 2
            },
            "text/plain": [
              "HBox(children=(FloatProgress(value=0.0, description='Downloading', max=456318.0, style=ProgressStyle(descripti…"
            ]
          },
          "metadata": {
            "tags": []
          }
        },
        {
          "output_type": "stream",
          "text": [
            "\n"
          ],
          "name": "stdout"
        }
      ]
    },
    {
      "cell_type": "code",
      "metadata": {
        "id": "XHW5_UJt7pXB",
        "colab_type": "code",
        "colab": {}
      },
      "source": [
        "train_x = []\n",
        "for i in range(len(train_text)):\n",
        "  if train_reply[i] == '':\n",
        "    if train_text[i] == '':\n",
        "      train_x.append(tokenizer.encode(' ',' '))\n",
        "    else:\n",
        "      train_x.append(tokenizer.encode(train_text[i],' ',skip_special_tokens=True))\n",
        "  else:\n",
        "    if train_text[i] == '':\n",
        "      train_x.append(tokenizer.encode(' ', train_reply[i],skip_special_tokens=True))\n",
        "    else:\n",
        "      train_x.append(tokenizer.encode(train_text[i], train_reply[i],skip_special_tokens=True))\n",
        "\n",
        "dev_x = []\n",
        "for i in range(len(dev_text)):\n",
        "  if dev_reply[i] == '':\n",
        "    dev_x.append(tokenizer.encode(dev_text[i],skip_special_tokens=True))\n",
        "  else:\n",
        "    dev_x.append(tokenizer.encode(dev_text[i], dev_reply[i],skip_special_tokens=True))\n",
        "\n",
        "test_x = []\n",
        "for i in range(len(test_text)):\n",
        "  if test_reply[i] == '':\n",
        "    if test_text[i] == '':\n",
        "      test_x.append(tokenizer.encode(' ',' '))\n",
        "    else:\n",
        "      test_x.append(tokenizer.encode(test_text[i],' ',skip_special_tokens=True))\n",
        "  else:\n",
        "    if test_text[i] == '':\n",
        "      test_x.append(tokenizer.encode(' ', test_reply[i],skip_special_tokens=True))\n",
        "    else:\n",
        "      test_x.append(tokenizer.encode(test_text[i], test_reply[i],skip_special_tokens=True))"
      ],
      "execution_count": 35,
      "outputs": []
    },
    {
      "cell_type": "code",
      "metadata": {
        "id": "GOUElz6jTbV8",
        "colab_type": "code",
        "colab": {
          "base_uri": "https://localhost:8080/",
          "height": 69
        },
        "outputId": "e1ed07ba-0de5-4e0f-d473-71a4fe239223"
      },
      "source": [
        "print(len(max(train_x,key=len)))\n",
        "print(len(max(dev_x,key=len)))\n",
        "print(len(max(test_x,key=len)))"
      ],
      "execution_count": 36,
      "outputs": [
        {
          "output_type": "stream",
          "text": [
            "207\n",
            "157\n",
            "156\n"
          ],
          "name": "stdout"
        }
      ]
    },
    {
      "cell_type": "code",
      "metadata": {
        "id": "wYZa62uaPXMU",
        "colab_type": "code",
        "colab": {
          "base_uri": "https://localhost:8080/",
          "height": 34
        },
        "outputId": "abc32792-1b4e-4f74-a088-8d5fd53bc3b7"
      },
      "source": [
        "gg = []\n",
        "for idx,t in enumerate(test_x):\n",
        "  gg.append((len(t),idx))\n",
        "sorted(gg,key=lambda x:x[0],reverse=True)[:5]"
      ],
      "execution_count": 37,
      "outputs": [
        {
          "output_type": "execute_result",
          "data": {
            "text/plain": [
              "[(156, 1487), (141, 1987), (131, 645), (116, 3490), (113, 2504)]"
            ]
          },
          "metadata": {
            "tags": []
          },
          "execution_count": 37
        }
      ]
    },
    {
      "cell_type": "code",
      "metadata": {
        "id": "LiOBXPJP_t-k",
        "colab_type": "code",
        "colab": {}
      },
      "source": [
        "MAX_LEN = 227\n",
        "#MAX_LEN = 133"
      ],
      "execution_count": 38,
      "outputs": []
    },
    {
      "cell_type": "code",
      "metadata": {
        "id": "SR03e3LX7c7R",
        "colab_type": "code",
        "colab": {
          "base_uri": "https://localhost:8080/",
          "height": 34
        },
        "outputId": "540c93a8-1c41-48b1-f13d-0c06f378dda6"
      },
      "source": [
        "tokenizer.decode(train_x[0])"
      ],
      "execution_count": 39,
      "outputs": [
        {
          "output_type": "execute_result",
          "data": {
            "text/plain": [
              "'<s> we can all agree that any song by niall horan</s></s> oui oui</s>'"
            ]
          },
          "metadata": {
            "tags": []
          },
          "execution_count": 39
        }
      ]
    },
    {
      "cell_type": "code",
      "metadata": {
        "id": "eNDvof9Z_aEA",
        "colab_type": "code",
        "colab": {}
      },
      "source": [
        "attention_mask = []\n",
        "for t in train_x:\n",
        "  N = len(t)\n",
        "  attention_mask.append(list(np.ones(N, dtype=int))+list(np.zeros(MAX_LEN-N, dtype=int)))\n",
        "\n",
        "attention_mask_d = []\n",
        "for t in dev_x:\n",
        "  N = len(t)\n",
        "  attention_mask_d.append(list(np.ones(N, dtype=int))+list(np.zeros(MAX_LEN-N, dtype=int)))\n",
        "\n",
        "attention_mask_t = []\n",
        "for t in test_x:\n",
        "  N = len(t)\n",
        "  attention_mask_t.append(list(np.ones(N, dtype=int))+list(np.zeros(MAX_LEN-N, dtype=int)))"
      ],
      "execution_count": 40,
      "outputs": []
    },
    {
      "cell_type": "code",
      "metadata": {
        "id": "r4RmRSZTDuwW",
        "colab_type": "code",
        "colab": {}
      },
      "source": [
        "attention_mask = np.mat(attention_mask)\n",
        "attention_mask_d = np.mat(attention_mask_d)\n",
        "attention_mask_t = np.mat(attention_mask_t)"
      ],
      "execution_count": 41,
      "outputs": []
    },
    {
      "cell_type": "code",
      "metadata": {
        "id": "rNpQ6MYu-iG3",
        "colab_type": "code",
        "colab": {}
      },
      "source": [
        "train_x = pad_sequences(train_x,  maxlen=MAX_LEN, dtype='int', padding='post', value = 1)\n",
        "dev_x = pad_sequences(dev_x,  maxlen=MAX_LEN, dtype='int', padding='post', value = 1)\n",
        "test_x = pad_sequences(test_x,  maxlen=MAX_LEN, dtype='int', padding='post', value = 1)"
      ],
      "execution_count": 42,
      "outputs": []
    },
    {
      "cell_type": "code",
      "metadata": {
        "id": "WcwPwA0UAf9Q",
        "colab_type": "code",
        "colab": {}
      },
      "source": [
        "token_type_ids = np.zeros((train_x.shape[0],MAX_LEN))\n",
        "token_type_ids_d = np.zeros((dev_x.shape[0],MAX_LEN))\n",
        "token_type_ids_t = np.zeros((test_x.shape[0],MAX_LEN))"
      ],
      "execution_count": 43,
      "outputs": []
    },
    {
      "cell_type": "markdown",
      "metadata": {
        "id": "3uI27jRd8UmJ",
        "colab_type": "text"
      },
      "source": [
        "## Build roBERTa Model"
      ]
    },
    {
      "cell_type": "code",
      "metadata": {
        "id": "SZV35EkAzloN",
        "colab_type": "code",
        "colab": {}
      },
      "source": [
        "def build_model():\n",
        "    ids = tf.keras.layers.Input((MAX_LEN,), dtype=tf.int32)\n",
        "    att = tf.keras.layers.Input((MAX_LEN,), dtype=tf.int32)\n",
        "    tok = tf.keras.layers.Input((MAX_LEN,), dtype=tf.int32)\n",
        "\n",
        "    config = RobertaConfig.from_pretrained('roberta-base', num_labels=43)\n",
        "    bert_model = TFRobertaForSequenceClassification.from_pretrained('roberta-base',config=config)\n",
        "    x = bert_model(ids,attention_mask=att,token_type_ids=tok)\n",
        "    \n",
        "    x1 = tf.keras.layers.Dropout(0.1)(x[0]) \n",
        "    x1 = tf.keras.layers.Dense(43)(x1)\n",
        "    x1 = tf.keras.layers.Activation('sigmoid')(x1)\n",
        "\n",
        "    model = tf.keras.models.Model(inputs=[ids, att, tok], outputs=x1)\n",
        "    optimizer = tf.keras.optimizers.Adam(learning_rate=3e-5)\n",
        "    model.compile(loss='binary_crossentropy', optimizer=optimizer)\n",
        "\n",
        "    return model"
      ],
      "execution_count": 44,
      "outputs": []
    },
    {
      "cell_type": "code",
      "metadata": {
        "id": "K5rocE1Mwtoj",
        "colab_type": "code",
        "colab": {}
      },
      "source": [
        "def build_model_large():\n",
        "    ids = tf.keras.layers.Input((MAX_LEN,), dtype=tf.int32)\n",
        "    att = tf.keras.layers.Input((MAX_LEN,), dtype=tf.int32)\n",
        "    tok = tf.keras.layers.Input((MAX_LEN,), dtype=tf.int32)\n",
        "\n",
        "    config = RobertaConfig.from_pretrained('roberta-large', num_labels=43)\n",
        "    bert_model = TFRobertaForSequenceClassification.from_pretrained('roberta-large',config=config)\n",
        "    x = bert_model(ids,attention_mask=att,token_type_ids=tok)\n",
        "    \n",
        "    x1 = tf.keras.layers.Dropout(0.1)(x[0]) \n",
        "    x1 = tf.keras.layers.Dense(43)(x1)\n",
        "    x1 = tf.keras.layers.Activation('sigmoid')(x1)\n",
        "\n",
        "    model = tf.keras.models.Model(inputs=[ids, att, tok], outputs=x1)\n",
        "    optimizer = tf.keras.optimizers.Adam(learning_rate=3e-5)\n",
        "    model.compile(loss='binary_crossentropy', optimizer=optimizer)\n",
        "\n",
        "    return model"
      ],
      "execution_count": 45,
      "outputs": []
    },
    {
      "cell_type": "code",
      "metadata": {
        "id": "nbK5V_HiWGzK",
        "colab_type": "code",
        "colab": {}
      },
      "source": [
        "def build_model_distil():\n",
        "    ids = tf.keras.layers.Input((MAX_LEN,), dtype=tf.int32)\n",
        "    att = tf.keras.layers.Input((MAX_LEN,), dtype=tf.int32)\n",
        "    tok = tf.keras.layers.Input((MAX_LEN,), dtype=tf.int32)\n",
        "\n",
        "    config = RobertaConfig.from_pretrained('distilroberta-base', num_labels=43)\n",
        "    bert_model = TFRobertaForSequenceClassification.from_pretrained('distilroberta-base',config=config)\n",
        "    x = bert_model(ids,attention_mask=att,token_type_ids=tok)\n",
        "    \n",
        "    x1 = tf.keras.layers.Dropout(0.1)(x[0]) \n",
        "    x1 = tf.keras.layers.Dense(43)(x1)\n",
        "    x1 = tf.keras.layers.Activation('sigmoid')(x1)\n",
        "\n",
        "    model = tf.keras.models.Model(inputs=[ids, att, tok], outputs=x1)\n",
        "    optimizer = tf.keras.optimizers.Adam(learning_rate=3e-5)\n",
        "    model.compile(loss='binary_crossentropy', optimizer=optimizer)\n",
        "\n",
        "    return model"
      ],
      "execution_count": 46,
      "outputs": []
    },
    {
      "cell_type": "markdown",
      "metadata": {
        "id": "Hzt8tTc97_pP",
        "colab_type": "text"
      },
      "source": [
        "### Roberta(Base)"
      ]
    },
    {
      "cell_type": "code",
      "metadata": {
        "id": "WvOYZcjuCjt9",
        "colab_type": "code",
        "colab": {}
      },
      "source": [
        "model = build_model()\n",
        "\n",
        "config = tf.compat.v1.ConfigProto()\n",
        "config.gpu_options.allow_growth = True\n",
        "\n",
        "model.fit([train_x, attention_mask, token_type_ids], train_y, epochs=5, batch_size=32, verbose=1)"
      ],
      "execution_count": null,
      "outputs": []
    },
    {
      "cell_type": "markdown",
      "metadata": {
        "id": "x-lxJLRM8CLN",
        "colab_type": "text"
      },
      "source": [
        "### Boberta (Large)\n",
        "> failed even remove emoji, maxlen=133, the preds are all same\n",
        "\n"
      ]
    },
    {
      "cell_type": "code",
      "metadata": {
        "id": "QfU7CEEwxJGb",
        "colab_type": "code",
        "colab": {}
      },
      "source": [
        "model_large = build_model_large()\n",
        "\n",
        "config = tf.compat.v1.ConfigProto()\n",
        "config.gpu_options.allow_growth = True\n",
        "\n",
        "model_large.fit([train_x, attention_mask, token_type_ids], train_y, epochs=4, batch_size=16, verbose=1)"
      ],
      "execution_count": null,
      "outputs": []
    },
    {
      "cell_type": "markdown",
      "metadata": {
        "id": "fWmSQv388JdO",
        "colab_type": "text"
      },
      "source": [
        "### Pred and Save"
      ]
    },
    {
      "cell_type": "code",
      "metadata": {
        "id": "S6SrvDYoXtUI",
        "colab_type": "code",
        "colab": {}
      },
      "source": [
        "pred = model.predict([dev_x, attention_mask_d, token_type_ids_d])\n",
        "pred_t = model.predict([test_x, attention_mask_t, token_type_ids_t])"
      ],
      "execution_count": null,
      "outputs": []
    },
    {
      "cell_type": "code",
      "metadata": {
        "id": "uP5edQSyvskv",
        "colab_type": "code",
        "colab": {}
      },
      "source": [
        "with open(PATH+'pred_roberta_duplicate2_d.npy', 'wb') as f:\n",
        "    np.save(f, pred)\n",
        "\n",
        "with open(PATH+'pred_roberta_duplicate2_t.npy', 'wb') as f:\n",
        "    np.save(f, pred_t)"
      ],
      "execution_count": null,
      "outputs": []
    },
    {
      "cell_type": "markdown",
      "metadata": {
        "id": "c51hzUCB7qYs",
        "colab_type": "text"
      },
      "source": [
        "## Ensemble Roberta(Base)\n",
        "* 0-16: batch size 32\n",
        "* 16-21: batch size 16\n",
        "* 22-27: batch size 16, epoch 7\n",
        "* 28-31: demoji, batch size 16"
      ]
    },
    {
      "cell_type": "code",
      "metadata": {
        "id": "6J-RWGBE_B8G",
        "colab_type": "code",
        "colab": {}
      },
      "source": [
        "start = 22\n",
        "for i in range(start,start+10):\n",
        "  config = tf.compat.v1.ConfigProto()\n",
        "  config.gpu_options.allow_growth = True\n",
        "  model = build_model()\n",
        "  model.fit([train_x, attention_mask, token_type_ids], train_y, epochs=7, batch_size=16, verbose=1)\n",
        "  pred = model.predict([dev_x, attention_mask_d, token_type_ids_d])\n",
        "  pred_t = model.predict([test_x, attention_mask_t, token_type_ids_t])\n",
        "  with open(PATH+'pred_roberta_duplicate{}_d.npy'.format(i), 'wb') as f:\n",
        "    np.save(f, pred)\n",
        "\n",
        "  with open(PATH+'pred_roberta_duplicate{}_t.npy'.format(i), 'wb') as f:\n",
        "    np.save(f, pred_t)\n",
        "  del model"
      ],
      "execution_count": null,
      "outputs": []
    },
    {
      "cell_type": "code",
      "metadata": {
        "id": "oMCcWlSJ3z1t",
        "colab_type": "code",
        "colab": {}
      },
      "source": [
        "pred = []\n",
        "pred_t = []\n",
        "start = 0\n",
        "end = 31\n",
        "for i in range(start, end+1):\n",
        "  with open(PATH+'pred_roberta_duplicate{}_d.npy'.format(i), 'rb') as f:\n",
        "    a = np.load(f)\n",
        "    pred.append(a)\n",
        "  with open(PATH+'pred_roberta_duplicate{}_t.npy'.format(i), 'rb') as f:\n",
        "    a = np.load(f)\n",
        "    pred_t.append(a)\n",
        "pred = np.mean(pred,axis=0)\n",
        "pred_t = np.mean(pred_t,axis=0)\n",
        "\n",
        "with open(PATH+'pred_roberta_ensemble{}-{}_d.npy'.format(start,end), 'wb') as f:\n",
        "    np.save(f, pred)\n",
        "\n",
        "with open(PATH+'pred_roberta_ensemble{}-{}_t.npy'.format(start,end), 'wb') as f:\n",
        "    np.save(f, pred_t)"
      ],
      "execution_count": 75,
      "outputs": []
    },
    {
      "cell_type": "markdown",
      "metadata": {
        "id": "zPgsuEN6WQ0Z",
        "colab_type": "text"
      },
      "source": [
        "## Ensemble Distilroberta"
      ]
    },
    {
      "cell_type": "code",
      "metadata": {
        "id": "39oc2PCHWQB9",
        "colab_type": "code",
        "colab": {
          "base_uri": "https://localhost:8080/",
          "height": 1000,
          "referenced_widgets": [
            "a994a3ff8be54f9cbe1d27504b8c0478",
            "5d05e31e0e53401da8c268821aadc4af",
            "c2cf9d7ae3b14f8299a0a49d3eb2242e",
            "f0c33819b87843bc84f003aaccb8f19f",
            "7942c17ffca2401b86374bdd595c96b2",
            "c92b5180a18047ae908c0182635efd91",
            "0ce7baa8382c41f280f2a9df9ac828a5",
            "e5abd1961c11450680240bd53be57099",
            "b2acd6073fd145ab84d201749809a398",
            "4844de6ed3c2491897c1ed94dd2fb0a7",
            "b2e7bbf46b4944c2aa7c133e99ffa23f",
            "90d7141a66c54def840235a05d3fc85b",
            "a39757c420364b67aff910ceb69e0d1d",
            "4a88f4eb59ae428ba981cca44c137f43",
            "e38996c565164b2fa5db40f6047f609b",
            "f32fbf1ad9cd4fcfa91516650bf3db54"
          ]
        },
        "outputId": "d9a16709-4248-40b3-e3ea-a8b71afb3023"
      },
      "source": [
        "start = 6\n",
        "for i in range(start,start+10):\n",
        "  config = tf.compat.v1.ConfigProto()\n",
        "  config.gpu_options.allow_growth = True\n",
        "  model = build_model_distil()\n",
        "  model.fit([train_x, attention_mask, token_type_ids], train_y, epochs=5, batch_size=32, verbose=1)\n",
        "  pred = model.predict([dev_x, attention_mask_d, token_type_ids_d])\n",
        "  pred_t = model.predict([test_x, attention_mask_t, token_type_ids_t])\n",
        "  with open(PATH+'pred_distilroberta{}_d.npy'.format(i), 'wb') as f:\n",
        "    np.save(f, pred)\n",
        "\n",
        "  with open(PATH+'pred_distilroberta{}_t.npy'.format(i), 'wb') as f:\n",
        "    np.save(f, pred_t)\n",
        "  del model"
      ],
      "execution_count": null,
      "outputs": [
        {
          "output_type": "display_data",
          "data": {
            "application/vnd.jupyter.widget-view+json": {
              "model_id": "a994a3ff8be54f9cbe1d27504b8c0478",
              "version_minor": 0,
              "version_major": 2
            },
            "text/plain": [
              "HBox(children=(FloatProgress(value=0.0, description='Downloading', max=480.0, style=ProgressStyle(description_…"
            ]
          },
          "metadata": {
            "tags": []
          }
        },
        {
          "output_type": "stream",
          "text": [
            "\n"
          ],
          "name": "stdout"
        },
        {
          "output_type": "display_data",
          "data": {
            "application/vnd.jupyter.widget-view+json": {
              "model_id": "b2acd6073fd145ab84d201749809a398",
              "version_minor": 0,
              "version_major": 2
            },
            "text/plain": [
              "HBox(children=(FloatProgress(value=0.0, description='Downloading', max=487203636.0, style=ProgressStyle(descri…"
            ]
          },
          "metadata": {
            "tags": []
          }
        },
        {
          "output_type": "stream",
          "text": [
            "\n",
            "Epoch 1/5\n",
            "WARNING:tensorflow:Gradients do not exist for variables ['tf_roberta_for_sequence_classification/roberta/pooler/dense/kernel:0', 'tf_roberta_for_sequence_classification/roberta/pooler/dense/bias:0'] when minimizing the loss.\n",
            "WARNING:tensorflow:Gradients do not exist for variables ['tf_roberta_for_sequence_classification/roberta/pooler/dense/kernel:0', 'tf_roberta_for_sequence_classification/roberta/pooler/dense/bias:0'] when minimizing the loss.\n",
            "WARNING:tensorflow:Gradients do not exist for variables ['tf_roberta_for_sequence_classification/roberta/pooler/dense/kernel:0', 'tf_roberta_for_sequence_classification/roberta/pooler/dense/bias:0'] when minimizing the loss.\n",
            "WARNING:tensorflow:Gradients do not exist for variables ['tf_roberta_for_sequence_classification/roberta/pooler/dense/kernel:0', 'tf_roberta_for_sequence_classification/roberta/pooler/dense/bias:0'] when minimizing the loss.\n",
            "843/843 [==============================] - 378s 449ms/step - loss: 0.2094\n",
            "Epoch 2/5\n",
            "843/843 [==============================] - 378s 448ms/step - loss: 0.1604\n",
            "Epoch 3/5\n",
            "843/843 [==============================] - 377s 448ms/step - loss: 0.1502\n",
            "Epoch 4/5\n",
            "843/843 [==============================] - 377s 447ms/step - loss: 0.1422\n",
            "Epoch 5/5\n",
            "843/843 [==============================] - 378s 448ms/step - loss: 0.1351\n",
            "Epoch 1/5\n",
            "WARNING:tensorflow:Gradients do not exist for variables ['tf_roberta_for_sequence_classification_1/roberta/pooler/dense/kernel:0', 'tf_roberta_for_sequence_classification_1/roberta/pooler/dense/bias:0'] when minimizing the loss.\n",
            "WARNING:tensorflow:Gradients do not exist for variables ['tf_roberta_for_sequence_classification_1/roberta/pooler/dense/kernel:0', 'tf_roberta_for_sequence_classification_1/roberta/pooler/dense/bias:0'] when minimizing the loss.\n",
            "WARNING:tensorflow:Gradients do not exist for variables ['tf_roberta_for_sequence_classification_1/roberta/pooler/dense/kernel:0', 'tf_roberta_for_sequence_classification_1/roberta/pooler/dense/bias:0'] when minimizing the loss.\n",
            "WARNING:tensorflow:Gradients do not exist for variables ['tf_roberta_for_sequence_classification_1/roberta/pooler/dense/kernel:0', 'tf_roberta_for_sequence_classification_1/roberta/pooler/dense/bias:0'] when minimizing the loss.\n",
            "843/843 [==============================] - 378s 449ms/step - loss: 0.2221\n",
            "Epoch 2/5\n",
            "843/843 [==============================] - 379s 449ms/step - loss: 0.1622\n",
            "Epoch 3/5\n",
            "843/843 [==============================] - 378s 449ms/step - loss: 0.1505\n",
            "Epoch 4/5\n",
            "843/843 [==============================] - 378s 449ms/step - loss: 0.1423\n",
            "Epoch 5/5\n",
            "843/843 [==============================] - 378s 448ms/step - loss: 0.1344\n",
            "Epoch 1/5\n",
            "WARNING:tensorflow:Gradients do not exist for variables ['tf_roberta_for_sequence_classification_2/roberta/pooler/dense/kernel:0', 'tf_roberta_for_sequence_classification_2/roberta/pooler/dense/bias:0'] when minimizing the loss.\n",
            "WARNING:tensorflow:Gradients do not exist for variables ['tf_roberta_for_sequence_classification_2/roberta/pooler/dense/kernel:0', 'tf_roberta_for_sequence_classification_2/roberta/pooler/dense/bias:0'] when minimizing the loss.\n",
            "WARNING:tensorflow:Gradients do not exist for variables ['tf_roberta_for_sequence_classification_2/roberta/pooler/dense/kernel:0', 'tf_roberta_for_sequence_classification_2/roberta/pooler/dense/bias:0'] when minimizing the loss.\n",
            "WARNING:tensorflow:Gradients do not exist for variables ['tf_roberta_for_sequence_classification_2/roberta/pooler/dense/kernel:0', 'tf_roberta_for_sequence_classification_2/roberta/pooler/dense/bias:0'] when minimizing the loss.\n",
            "843/843 [==============================] - 378s 449ms/step - loss: 0.2299\n",
            "Epoch 2/5\n",
            "843/843 [==============================] - 379s 449ms/step - loss: 0.1623\n",
            "Epoch 3/5\n",
            "843/843 [==============================] - 379s 449ms/step - loss: 0.1489\n",
            "Epoch 4/5\n",
            "843/843 [==============================] - 378s 449ms/step - loss: 0.1399\n",
            "Epoch 5/5\n",
            "843/843 [==============================] - 378s 449ms/step - loss: 0.1316\n",
            "Epoch 1/5\n",
            "WARNING:tensorflow:Gradients do not exist for variables ['tf_roberta_for_sequence_classification_3/roberta/pooler/dense/kernel:0', 'tf_roberta_for_sequence_classification_3/roberta/pooler/dense/bias:0'] when minimizing the loss.\n",
            "WARNING:tensorflow:Gradients do not exist for variables ['tf_roberta_for_sequence_classification_3/roberta/pooler/dense/kernel:0', 'tf_roberta_for_sequence_classification_3/roberta/pooler/dense/bias:0'] when minimizing the loss.\n",
            "WARNING:tensorflow:Gradients do not exist for variables ['tf_roberta_for_sequence_classification_3/roberta/pooler/dense/kernel:0', 'tf_roberta_for_sequence_classification_3/roberta/pooler/dense/bias:0'] when minimizing the loss.\n",
            "WARNING:tensorflow:Gradients do not exist for variables ['tf_roberta_for_sequence_classification_3/roberta/pooler/dense/kernel:0', 'tf_roberta_for_sequence_classification_3/roberta/pooler/dense/bias:0'] when minimizing the loss.\n",
            "843/843 [==============================] - 378s 448ms/step - loss: 0.2039\n",
            "Epoch 2/5\n",
            "843/843 [==============================] - 378s 448ms/step - loss: 0.1576\n",
            "Epoch 3/5\n",
            "843/843 [==============================] - 378s 448ms/step - loss: 0.1469\n",
            "Epoch 4/5\n",
            "843/843 [==============================] - 378s 448ms/step - loss: 0.1387\n",
            "Epoch 5/5\n",
            "843/843 [==============================] - 378s 448ms/step - loss: 0.1308\n",
            "Epoch 1/5\n",
            "WARNING:tensorflow:Gradients do not exist for variables ['tf_roberta_for_sequence_classification_4/roberta/pooler/dense/kernel:0', 'tf_roberta_for_sequence_classification_4/roberta/pooler/dense/bias:0'] when minimizing the loss.\n",
            "WARNING:tensorflow:Gradients do not exist for variables ['tf_roberta_for_sequence_classification_4/roberta/pooler/dense/kernel:0', 'tf_roberta_for_sequence_classification_4/roberta/pooler/dense/bias:0'] when minimizing the loss.\n",
            "WARNING:tensorflow:Gradients do not exist for variables ['tf_roberta_for_sequence_classification_4/roberta/pooler/dense/kernel:0', 'tf_roberta_for_sequence_classification_4/roberta/pooler/dense/bias:0'] when minimizing the loss.\n",
            "WARNING:tensorflow:Gradients do not exist for variables ['tf_roberta_for_sequence_classification_4/roberta/pooler/dense/kernel:0', 'tf_roberta_for_sequence_classification_4/roberta/pooler/dense/bias:0'] when minimizing the loss.\n",
            "843/843 [==============================] - 378s 449ms/step - loss: 0.2133\n",
            "Epoch 2/5\n",
            "843/843 [==============================] - 378s 449ms/step - loss: 0.1594\n",
            "Epoch 3/5\n",
            "843/843 [==============================] - 378s 448ms/step - loss: 0.1484\n",
            "Epoch 4/5\n",
            "843/843 [==============================] - 378s 448ms/step - loss: 0.1400\n",
            "Epoch 5/5\n",
            "843/843 [==============================] - 378s 448ms/step - loss: 0.1324\n",
            "Epoch 1/5\n",
            "WARNING:tensorflow:Gradients do not exist for variables ['tf_roberta_for_sequence_classification_5/roberta/pooler/dense/kernel:0', 'tf_roberta_for_sequence_classification_5/roberta/pooler/dense/bias:0'] when minimizing the loss.\n",
            "WARNING:tensorflow:Gradients do not exist for variables ['tf_roberta_for_sequence_classification_5/roberta/pooler/dense/kernel:0', 'tf_roberta_for_sequence_classification_5/roberta/pooler/dense/bias:0'] when minimizing the loss.\n",
            "WARNING:tensorflow:Gradients do not exist for variables ['tf_roberta_for_sequence_classification_5/roberta/pooler/dense/kernel:0', 'tf_roberta_for_sequence_classification_5/roberta/pooler/dense/bias:0'] when minimizing the loss.\n",
            "WARNING:tensorflow:Gradients do not exist for variables ['tf_roberta_for_sequence_classification_5/roberta/pooler/dense/kernel:0', 'tf_roberta_for_sequence_classification_5/roberta/pooler/dense/bias:0'] when minimizing the loss.\n",
            "843/843 [==============================] - 378s 449ms/step - loss: 0.2228\n",
            "Epoch 2/5\n",
            "843/843 [==============================] - 378s 449ms/step - loss: 0.1594\n",
            "Epoch 3/5\n",
            "843/843 [==============================] - 379s 450ms/step - loss: 0.1480\n",
            "Epoch 4/5\n",
            "843/843 [==============================] - 379s 449ms/step - loss: 0.1397\n",
            "Epoch 5/5\n",
            "843/843 [==============================] - 379s 449ms/step - loss: 0.1324\n",
            "Epoch 1/5\n",
            "WARNING:tensorflow:Gradients do not exist for variables ['tf_roberta_for_sequence_classification_6/roberta/pooler/dense/kernel:0', 'tf_roberta_for_sequence_classification_6/roberta/pooler/dense/bias:0'] when minimizing the loss.\n",
            "WARNING:tensorflow:Gradients do not exist for variables ['tf_roberta_for_sequence_classification_6/roberta/pooler/dense/kernel:0', 'tf_roberta_for_sequence_classification_6/roberta/pooler/dense/bias:0'] when minimizing the loss.\n",
            "WARNING:tensorflow:Gradients do not exist for variables ['tf_roberta_for_sequence_classification_6/roberta/pooler/dense/kernel:0', 'tf_roberta_for_sequence_classification_6/roberta/pooler/dense/bias:0'] when minimizing the loss.\n",
            "WARNING:tensorflow:Gradients do not exist for variables ['tf_roberta_for_sequence_classification_6/roberta/pooler/dense/kernel:0', 'tf_roberta_for_sequence_classification_6/roberta/pooler/dense/bias:0'] when minimizing the loss.\n",
            "843/843 [==============================] - 379s 449ms/step - loss: 0.2016\n",
            "Epoch 2/5\n",
            "843/843 [==============================] - 379s 450ms/step - loss: 0.1552\n",
            "Epoch 3/5\n",
            "843/843 [==============================] - 379s 450ms/step - loss: 0.1448\n",
            "Epoch 4/5\n",
            "843/843 [==============================] - 379s 450ms/step - loss: 0.1372\n",
            "Epoch 5/5\n",
            "843/843 [==============================] - 379s 450ms/step - loss: 0.1298\n",
            "Epoch 1/5\n",
            "WARNING:tensorflow:Gradients do not exist for variables ['tf_roberta_for_sequence_classification_7/roberta/pooler/dense/kernel:0', 'tf_roberta_for_sequence_classification_7/roberta/pooler/dense/bias:0'] when minimizing the loss.\n",
            "WARNING:tensorflow:Gradients do not exist for variables ['tf_roberta_for_sequence_classification_7/roberta/pooler/dense/kernel:0', 'tf_roberta_for_sequence_classification_7/roberta/pooler/dense/bias:0'] when minimizing the loss.\n",
            "WARNING:tensorflow:Gradients do not exist for variables ['tf_roberta_for_sequence_classification_7/roberta/pooler/dense/kernel:0', 'tf_roberta_for_sequence_classification_7/roberta/pooler/dense/bias:0'] when minimizing the loss.\n",
            "WARNING:tensorflow:Gradients do not exist for variables ['tf_roberta_for_sequence_classification_7/roberta/pooler/dense/kernel:0', 'tf_roberta_for_sequence_classification_7/roberta/pooler/dense/bias:0'] when minimizing the loss.\n",
            "843/843 [==============================] - 380s 450ms/step - loss: 0.2230\n",
            "Epoch 2/5\n",
            "843/843 [==============================] - 380s 451ms/step - loss: 0.1620\n",
            "Epoch 3/5\n",
            "843/843 [==============================] - 380s 451ms/step - loss: 0.1504\n",
            "Epoch 4/5\n",
            "843/843 [==============================] - 379s 450ms/step - loss: 0.1421\n",
            "Epoch 5/5\n",
            "843/843 [==============================] - 379s 449ms/step - loss: 0.1345\n",
            "Epoch 1/5\n",
            "WARNING:tensorflow:Gradients do not exist for variables ['tf_roberta_for_sequence_classification_8/roberta/pooler/dense/kernel:0', 'tf_roberta_for_sequence_classification_8/roberta/pooler/dense/bias:0'] when minimizing the loss.\n",
            "WARNING:tensorflow:Gradients do not exist for variables ['tf_roberta_for_sequence_classification_8/roberta/pooler/dense/kernel:0', 'tf_roberta_for_sequence_classification_8/roberta/pooler/dense/bias:0'] when minimizing the loss.\n",
            "WARNING:tensorflow:Gradients do not exist for variables ['tf_roberta_for_sequence_classification_8/roberta/pooler/dense/kernel:0', 'tf_roberta_for_sequence_classification_8/roberta/pooler/dense/bias:0'] when minimizing the loss.\n",
            "WARNING:tensorflow:Gradients do not exist for variables ['tf_roberta_for_sequence_classification_8/roberta/pooler/dense/kernel:0', 'tf_roberta_for_sequence_classification_8/roberta/pooler/dense/bias:0'] when minimizing the loss.\n",
            "843/843 [==============================] - 378s 449ms/step - loss: 0.2415\n",
            "Epoch 2/5\n",
            "843/843 [==============================] - 378s 448ms/step - loss: 0.1622\n",
            "Epoch 3/5\n",
            "843/843 [==============================] - 379s 449ms/step - loss: 0.1499\n",
            "Epoch 4/5\n",
            "843/843 [==============================] - 378s 449ms/step - loss: 0.1415\n",
            "Epoch 5/5\n",
            "843/843 [==============================] - 378s 448ms/step - loss: 0.1335\n",
            "Epoch 1/5\n",
            "WARNING:tensorflow:Gradients do not exist for variables ['tf_roberta_for_sequence_classification_9/roberta/pooler/dense/kernel:0', 'tf_roberta_for_sequence_classification_9/roberta/pooler/dense/bias:0'] when minimizing the loss.\n",
            "WARNING:tensorflow:Gradients do not exist for variables ['tf_roberta_for_sequence_classification_9/roberta/pooler/dense/kernel:0', 'tf_roberta_for_sequence_classification_9/roberta/pooler/dense/bias:0'] when minimizing the loss.\n",
            "WARNING:tensorflow:Gradients do not exist for variables ['tf_roberta_for_sequence_classification_9/roberta/pooler/dense/kernel:0', 'tf_roberta_for_sequence_classification_9/roberta/pooler/dense/bias:0'] when minimizing the loss.\n",
            "WARNING:tensorflow:Gradients do not exist for variables ['tf_roberta_for_sequence_classification_9/roberta/pooler/dense/kernel:0', 'tf_roberta_for_sequence_classification_9/roberta/pooler/dense/bias:0'] when minimizing the loss.\n",
            "843/843 [==============================] - 379s 450ms/step - loss: 0.1976\n",
            "Epoch 2/5\n",
            "843/843 [==============================] - 380s 450ms/step - loss: 0.1563\n",
            "Epoch 3/5\n",
            "843/843 [==============================] - 381s 452ms/step - loss: 0.1473\n",
            "Epoch 4/5\n",
            "843/843 [==============================] - 379s 450ms/step - loss: 0.1399\n",
            "Epoch 5/5\n",
            "843/843 [==============================] - 380s 450ms/step - loss: 0.1332\n"
          ],
          "name": "stdout"
        }
      ]
    },
    {
      "cell_type": "code",
      "metadata": {
        "id": "Yq9QG-MNWfjF",
        "colab_type": "code",
        "colab": {}
      },
      "source": [
        "pred = []\n",
        "pred_t = []\n",
        "start = 0\n",
        "end = 15\n",
        "for i in range(start, end+1):\n",
        "  with open(PATH+'pred_distilroberta{}_d.npy'.format(i), 'rb') as f:\n",
        "    a = np.load(f)\n",
        "    pred.append(a)\n",
        "  with open(PATH+'pred_distilroberta{}_t.npy'.format(i), 'rb') as f:\n",
        "    a = np.load(f)\n",
        "    pred_t.append(a)\n",
        "pred = np.mean(pred,axis=0)\n",
        "pred_t = np.mean(pred_t,axis=0)\n",
        "\n",
        "with open(PATH+'pred_distilroberta_ensemble{}-{}_d.npy'.format(start,end), 'wb') as f:\n",
        "    np.save(f, pred)\n",
        "\n",
        "with open(PATH+'pred_distilroberta_ensemble{}-{}_t.npy'.format(start,end), 'wb') as f:\n",
        "    np.save(f, pred_t)"
      ],
      "execution_count": null,
      "outputs": []
    },
    {
      "cell_type": "markdown",
      "metadata": {
        "id": "RkrjKizy8Nre",
        "colab_type": "text"
      },
      "source": [
        "## Get Result"
      ]
    },
    {
      "cell_type": "code",
      "metadata": {
        "id": "dEUg7jvYtU9q",
        "colab_type": "code",
        "colab": {}
      },
      "source": [
        "def decode_cat(res):\n",
        "    ans = []\n",
        "    for r in res:\n",
        "        temp = [categories[i] for i in r]\n",
        "        ans.append(temp)\n",
        "    return ans"
      ],
      "execution_count": 76,
      "outputs": []
    },
    {
      "cell_type": "code",
      "metadata": {
        "id": "KLSViCQ5rV0n",
        "colab_type": "code",
        "colab": {}
      },
      "source": [
        "results = [np.argsort(res)[::-1][:6] for res in pred]\n",
        "results = decode_cat(results)"
      ],
      "execution_count": 77,
      "outputs": []
    },
    {
      "cell_type": "code",
      "metadata": {
        "id": "jGBfdE5ItNA3",
        "colab_type": "code",
        "colab": {}
      },
      "source": [
        "for idx,t in enumerate(dev):\n",
        "    t['categories'] = results[idx]"
      ],
      "execution_count": 78,
      "outputs": []
    },
    {
      "cell_type": "code",
      "metadata": {
        "id": "q_P5wTdVtkKy",
        "colab_type": "code",
        "colab": {}
      },
      "source": [
        "dev2 = []\n",
        "for line in open(PATH+'dev_unlabeled.json','r'):\n",
        "    dev2.append(json.loads(line))\n",
        "for idx,d in enumerate(dev):\n",
        "    dev2[idx]['categories']=d['categories']"
      ],
      "execution_count": 79,
      "outputs": []
    },
    {
      "cell_type": "code",
      "metadata": {
        "id": "7eweRTxwtk8G",
        "colab_type": "code",
        "colab": {}
      },
      "source": [
        "for i in dev2:\n",
        "  with open('dev.json', 'a', encoding='utf-8') as f:\n",
        "    json.dump(i, f, ensure_ascii=False)\n",
        "    f.write('\\n')"
      ],
      "execution_count": 80,
      "outputs": []
    },
    {
      "cell_type": "code",
      "metadata": {
        "id": "BU4Joy6BsOMh",
        "colab_type": "code",
        "colab": {}
      },
      "source": [
        ""
      ],
      "execution_count": null,
      "outputs": []
    }
  ]
}